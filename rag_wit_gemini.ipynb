{
 "cells": [
  {
   "cell_type": "markdown",
   "metadata": {},
   "source": [
    "# Conversational Agent with Retrieval Augmented Generation"
   ]
  },
  {
   "cell_type": "markdown",
   "metadata": {},
   "source": [
    "### Step 1: Import necessary libraries"
   ]
  },
  {
   "cell_type": "code",
   "execution_count": 1,
   "metadata": {},
   "outputs": [
    {
     "name": "stderr",
     "output_type": "stream",
     "text": [
      "/home/codespace/.local/lib/python3.12/site-packages/tqdm/auto.py:21: TqdmWarning: IProgress not found. Please update jupyter and ipywidgets. See https://ipywidgets.readthedocs.io/en/stable/user_install.html\n",
      "  from .autonotebook import tqdm as notebook_tqdm\n"
     ]
    }
   ],
   "source": [
    "# Standard library imports\n",
    "import os  # For interacting with the operating system, e.g., file paths\n",
    "import asyncio  # For managing asynchronous tasks\n",
    "\n",
    "# Third-party library imports\n",
    "from dotenv import load_dotenv  # For loading environment variables from a .env file\n",
    "from PyPDF2 import PdfReader  # For reading PDF files\n",
    "import tqdm  # For displaying progress bars in loops\n",
    "\n",
    "# LangChain imports - Core functionality\n",
    "from langchain.text_splitter import RecursiveCharacterTextSplitter  # For splitting text into manageable chunks\n",
    "from langchain.prompts import PromptTemplate  # For defining and managing prompt templates\n",
    "from langchain.chains.combine_documents import create_stuff_documents_chain  # For combining retrieved documents into a coherent chain\n",
    "from langchain.globals import set_debug  # For enabling debug mode in LangChain\n",
    "\n",
    "# LangChain - Google Generative AI integrations\n",
    "from langchain_google_genai import GoogleGenerativeAIEmbeddings  # For generating embeddings using Google Generative AI\n",
    "from langchain_google_genai import ChatGoogleGenerativeAI  # For chat-based interactions with Google Generative AI\n",
    "\n",
    "# LangChain - Vector store\n",
    "from langchain_community.vectorstores import FAISS  # For storing and retrieving embeddings using the FAISS library\n",
    "\n",
    "# LangChain - Advanced prompt management and messages\n",
    "from langchain_core.prompts import ChatPromptTemplate, MessagesPlaceholder  # For creating structured chat prompts\n",
    "from langchain_core.messages import HumanMessage, AIMessage  # For handling human and AI messages\n",
    "from langchain_core.output_parsers import StrOutputParser  # For parsing string outputs from models\n",
    "from langchain_core.runnables import RunnableBranch  # For creating branches in the chain of execution\n",
    "\n",
    "from typing import Dict\n",
    "from langchain_core.runnables import RunnablePassthrough\n",
    "\n",
    "import nest_asyncio\n",
    "import weave\n",
    "nest_asyncio.apply()\n"
   ]
  },
  {
   "cell_type": "markdown",
   "metadata": {},
   "source": [
    "### Step 2: Setting Up Environment Variables and PDF Path\n",
    "\n",
    "In this section, we:\n",
    "1. **Load Environment Variables**: We use the `load_dotenv()` function to load key-value pairs from a `.env` file into the environment. This allows us to securely manage sensitive information such as API keys.\n",
    "   - The API key for Google Generative AI is stored in an environment variable called `GOOGLE_API_KEY`.\n",
    "2. **Define the PDF Path**: The `pdf_path` variable specifies the location of the PDF file that we will process in subsequent steps.\n",
    "   - Ensure that the file exists at the specified path before proceeding."
   ]
  },
  {
   "cell_type": "code",
   "execution_count": 2,
   "metadata": {},
   "outputs": [],
   "source": [
    "load_dotenv()\n",
    "key = os.getenv(\"GOOGLE_API_KEY\")\n",
    "pdf_path = \"data/nihms-1901028.pdf\""
   ]
  },
  {
   "cell_type": "markdown",
   "metadata": {},
   "source": [
    "### Step 3: Reading and Extracting Text from the PDF\n",
    "\n",
    "In this step, we process the PDF file to extract its textual content.\n",
    "\n",
    "1. **Open the PDF File**\n",
    " \n",
    "2. **Initialize the PDF Reader**: We use the `PdfReader` class from the `PyPDF2` library to parse the PDF.\n",
    "\n",
    "3. **Extract Text**: \n",
    "   - A generator expression iterates over all pages in the PDF, using `page.extract_text()` to extract the text content of each page.\n",
    "   - Pages that do not contain text are skipped (`if page.extract_text()`).\n",
    "\n",
    "4. **Combine Text**: The extracted text from all pages is concatenated into a single string using `\"\".join(...)`.\n",
    "\n",
    "#### Notes:\n",
    "- If the PDF is large, this approach might consume significant memory. For large PDFs, consider processing pages in smaller batches.\n",
    "- The output variable `text` contains all the text extracted from the PDF and will be used in subsequent steps."
   ]
  },
  {
   "cell_type": "code",
   "execution_count": 3,
   "metadata": {},
   "outputs": [
    {
     "data": {
      "text/plain": [
       "'High and normal protein diets improve body composition and \\nglucose control in adults with type 2 diabetes: A randomized \\ntrial\\nJulianne G. Clina1, R. Drew Sayer1,3, Zhaoxing Pan2, Caroline W. Cohen3, Michael T. \\nMcDermott4, Victoria A. Catenacci4, Holly R. Wyatt1,5, James O. Hill1\\n1Department of Nutrition Sciences, University of Alabama at Birmingham\\n2Department of Pediatrics, University of Colorado Anschutz Medical Campus\\n3Department of Family and Community Medicine, University of Alabama at Birmingham\\n4Division of Endocrinology, Metabolism and Diabetes, University of Colorado School of Medicine, \\nAurora, Colorado\\n5Anschutz Health and Wellness Center, University of Colorado Anschutz Medical Campus\\nAbstract\\nObjective:\\xa0 Weight loss of ≥10% improves glucose control and may remit type 2 diabetes \\n(T2D). High protein (HP) diets are commonly used for weight loss, but whether protein \\nsources, especially red meat, impact weight loss-induced T2D management is unknown. This \\ntrial compared a HP diet including red meat and normal protein (NP) without red meat for weight \\nloss, body composition changes, and glucose control in individuals with T2D.\\nMethods:\\xa0 106 adults (80 female) with T2D consumed a HP (40% protein) diet with ≥4 weekly \\nservings of lean beef or a NP (21% protein) diet excluding red meat during a 52-week weight \\nloss intervention. Body weight, body composition, and cardiometabolic parameters were measured \\nbefore and after intervention.\\nResults:\\xa0 Weight loss was not different between HP (−10.2±1.6 kg) and NP (−12.7±4.8 kg, \\np=0.336). Both groups reduced fat mass and increased fat free mass percent. Hemoglobin A1c, \\nglucose, insulin, insulin resistance, blood pressure, and triglycerides improved with no differences \\nbetween groups.\\nConclusions:\\xa0 The lack of observed effects of dietary protein and red meat consumption on \\nweight loss and improved cardiometabolic health suggest that achieved weight loss – rather than \\ndiet composition – should be the principal target of dietary interventions for T2D management.\\nContact Info:  R. Drew Sayer, Community Health Services Building (CH20) 307B, 930 20th St S, Birmingham, AL 35294, \\nsayerd@uab.edu.\\nAuthor Contribution:  JOH, HJW, and RDS conceived the research project; JGC and CWC conducted the research; ZP performed the \\nstatistical analyses; JGC drafted the manuscript and RDS, JOH, HJW, RDS, CWC, MTM, V AC, and ZP provided critical feedback and \\nedits to the manuscript. All authors take responsibility for the final content of the manuscript.\\nClinical Trial Registration:  National Clinical Trial NCT03832933\\nDisclosure:\\nAll other authors declare no conflicts of interest.\\nHHS Public Access\\nAuthor manuscript\\nObesity (Silver Spring) . Author manuscript; available in PMC 2024 August 01.\\nPublished in final edited form as:\\nObesity (Silver Spring) . 2023 August ; 31(8): 2021–2030. doi:10.1002/oby.23815.\\nAuthor Manuscript Author Manuscript Author Manuscript Author ManuscriptKeywords\\nobesity; weight loss; body composition; type 2 diabetes\\nIntroduction\\nType 2 diabetes (T2D) affects over 30 million adults in America and presents numerous \\npublic health challenges [ 1]. T2D is a major risk factor for cardiovascular disease [ 2], kidney \\ndisease [ 3, 4], amputation [ 5–7], certain cancers [ 8], and blindness [ 9, 10], which results in \\na major cost burden to the healthcare system [ 1]. The primary risk factor for T2D is obesity, \\nwith the majority of those with T2D having overweight or obesity [ 11, 12]. Obesity also \\nincreases the risk of several other co-morbid conditions including heart disease and stroke \\n[11, 13, 14]. It has been demonstrated that both T2D and obesity can be treated with lifestyle \\nmodification. For example, in DiRECT (Diabetes Remission Clinical Trial) weight loss of \\n10 to 15 kg resulted in the remission of T2D in a majority of individuals who had been \\nwho had been diagnosed with T2D within the past 6 years. Nearly 9 in 10 of individuals \\nachieving more than 15 kg of weight loss remitted their T2D [ 15]. While it is clear that \\nweight loss is associated with improvements in T2D, the role of diet composition in the \\nreversal of T2D presents a gap in knowledge.\\nHigher protein diets are an attractive target for lifestyle-based interventions for the treatment \\nof T2D. High protein diets, especially when combined with exercise, produce greater weight \\nloss and prevent losses of fat free mass (FFM) compared to lower protein diets [ 16–18]. In \\npremenopausal women with obesity without diabetes, a high protein diet improved insulin \\nsensitivity more than a high carbohydrate diet even though achieved weight loss was not \\ndifferent between diets (high protein: 9.8 ± 1.4%, high carbohydrate: 9.3 ± 1.6%, p = \\n0.9323) [ 19]. Conversely, a study in post-menopausal women found that consuming a high \\nprotein diet during weight loss eliminated the beneficial effects of 10% weight loss on \\ninsulin action and sensitivity [ 20]. These conflicting results suggest that additional studies \\non the amount and sources of dietary protein during weight loss are needed to determine its \\ninfluence on weight loss induced improvements in T2D.\\nRed meats –and beef in particular –are important contributors to dietary protein intakes \\nin the United States [ 21]. However, some observational studies have associated red \\nmeat consumption with higher risk of T2D, leading to recommendations to limit its \\nconsumption [ 22, 23]. Recommendations to limit red meat consumption are based mostly \\non observational data, while findings from randomized clinical trials usually find a neutral \\neffect of red meat consumption on health outcomes [ 24–28]. A recent meta-analysis found \\nno differences in most glycemic and insulinemic risk factors associated with T2D when \\ncomparing reduced or no red meat diets to diets that contained red meat [ 29]. However, \\nthe impact on red meat consumption during weight loss among people with T2D remains \\nambiguous. Thus, it would be important to know whether beef can be part of a HP dietary \\nplan to reverse T2D by contributing to weight and fat loss and improving weight loss \\nmaintenance.Clina et al. Page 2\\nObesity (Silver Spring) . Author manuscript; available in PMC 2024 August 01.\\nAuthor Manuscript Author Manuscript Author Manuscript Author ManuscriptThe purpose of this randomized clinical trial was to compare a high protein diet (HP) versus \\na normal protein diet (NP) for weight loss, body composition changes, and indicators of type \\n2 diabetes status during a 52-week behavioral weight loss intervention. Both intervention \\ndiets were energy-restricted, and the HP diet included recommendations to include lean \\nbeef in the diet whereas the NP was instructed to refrain from eating any red meats for the \\nduration of the stud. The hypotheses were the HP diet would lead to greater weight loss, \\npreferential loss of fat mass compared to fat free mass, and greater improvements glucose \\ncontrol and cardiometabolic health.\\nMethods\\nParticipants\\nOne hundred and six individuals (80 female) began the intervention and were recruited \\nfrom the Denver, CO (n=39) and Birmingham, AL (n=67) metropolitan areas using letters, \\ninternet advertisements, and news advertisements to participate in the trial. A diagram \\ndepicting participant flow is presented in Figure 1. The study was conducted in three \\ncohorts, with approximately 35 participants in each cohort. Cohort 1 was from the Denver, \\nCO area and began the intervention in January 2020. Cohorts 2 and 3 were from the \\nBirmingham, AL area and began in February 2020 and April 2021, respectively. Participants \\nwere required to be at least 18 years old, BMI ≥27 kg/m2, T2D diagnosis within the past 6 \\nyears (documented physician diagnosis, fasting glucose ≥126 mg/dl, or HbA1c ≥6.5%), be \\nweight stable (±3 kg in the past 3 months), and be stable on all medications for the past 3 \\nmonths. Regarding eligibility criteria for T2D diagnosis, participants were enrolled who had \\na recent diagnosis as described above without meeting the threshold for fasting glucose or \\nHbA1c if that participant was on medication to manage their T2D, which would lower these \\nvalues. Exclusion criteria were: HbA1c ≥ 12%, current eating disorder (anorexia or bulimia), \\ndependence on illicit drugs or alcohol, untreated hypothyroidism, currently using insulin or \\nother drugs known to cause weight loss or gain (including GLP-1 of SGLT-2 medications, \\nsteroids, tricyclic antidepressants, chemotherapy, antipsychotics, prescribed or OTC weight \\nloss agent), following a vegetarian or vegan diet, any illness or injury that would make it \\nunsafe to follow a diet and/or exercise up to 70 minutes at a moderate intensity regularly, \\nand women who were pregnant, lactating, trying to become pregnant, or who had been \\npregnant or lactating in the last six months. Criteria for diabetes diagnoses were confirmed \\nthrough medical records or doctor reports, blood biomarkers were confirmed via a blood \\ntest at the screening visit, and all other criteria were confirmed by self-report. The study \\nprotocol was reviewed and approved the Institutional Review Boards at the University of \\nAlabama at Birmingham and University of Colorado Anschutz Medical Campus. The study \\nwas registered on clinicaltrials.gov  as NCT03832933 .\\nExperimental Design\\nAll participants followed the State of Slim (SOS) weight management program for the first \\n16 weeks of the program, which consisted of weekly group classes led by a trained coach. \\nParticipants received copies of the SOS book, copies of the course materials, and access \\nto the online community. After the first 16 weeks, participants participated in the SOS \\nNext Steps program which consists of 18 bi-weekly group classes for the remainder of the Clina et al. Page 3\\nObesity (Silver Spring) . Author manuscript; available in PMC 2024 August 01.\\nAuthor Manuscript Author Manuscript Author Manuscript Author Manuscriptintervention. Participants were randomly assigned to one of two diet groups: the high protein \\ngroup (HP) with instructions to consume ≥4 weekly servings of lean beef as the only source \\nof red meat or a normal protein group (NP) with instructions to not eat red meat for the \\nduration of the study and followed a modified SOS diet that reduced protein intake.\\nDiet Intervention\\nThe SOS plan is broken up into three distinct phases, each of which having food lists for \\nparticipants to choose from as well as defined portion sizes for each food. Typically, the \\nSOS plan is a high-protein, low fat diet plan that emphasizes non starchy and whole-grain \\ncarbohydrates. The SOS plan also has five diet rules that are to be followed throughout \\neach phase: (1) Eat five to six times per day. (2) Eat breakfast within 1 hour of waking. \\n(3) Do not count calories; instead, measure portions. (4) Have the right protein mix at each \\nmeal (one carbohydrate and one protein at each meal). (5) Eat a healthy fat twice a day. \\nFood lists for the HP and NP groups were similar, with the exception of the HP group \\nbeing asked to consume lean beef ≥4 times per week and the portion sizes for the protein \\nbeing reduced for the NP group. Approximate carbohydrate and protein compositions were \\n32% and 40% of total energy for the HP diet, respectively and 53% and 21% for the NP \\ndiet, respectively. Recommended fat intakes were similar for HP (28% of total energy) \\nand NP (26%). Food lists for each phase given to participants with adjusted portion sizes \\nare presented in supplemental tables 1, 2, and 3. In addition, participants worked up to \\nexercising up to 70 minutes per day, 6 days per week as a part of the program.\\nSelf-reported energy intake and macronutrient distribution were not tracked during the study \\nbecause a principal component of the SOS program is to focus on portion sizes as opposed \\nto counting calories (Diet Rule #3). Participants did complete food logs throughout the \\nintervention, however these were used as a self-monitoring tool to enhance weight loss [ 30], \\nand not intended to measure energy intake or macronutrient distribution. Per the diet rules, \\na detailed food log designed to capture these data would be inconsistent with the program \\ngoals and structure. Further, self-reported measured of food intake are unreliable, and their \\nsuitability for clinical research has been questioned [ 31].\\nParticipants were instructed that clinical decision making as regards T2D management was \\nto be made with their primary care provider, but participants were asked to report any \\nmedication changes to research staff as soon as feasible. Study staff also queried participants \\non any medication changes on a monthly basis throughout the study period.\\nProtocol Modifications due to COVID-19\\nThe original plan for this intervention was for SOS classes to be held in-person. The onset \\nof lockdown orders in the spring of 2020 due to the COVID-19 pandemic required that \\nclasses be moved to an online platform (Zoom). The online intervention format was used \\nfor the remainder of the trial. The group classes were switched to the online format for \\ncohort 1 (Colorado) at week 7 of the intervention and at week 4 for cohort 2 (Alabama). The \\nintervention for cohort 3 (Alabama) was conducted entirely online. Weekly self-weighing \\nwas completed at home with pictures of scale weight sent to the health coaches in lieu \\nof weighing in-person before each class. Additionally, the Week 16 study visits became Clina et al. Page 4\\nObesity (Silver Spring) . Author manuscript; available in PMC 2024 August 01.\\nAuthor Manuscript Author Manuscript Author Manuscript Author Manuscriptat-home study visits for cohorts 1 and 2 with limited data collection due to university-wide \\nrestrictions on in-person clinical research at the University of Colorado Anschutz Medical \\nCampus and the University of Alabama at Birmingham. Participants were sent a link to \\na video call with research staff, who conducted the visit. For this manuscript, baseline \\nand week 52 data were used to assess study outcomes due to the limited data collection \\ntechniques used during the week 16 visits.\\nAnthropometric Measurements\\nBody weight was measured at baseline and week 52 using a digital platform scale \\n(Colorado: Tanita BWB-800 Digital scale, Tanita Cooperation of America, Inc., Arlington \\nHeights, Illinois; Alabama: DETECTO BRW1000, DETECTO, Webb City, MO) in a fasted \\nstate in clinic with participants wearing light clothing after voiding. Height was measured \\nusing a stadiometer in clinic at the screening visit. Body Mass Index (BMI, kg/m2) was \\ncalculated using these measurements. Body composition (fat and lean mass) was measured \\nusing dual x ‐ray absorptiometry at baseline and week 52 (Colorado: Horizon W, APEX \\nsoftware version 5.6.05 Hologic, Inc., Marlborough, MA, USA; Alabama GE Lunar Prodigy \\nPrimo, enCORE software version 15.10.046, GE Healthcare, Chicago, IL, USA). Waist \\ncircumference (WC) was measured at the border of the iliac crest in duplicate in accordance \\nwith the National Institutes of Health recommendations [ 32], measured at baseline and week \\n52.\\nCardiometabolic Health\\nBlood samples were obtained at baseline and week 52 from an antecubital vein by a \\ntrained phlebotomist. Samples were processed and analyzed for glucose, total cholesterol, \\nlow‐density lipoprotein cholesterol (LDL; calculated), high ‐density lipoprotein cholesterol \\n(HDL), triglycerides, HbA1c, and blood urea nitrogen (BUN). Blood samples were \\nprocessed at the University of Alabama Outreach Lab for Alabama samples and at \\nUniversity of Colorado Hospital Clinical Lab for screening and at the Adult CTRC Core lab \\nfor baseline and week 52 visits for Colorado samples. Blood pressure was measured at each \\nin-person study visit using at the left upper arm using an automatic sphygmomanometer \\n(Colorado: Datascope Trio, (Serial# MC07547-A5) Digital Patient Monitor; Alabama, \\nOmron 3-Series Upper Arm Blood Pressure Monitor, OMRON Healthcare Inc., Kyoto, \\nJapan). Blood pressure was measured after the participant rested quietly in a seated position \\nfor ≥5 min with participants’ legs uncrossed and back and arms supported. The measurement \\nwas taken two times and if the reading differed by more than 5 mmHg, a third measurement \\nwas obtained.\\nStatistical Analyses\\nAll study data were collected and managed using REDCap electronic data capture tools \\nhosted at the University of Alabama at Birmingham and University of Colorado Denver [ 33, \\n34]. REDCap is a secure, web-based software platform designed to support data capture \\nfor research studies, providing (1) an intuitive interface for validated data capture; (2) audit \\ntrails for tracking data manipulation and export procedures; (3) automated export procedures \\nfor seamless data downloads to common statistical packages; and (4) procedures for data Clina et al. Page 5\\nObesity (Silver Spring) . Author manuscript; available in PMC 2024 August 01.\\nAuthor Manuscript Author Manuscript Author Manuscript Author Manuscriptintegration and interoperability with external sources. All analyses were completed using \\nSAS (version 9.4, 2002–2012 by SAS Institute Inc.).\\nA sample size of 120 participants was targeted based on findings from the Beef WISE \\nStudy [ 25] to detect a 2.75 kg difference in weight loss between the HP and NP. Weight \\nloss achieved by the ‘Beef’ group in the Beef WISE Study was 8.9±6.0 kg, and this \\ngroup received the same dietary plan and counseling as the HP group in the current \\nstudy. Assuming a similar amount and variability in achieved weight loss, statistical power \\ncalculations indicated that sample size of 112 (56 per group) would provide >80% power ( α \\n= 0.05) to detect a 2.75 kg difference in weight loss.\\nBaseline characteristics were assessed by diet group (HP and NP) as well as the total of \\nthe whole sample. Randomization was performed by the statistician and was stratified by \\nage, sex, BMI, and years since diagnosis of T2D. Differences in baseline characteristic \\nwere assessed using paired t-tests or Chi-squared tests. Linear mixed models (LMM) with \\nunstructured covariance were used to test the effect of diet group, time, and their interaction \\nterm for changes in body weight and composition, and cardiometabolic health using and \\nintention to treat approach (ITT), meaning that all participants that were randomized and \\nhave one or more measures were included in LMM analyses regardless of completion of \\nprotocol or adherence. Differences in frequency of reducing or discontinuing medication for \\nT2D was assessed using Chi-squared tests. SAS 9.4 was used for all the analyses. P<0.05 is \\ndeemed statistically significant.\\nResults\\nBaseline Characteristics of Participants\\nBaseline characteristic of participants are presented in Table 1. No differences in any \\nbaseline characteristics were detected between HP and NP. Participant retention at 52 weeks \\ndid not differ between HP and NP (completed: HP n=37 (69.8%); NP n=34 (64.2%), p= \\n0.51).\\nAdverse Events\\nNo adverse events likely to be related to the study were reported by participants in either \\ngroup.\\nWeight Loss and Body Composition\\nChanges in body weight and composition are shown in Figure 2. Total mass was reduced by \\n10.2±1.6 kg (9.4%) in the HP group and 12.7±4.8 kg (11.8%) in the NP group (Figure 2), \\nwith no difference between groups ( p=0.336). Fat mass percent decreased (HP, 46.2±0.8% \\nvs. 41.9±1.1%, p<0.001; NP, 46.6±0.8% vs. 42.8±1.6%, p<0.001) and fat free mass percent \\nincreased (HP, 52.9±0.8% vs. 57.1±1.1%, p<0.001; NP, 51.8±1.6%, vs. 55.4±0.8% p<0.001) \\nin both groups during the intervention period with no significant difference between HP and \\nNP (fat mass percent, p = 0.665; fat free mass percent, p = 0.689). Both the HP and NP \\ngroups reduced waist circumference (HP, 118±2.0 cm vs. 111±2.1 cm, p=<0.001; NP, 117±2 \\ncm vs. 109±2 cm, p=<0.001) and BMI (HP, 38.7±1.0 kg/m2 vs. 35.0±1.0 kg/m2, p=<0.001; Clina et al. Page 6\\nObesity (Silver Spring) . Author manuscript; available in PMC 2024 August 01.\\nAuthor Manuscript Author Manuscript Author Manuscript Author ManuscriptNP, 38.8±1.0 kg/m2 cm vs. 34.4±1.0 kg/m2, p=<0.001) from baseline to week 52, with no \\ndifferences between groups (waist circumference, p=0.934; BMI, p=0.421). Supplemental \\nfigure 1 includes additional plots related to body composition changes by group.\\nIndicators of Type 2 Diabetes\\nChanges in indicators of type 2 diabetes are presented in Table 2. In general, participants \\nreduced HbA1c, fasting glucose and HOMA-IR with no differences in changes between HP \\nand NP. Data describing participants with HbA1c ≥6.5% or fasting glucose ≥126 mg/dL \\n(clinically diagnostic of T2D) at baseline and week 52 by diet group are presented in Table \\n3. At baseline, 73.6% of participants in the HP group and 62.3% of participants in the NP \\ngroup had biomarkers in the range for T2D. Using the ITT approach, 24.5% and 22.6% \\nof participants in the HP and NP groups respectively reduced these values to no longer \\nmeet diagnostic criteria for T2D. Using the completer analyses, these numbers are 38.2% \\nand 38.5% for the HP and NP groups respectively. Four participants in the HP group and \\n1 participant in the NP group were classified as having a negative change, with values at \\nbaseline not meeting criteria for T2D diagnosis, but meeting these criteria at week 52. There \\nwere no differences between diet groups for any changes in T2D indicators. Also during \\nthe trial, n=14 participants (HP, n=5; NP, n=9) discontinued all T2D medications and n=16 \\n(HP, n=7; NP, n=9) reduced at least one T2D medication. The frequency of discontinuing or \\nreducing T2D medications was not statistically different between HP and NP ( p=0.4358).\\nLaboratory Markers\\nChanges in blood pressure, lipids, and BUN are summarized in Table 4. Participants reduced \\nsystolic and diastolic blood pressures, and triglycerides with no differences between groups. \\nBUN was increased in both groups at week 52 compared to baseline with no difference \\nbetween HP and NP. There were no changes in total cholesterol, HDL cholesterol, or LDL \\ncholesterol in either group over the duration of the intervention.\\nDiscussion\\nBoth the HP and NP diet groups significantly reduced weight and improved in key indicators \\nof T2D with no difference between groups. These findings support data suggesting that \\nweight loss is the primary driver of improvements in glucose control. Results from the Look \\nAHEAD (Action for Health in Diabetes) study found that those with a 5–10% reduction \\nin weight had increased odds of achieving a 0.5% reduction in HbA1c (odds ratio 3.52) \\n[35]. Evidence from review papers also suggests that modest weight loss can successfully \\nresult in remission of T2D in many individuals [ 36]. Findings from the current study further \\nsupport the notion that weight loss can produce improvements in glucose control in many \\nwith T2D. Average weight loss in the current study was consistent with that found to cause \\nimprovements in T2D in the majority of participants in DiRECT [ 15]. Our results extend \\nthose of previous research by demonstrating that weight loss is an effective treatment for \\nT2D.\\nContrary to the hypothesis, the HP diet did not result in greater weight loss when compared \\nto the NP diet. Instead, the groups had similar weight loss and body composition changes Clina et al. Page 7\\nObesity (Silver Spring) . Author manuscript; available in PMC 2024 August 01.\\nAuthor Manuscript Author Manuscript Author Manuscript Author Manuscriptfollowing the intervention. It was also hypothesized that the HP group would result in \\npreferential loss of fat mass compared to fat free mass which was also not supported. A \\nrecent review suggested that a weight loss could increase risk of mortality for those recently \\ndiagnosed with T2D potentially as a result in a decline in appendicular lean mass [ 37]. \\nWhile appendicular body composition was not analyzed for the present study, whole-body \\nfat free mass was only slightly reduced with no significant differences between groups. The \\npreferential loss of fat mass in both diet groups in the present study lessens concerns related \\nto potential weight loss-related adverse events.\\nResults from this study also add to the literature regarding the impact of HP diets during \\nweight loss for individuals with T2D. The HP and NP groups had similar reduction in \\nindices of T2D, including HbA1c and fasting glucose. Some trials have demonstrated that \\na HP diet is more beneficial than a high carbohydrate diet in outcomes associated with \\nT2D [ 19, 38]. However, One trial in post-menopausal women demonstrated that a HP diet \\nduring weight loss could negatively insulin action [ 20], however this did not seem to be \\nthe case in the present study, as marked by similar improvements in HOMA-IR across \\ngroups. In the present study, at baseline, 73.6% of participants in the HP group and 62.3% \\nof participants in the NP group had biomarkers in the range for T2D. Notably, inclusion \\ninto the study was based on previously diagnosed T2D but did not require participants to \\npresent with a diagnostic value for A1c or fasting glucose at baseline. This resulted in some \\nparticipants having A1c or fasting glucose below the diabetic range at study entry. This is \\nlikely because many participants were taking T2D medications at baseline and they were \\nnot required to discontinue medications at study entry as has been done in other studies \\nsuch as DiRECT [ 15]. Participants exhibiting indices of T2D was reduced to 35.1% and \\n32.4% in the HP and NP groups, respectively. These findings strongly suggest that achieved \\nweight loss – regardless of dietary pattern – is the primary factor driving improvements \\nin glucose control. This finding has substantial public health implications as it provides a \\ndegree of individual-level flexibility in choosing a dietary pattern that is consistent with \\npatient preferences.\\nThese results demonstrate that the inclusion of lean, minimally processed beef does not \\nimpact the effectiveness of an energy restricted diet to induce weight loss and improvements \\nin cardiometabolic health. Previous work from our group found equivalent changes in body \\nweight and composition between a HP diet including beef and a HP diet excluding all red \\nmeat [ 25]. The present study builds on this work, through the investigation of two diets \\nwith differing recommended macronutrient compositions. From these data, it is evident that \\nminimally processed, lean beef can be safely included in diets when attempting to lose \\nweight and control glucose.\\nA limitation of this trial was that despite giving explicit diet rules and lists to participants, \\nboth groups saw an equivalent increase in BUN from baseline to week 52. This finding \\ncould indicate that the protein composition of the diet groups likely did not reach the \\nintended macronutrient distributions, with the groups consuming similar amounts of protein. \\nThe study might not have been able to detect the true impact on improvements in T2D \\nmarkers because participants discontinued medication as recommended by their primary \\ncare providers. This could mean that the observed intervention could have had a greater Clina et al. Page 8\\nObesity (Silver Spring) . Author manuscript; available in PMC 2024 August 01.\\nAuthor Manuscript Author Manuscript Author Manuscript Author Manuscripteffect if those participants had stayed on their medications. Additionally, the COVID-19 \\npandemic began during the first cohort of the AL and CO groups and lasted throughout the \\nrest of the study. The onset of the pandemic resulted in several methodological changes of \\nthe study and impacted the lives of participants taking part in the intervention. Fortunately, \\nthe SOS program had been previously delivered in a virtual format, so changes to course \\ncontent were minor. Classes were still able to be held at the usual time, but in a virtual \\nsetting. However, research study visits were completely halted for a period during the study, \\nhence the completion of some of the week 16 visits virtually instead of in-person. This \\nchange limited the data that could be collected at this timepoint. In addition, some outcome \\nmeasures tests that were originally collected in person could no longer be collected at all, \\neven when restrictions were lifted, including resting energy expenditure and six-minute walk \\ntest. These two tests were removed because masks were still required in the research facility \\nand since baseline measurements were collected without masks, it was unclear if the use of \\nmasks at future visits would impact results. Some participants who withdrew from the study \\ncited COVID-19 as a primary reason for leaving, such as increased work demands. Total \\nattrition overall was high at 33%, which is likely due in part to the challenges faced during \\nthe COVID-19 pandemic. Despite challenges, the study team was able to adapt swiftly to the \\nnature of the pandemic and continue the intervention and data collection.\\nThese result show that behavioral weight loss programs can produce significant weight loss \\nin those with T2D and that this weight loss can improve glucose control and many other \\naspects of cardiometabolic health. Results also show that avoiding red meat does not provide \\nan advantage either in weight loss or in disease management.\\nSupplementary Material\\nRefer to Web version on PubMed Central for supplementary material.\\nAcknowledgements\\nThe authors acknowledge Jeanne Anne Breen and Aaron Chestnut for their effort in the recruitment, retention, \\nand completion of study visits. The authors would also like to acknowledge Marsha Miller for coaching the SOS \\nclasses at the CO site. Finally, the authors acknowledge the participants for their contribution to the study and time \\nand effort put forth as a part of this trial. Funding for the parent trial was provided by the Beef Checkoff. This \\nwork was also supported by NIH/NCATS Colorado CTSA Grant Number UL1 TR002535 and by Award Number \\nP30DK056336 from the National Institute Of Diabetes And Digestive And Kidney Diseases. The content is solely \\nthe responsibility of the authors and does not necessarily represent the official views of the National Institute Of \\nDiabetes And Digestive And Kidney Diseases or the National Institutes of Health. The corresponding author will \\ncooperate with any requests for data sharing. Any data described in the manuscript will be made available upon \\nrequest pending application and approval.\\nFunding:\\nFunding for this study was provided by The Beef Checkoff/National Cattlemen’s Beef Association and the \\nUniversity of Alabama at Birmingham, Nutrition Obesity Research Center. The financial supporters had no role in \\nthe design and conduct of the study or collection, analysis, and interpretation of the data.\\nJOH and HRW have received royalties from the book, State of Slim. They have ownership in Shakabuku LLC, \\nwhich offers weight loss to the public. HRW has received grant support for unrelated studies from Gelesis, Novo \\nNordisk, Epitome, and General Mills, Inc., and has done consulting for Gelesis and reports speaking fees from \\nNovo Nordisk, and the National Cattlemen’s Beef Association. JOH has received grant funding for unrelated \\nstudies from Gelesis and has done consulting for Gelesis, General Mills, Inc., and McCormick Science Institute. Clina et al. Page 9\\nObesity (Silver Spring) . Author manuscript; available in PMC 2024 August 01.\\nAuthor Manuscript Author Manuscript Author Manuscript Author ManuscriptRDS has received grant support for an unrelated study from General Mills, Inc., and reports speaking fees from the \\nTexas Beef Council.\\nReferences\\n1. Control, C.f.D. and Prevention, National diabetes statistics report: estimates of diabetes and its \\nburden in the United States, 2014. Atlanta, GA: US Department of Health and Human Services, \\n2014. 2014.\\n2. Einarson TR, et al. , Prevalence of cardiovascular disease in type 2 diabetes: a systematic literature \\nreview of scientific evidence from across the world in 2007–2017. Cardiovascular Diabetology, \\n2018. 17(1): p. 83. [PubMed: 29884191] \\n3. Afkarian M, et al. , Kidney disease and increased mortality risk in type 2 diabetes. Journal of the \\nAmerican Society of Nephrology, 2013. 24(2): p. 302–308. [PubMed: 23362314] \\n4. Koye DN, et al. , The global epidemiology of diabetes and kidney disease. Advances in chronic \\nkidney disease, 2018. 25(2): p. 121–132. [PubMed: 29580576] \\n5. Muller IS, et al. , Foot ulceration and lower limb amputation in type 2 diabetic patients in Dutch \\nprimary health care. Diabetes care, 2002. 25(3): p. 570–574. [PubMed: 11874949] \\n6. Shatnawi NJ, et al. , Predictors of major lower limb amputation in type 2 diabetic patients referred \\nfor hospital care with diabetic foot syndrome. Diabetes, metabolic syndrome and obesity: targets \\nand therapy, 2018. 11: p. 313. [PubMed: 29950877] \\n7. Singh N, Armstrong DG, and Lipsky BA, Preventing foot ulcers in patients with diabetes. Jama, \\n2005. 293(2): p. 217–228. [PubMed: 15644549] \\n8. Berster JM and Göke B, Type 2 diabetes mellitus as risk factor for colorectal cancer. Archives of \\nphysiology and biochemistry, 2008. 114(1): p. 84–98. [PubMed: 18465362] \\n9. Cheung N. and Wong TY , Diabetic retinopathy and systemic vascular complications. Progress in \\nretinal and eye research, 2008. 27(2): p. 161–176. [PubMed: 18249026] \\n10. Sasongko MB, et al. , Prevalence of diabetic retinopathy and blindness in Indonesian adults with \\ntype 2 diabetes. American journal of ophthalmology, 2017. 181: p. 79–87. [PubMed: 28669781] \\n11. Albu J. and Pi-Sunyer FX, Obesity and diabetes, in Handbook of obesity. 2003, CRC Press. p. \\n915–934.\\n12. Maggio CA and Pi-Sunyer FX, Obesity and type 2 diabetes. Endocrinology and Metabolism \\nClinics, 2003. 32(4): p. 805–822. [PubMed: 14711063] \\n13. Apovian CM, Obesity: definition, comorbidities, causes, and burden. Am J Manag Care, 2016. \\n22(7 Suppl): p. s176–85. [PubMed: 27356115] \\n14. Schelbert KB, Comorbidities of obesity. Primary Care: Clinics in Office Practice, 2009. 36(2): p. \\n271–285. [PubMed: 19501243] \\n15. Lean ME, et al. , Primary care-led weight management for remission of type 2 diabetes (DiRECT): \\nan open-label, cluster-randomised trial. The Lancet, 2018. 391(10120): p. 541–551.\\n16. Wycherley TP, et al. , Effects of energy-restricted high-protein, low-fat compared with standard-\\nprotein, low-fat diets: a meta-analysis of randomized controlled trials. The American journal of \\nclinical nutrition, 2012. 96(6): p. 1281–1298. [PubMed: 23097268] \\n17. Wycherley TP, et al. , A high-protein diet with resistance exercise training improves weight loss \\nand body composition in overweight and obese patients with type 2 diabetes. Diabetes care, 2010. \\n33(5): p. 969–976. [PubMed: 20150293] \\n18. Leidy HJ, et al. , The role of protein in weight loss and maintenance. The American journal of \\nclinical nutrition, 2015. 101(6): p. 1320S–1329S. [PubMed: 25926512] \\n19. Kitabchi AE, et al. , Effects of high-protein versus high-carbohydrate diets on markers of β-cell \\nfunction, oxidative stress, lipid peroxidation, proinflammatory cytokines, and adipokines in obese, \\npremenopausal women without diabetes: a randomized controlled trial. Diabetes care, 2013. 36(7): \\np. 1919–1925. [PubMed: 23404297] \\n20. Smith Gordon I., et al. , High-Protein Intake during Weight Loss Therapy Eliminates the Weight-\\nLoss-Induced Improvement in Insulin Action in Obese Postmenopausal Women. Cell Reports, \\n2016. 17(3): p. 849–861. [PubMed: 27732859] Clina et al. Page 10\\nObesity (Silver Spring) . Author manuscript; available in PMC 2024 August 01.\\nAuthor Manuscript Author Manuscript Author Manuscript Author Manuscript21. Daniel CR, et al. , Trends in meat consumption in the USA. Public health nutrition, 2011. 14(4): p. \\n575–583. [PubMed: 21070685] \\n22. Barnard N, Levin S, and Trapp C, Correction: Barnard N, et al. Meat Consumption as a Risk Factor \\nfor Type 2 Diabetes. Nutrients 2014, 6, 897–910. Nutrients, 2014. 6(10): p. 4317–4319. [PubMed: \\n24566443] \\n23. Pan A, et al. , Changes in red meat consumption and subsequent risk of type 2 diabetes mellitus: \\nthree cohorts of US men and women. JAMA internal medicine, 2013. 173(14): p. 1328–1335. \\n[PubMed: 23779232] \\n24. Sayer RD, et al. , Dietary Approaches to Stop Hypertension diet retains effectiveness to reduce \\nblood pressure when lean pork is substituted for chicken and fish as the predominant source \\nof protein. The American journal of clinical nutrition, 2015. 102(2): p. 302–308. [PubMed: \\n26063693] \\n25. Sayer R, et al. , Equivalent reductions in body weight during the Beef WISE Study: beef’s role in \\nweight improvement, satisfaction and energy. Obesity science & practice, 2017. 3(3): p. 298–310. \\n[PubMed: 29071106] \\n26. Roussell MA, et al. , Beef in an Optimal Lean Diet study: effects on lipids, lipoproteins, and \\napolipoproteins. The American journal of clinical nutrition, 2012. 95(1): p. 9–16. [PubMed: \\n22170364] \\n27. Roussell M, et al. , Effects of a DASH-like diet containing lean beef on vascular health. Journal of \\nhuman hypertension, 2014. 28(10): p. 600–605. [PubMed: 24943285] \\n28. Magkos F, et al. , Unprocessed red meat in the dietary treatment of obesity: a randomized \\ncontrolled trial of beef supplementation during weight maintenance after successful weight loss. \\nThe American Journal of Clinical Nutrition, 2022.\\n29. Sanders LM, Wilcox ML, and Maki KC, Red meat consumption and risk factors for type 2 \\ndiabetes: a systematic review and meta-analysis of randomized controlled trials. European Journal \\nof Clinical Nutrition, 2022.\\n30. Butryn ML, et al. , Consistent self-monitoring of weight: a key component of successful weight \\nloss maintenance. Obesity (Silver Spring), 2007. 15(12): p. 3091–6. [PubMed: 18198319] \\n31. Dhurandhar NV , et al. , Energy balance measurement: when something is not better than nothing. \\nInternational journal of obesity, 2015. 39(7): p. 1109–1113. [PubMed: 25394308] \\n32. Obesity, N.A.A.f.t.S.o., et al., The practical guide: identification, evaluation, and treatment of \\noverweight and obesity in adults. 2000: National Institutes of Health, National Heart, Lung, and \\nBlood Institute ….\\n33. Harris PA, et al. , The REDCap consortium: Building an international community of software \\nplatform partners. Journal of biomedical informatics, 2019. 95: p. 103208.\\n34. Harris PA, et al. , Research electronic data capture (REDCap)—a metadata-driven methodology \\nand workflow process for providing translational research informatics support. Journal of \\nbiomedical informatics, 2009. 42(2): p. 377–381. [PubMed: 18929686] \\n35. Wing RR, et al. , Benefits of Modest Weight Loss in Improving Cardiovascular Risk Factors in \\nOverweight and Obese Individuals With Type 2 Diabetes. Diabetes Care, 2011. 34(7): p. 1481–\\n1486. [PubMed: 21593294] \\n36. Lau DCW and Teoh H, Benefits of Modest Weight Loss on the Management of Type 2 Diabetes \\nMellitus. Canadian Journal of Diabetes, 2013. 37(2): p. 128–134. [PubMed: 24070804] \\n37. Huang S, et al. , Association of magnitude of weight loss and weight variability with mortality and \\nmajor cardiovascular events among individuals with type 2 diabetes mellitus: a systematic review \\nand meta-analysis. Cardiovascular Diabetology, 2022. 21(1): p. 78. [PubMed: 35578337] \\n38. McAuley K, et al. , Comparison of high-fat and high-protein diets with a high-carbohydrate diet in \\ninsulin-resistant obese women. Diabetologia, 2005. 48: p. 8–16. [PubMed: 15616799] Clina et al. Page 11\\nObesity (Silver Spring) . Author manuscript; available in PMC 2024 August 01.\\nAuthor Manuscript Author Manuscript Author Manuscript Author ManuscriptWhat is already known about this subject?\\n• Weight loss of ≥10% improves can improve glucose control and even remit \\ntype 2 diabetes for some\\n• High protein diets can produce greater weight loss and prevent loss of fat free \\nmass compared to diets lower in protein\\n• Some observational studies recommend limiting red meat consumption to \\nreduce risk for type 2 diabetes, but data from randomized clinical trials \\ngenerally find little to no independent effect of lean red meat consumption.\\nWhat are the new findings in your manuscript?\\n• Both a normal protein diet excluding red meat and a high protein diet \\ncontaining red meat are effective at producing weight loss and improvements \\nin glucose control\\nHow might your results change the direction of research or the focus of clinical \\npractice?\\n• Weight loss, not diet composition, is the primary driver of type 2 diabetes \\nmanagement\\n• Avoiding red meat does not provide additional benefit for weight loss or \\nimprovements in glucose control during a weight loss interventionClina et al. Page 12\\nObesity (Silver Spring) . Author manuscript; available in PMC 2024 August 01.\\nAuthor Manuscript Author Manuscript Author Manuscript Author ManuscriptFigure 1. CONSORT Diagram\\nDiagram of participant flow.Clina et al. Page 13\\nObesity (Silver Spring) . Author manuscript; available in PMC 2024 August 01.\\nAuthor Manuscript Author Manuscript Author Manuscript Author ManuscriptFigure 2. Change in Body Weight and Composition\\nDepicts changes in weight and composition (fat and fat free mass) in kilograms from \\nbaseline to week 52 by diet group. Mixed effects models used to test the effect of diet \\ngroup, time, and their interaction term on body weight and composition changes. Presented \\nas LSMEANS±SE. Both groups had a significantly reduced weight (HP −10.2±1.6 kg; NP \\n−12.5±1.6 kg), fat mass (HP −8.4±1.4 kg; NP −9.1±1.5 kg), and fat-free mass (HP −1.8±0.4 \\nkg; NP −2.9±0.4 kg), but the majority of weight loss was due to fat mass loss. There were \\nno differences in outcomes by diet group in changes in total mass ( p=0.333), fat mass \\n(p=0.735), or fat free mass p=0.056).Clina et al. Page 14\\nObesity (Silver Spring) . Author manuscript; available in PMC 2024 August 01.\\nAuthor Manuscript Author Manuscript Author Manuscript Author ManuscriptAuthor Manuscript Author Manuscript Author Manuscript Author ManuscriptClina et al. Page 15\\nTable 1.\\nBaseline Characteristics of Participants\\nPresent baseline characteristics of participants by diet group assignment. Percent of sample (i.e. % female, % \\nusing medications for T2D), waist circumference, and blood biomarkers rounded to the nearest whole number \\n(except HOMA-IR, HbA1c %, and insulin)\\nParameter HP NP\\nAge, y (M±SD) 54.1 ± 12.0 55.4 ± 9.6\\nDuration of T2D, y (M±SD) 3.2 ± 1.8 3.2 ± 1.6\\nFemale, n (%) 38 (72) 42 (79)\\nUsing Medications for T2D, n (%) 48 (91) 46 (87)\\nAnthropometrics  (M±SD)\\n Weight, kg 108.0 ± 22.8 107.8 ± 26.6\\n BMI, kg/m2 38.7 ± 6.8 38.8 ± 7.3\\n Waist Circumference, cm 118 ± 14 117 ± 15\\n Fat Mass, % 46.2 ± 6.2 46.6 ± 5.9\\n Fat-Free Mass, % 52.9 ± 6.1 52.4 ± 5.8\\nBiomarkers  (M±SD)\\n HOMA-IR 7.6 ± 7.0 5.9 ± 3.4\\n Glucose, mg/dL 134 ± 38 130 ± 40\\n HbA1c, % 7.2 ± 1.0 7.0 ± 1.3\\n Insulin, μIU/mL 22.3 ± 16.5 18.1 ± 11.1\\n BP Systolic, mmHg 135 ± 15 135 ± 15\\n BP Diastolic, mmHg 86 ± 9 86 ± 9\\n Triglycerides, mg/dL 138 ± 71 139 ± 58\\n HDL Cholesterol, mg/dL 47 ± 11 45 ± 9\\n LDL Cholesterol, mg/dL 94 ± 28 95 ± 36\\nRace , n (%)\\n White 37 (70) 30 (57)\\n Black 11 (21) 19 (39)\\n Asian 3 (6) 1 (2)\\n Native Hawaiian or Pacific Islander 1 (2) 0 (0)\\n Other 1 (2) 3 (6)\\nEthnicity , n (%)\\n Hispanic 6 (11) 9 (17)\\n Non-Hispanic 46 (87) 43 (81)\\n Did not report 1 (2) 1 (2)\\nAbbreviations: BMI, body mass index; BP, blood pressure; cm, centimeter; dL, deciliter; HDL, high ‐density lipoprotein cholesterol; HbA1c, \\nhemoglobin A1c; HOMA-IR, Homeostatic Model Assessment for Insulin Resistance; HP, high protein; kg, kilogram; LDL, low ‐density lipoprotein \\ncholesterol; M, mean; m, meter; mg, milligrams; ml, milliliter; mmHg, millimeters of mercury; NP, normal protein; SD, standard deviation; T2D, \\ntype 2 diabetes; y, years; μIU, micro international unit.\\nObesity (Silver Spring) . Author manuscript; available in PMC 2024 August 01.Author Manuscript Author Manuscript Author Manuscript Author ManuscriptClina et al. Page 16\\nTable 2.\\nChanges in Indicators of Type 2 Diabetes by Diet Group\\nParameter Group Baseline Week 52 Mean Change 95% CI for Change P-value\\nGlucose, mg/dL HP 134 (5) 115 (6) −19 (6) (−31.0, −6.8)\\nNP 130 (5) 111 (6) −19 (6) (−31.4, −6.4) 0.999\\nHbA1c, % HP 7.2 (0.2) 6.4 (0.2) −0.8 (0.2) (−1.1, −0.4)\\nNP 7.0 (0.2) 6.5 (0.2) −0.5 (0.2) (−0.9, −0.1) 0.329\\nInsulin, μIU/mL HP 22.3 (1.9) 14.5 (1.7) −7.8 (2.0) (−11.8, −3.7)\\nNP 18.8 (1.9) 11.0 (1.8) −7.8 (2.0) (−12.0, −3.7) 0.979\\nHOMA-IR HP 7.6 (0.8) 4.5 (0.7) −3.1 (0.8) (−4.7, −1.6)\\nNP 5.9 (0.8) 3.2 (0.7) −2.7 (.8) (−4.2, −1.1) 0.657\\nValues presented as LS MEANS (SE) with glucose values rounded to nearest whole number. Values are model based from the ITT analysis \\nperformed, including LS MEANS, change, and 95% CI.\\nP-value represents differences in change between diet groups (HP vs. NP)\\nMixed effects model used to test the effect of time, group, and their interaction term on changes in indicators of type 2 diabetes. Both diet groups \\nreduced, glucose, HbA1c, insulin, and HOMA-IR from baseline to week 52. There were no differences in change in any parameters by diet group \\n(HP vs NP)\\nAbbreviations: dL, deciliter; HbA1c, hemoglobin A1c; HOMA-IR, Homeostatic Model Assessment for Insulin Resistance; HP, high protein; mg, \\nmilligrams; mL, milliliter; NP, normal protein; μIU, micro international unit.\\nObesity (Silver Spring) . Author manuscript; available in PMC 2024 August 01.Author Manuscript Author Manuscript Author Manuscript Author ManuscriptClina et al. Page 17\\nTable 3.\\nChanges in Type 2 Diabetes Status\\nPresents changes in status of Type 2 Diabetes as indicated by HbA1c ≥6.5% or fasting glucose ≥126 mg/dL \\n(clinically diagnostic of T2D) from baseline to week 52 of the trial.\\nITT Approach HP n (%) NP n (%)\\nRemained in abnormal range 7 (13) 12 (23)\\nRemained in normal range 12 (19) 9 (17)\\nPositive change (abnormal to normal value) 13 (25) 12 (23)\\nNegative change (normal to abnormal) 4 (8) 1 (2)\\nUnknown (no paired value) 19 (36) 16 (30)\\nCompleters Analysis\\nRemained in abnormal range 7 (21) 12 (33)\\nRemained in normal range 10 (2) 9 (25)\\nPositive change (abnormal to normal value) 13 (38) 14 (39)\\nNegative change (normal to abnormal) 4 (12) 1 (3)\\nIntention to treat (ITT) and completers analyses are presented. Unknown in the ITT approach refers to participants without either a baseline or \\nweek 52 value, therefore no conclusions could be made regarding change in status. Abnormal value refers to lab values consistent with T2D \\ndiagnosis where normal range refers to values below the criteria for T2D diagnosis. Percentages rounded to nearest whole number.\\nObesity (Silver Spring) . Author manuscript; available in PMC 2024 August 01.Author Manuscript Author Manuscript Author Manuscript Author ManuscriptClina et al. Page 18\\nTable 4.\\nLaboratory Markers Changes by Diet Group\\nValues presented as LS MEANS (SE) rounded to the nearest whole number. Values are model based from the \\nITT analysis performed, including LS MEANS, change, and 95% CI.\\nParameter Group Baseline Week 52 Mean Change 95% CI for Change P-value\\nBP Systolic, mmHg HP 135 (2) 126 (3) −9 (2) (−13.0, −5.1)\\nNP 135 (2) 127 (3) −8 (2) (−12.2, −3.9) 0.719\\nBP Diastolic, mmHg HP 86 (1) 78 (1) −7 (2) (−10.2, −4.2)\\nNP 86 (1) 81 (2) −6 (2) (−8.6, −2.3) 0.430\\nTriglycerides, mg/dL HP 138 (9) 114 (10) −25 (9) (−42.8, −6.1)\\nNP 139 (9) 110 (10) −29 (10) (−48.0, −10.0) 0.732\\nHDL Cholesterol, mg/dL HP 47 (1) 47 (2) 2 (1) (−2.1, 2.9)\\nNP 45 (1) 47 (2) 1 (2) (−0.8, 4.4) 0.448\\nLDL Cholesterol, mg/dL HP 94 (4) 91 (5) −3 (4) (−11.1, 4.6)\\nNP 95 (4) 94 (5) −1 (4) (−9.3, 6.9) 0.718\\nBUN HP 15 (1) 17 (1) 3 (1) (1.5, 4.2)\\nNP 15 (6) 18 (1) 3 (1) (1.2, 4.0) 0.770\\nP-value represents differences in change between diet groups (HP vs. NP)\\nMixed effects model used to test the effect of time, group, and their interaction term on changes in laboratory markers. Both diet groups reduced \\nsystolic and diastolic blood pressures and triglycerides from baseline to week 52. Neither group had changes in HDL or LDL cholesterol from \\nbaseline to week 52. Both groups increased BUN from baseline to week 52. There were no differences in change in any parameters by diet group \\n(HP vs NP)\\nAbbreviations: BUN, blood urea nitrogen; BP, blood pressure; dL, deciliter; HDL, high ‐density lipoprotein cholesterol; HP, high protein; LDL, \\nlow‐density lipoprotein cholesterol; mg, milligrams; mmHg, millimeters of mercury; NP, normal protein.\\nObesity (Silver Spring) . Author manuscript; available in PMC 2024 August 01.'"
      ]
     },
     "execution_count": 3,
     "metadata": {},
     "output_type": "execute_result"
    }
   ],
   "source": [
    "with open(pdf_path, \"rb\") as file:\n",
    "    reader = PdfReader(file)\n",
    "     # Extract text from all pages in the PDF\n",
    "    text = \"\".join(page.extract_text() for page in reader.pages if page.extract_text())\n",
    "    \n",
    "# Display the extracted text\n",
    "text"
   ]
  },
  {
   "cell_type": "markdown",
   "metadata": {},
   "source": [
    "### Step 4: Splitting Text into Manageable Chunks\n",
    "\n",
    "In this step, we divide the extracted text into smaller, overlapping chunks for better processing in later stages.\n",
    "\n",
    "1. **Initialize the Text Splitter**:\n",
    "   - We use the `RecursiveCharacterTextSplitter` from LangChain, which is designed to split large texts into smaller pieces without necessarily respecting semantic coherence.\n",
    "   - Parameters:\n",
    "     - `chunk_size=10000`: Each chunk contains up to 10,000 characters.\n",
    "     - `chunk_overlap=1000`: Adjacent chunks overlap by 1,000 characters. This overlap ensures context is maintained across chunks.\n",
    "\n",
    "3. **Split the Text**:\n",
    "   - The `split_text()` method splits the input text (from the previous step) into chunks based on the specified parameters.\n",
    "   - The resulting `chunks` is a list of strings, each representing a section of the original text.\n",
    "\n",
    "#### Notes:\n",
    "- The choice of `chunk_size` and `chunk_overlap` depends on the use case and model constraints. Larger models can typically handle larger chunks.\n",
    "- The `chunks` will be used in downstream tasks such as retrieval or generation."
   ]
  },
  {
   "cell_type": "code",
   "execution_count": 7,
   "metadata": {},
   "outputs": [
    {
     "name": "stdout",
     "output_type": "stream",
     "text": [
      "['High and normal protein diets improve body composition and \\nglucose control in adults with type 2 diabetes: A randomized \\ntrial\\nJulianne G. Clina1, R. Drew Sayer1,3, Zhaoxing Pan2, Caroline W. Cohen3, Michael T. \\nMcDermott4, Victoria A. Catenacci4, Holly R. Wyatt1,5, James O. Hill1\\n1Department of Nutrition Sciences, University of Alabama at Birmingham\\n2Department of Pediatrics, University of Colorado Anschutz Medical Campus\\n3Department of Family and Community Medicine, University of Alabama at Birmingham\\n4Division of Endocrinology, Metabolism and Diabetes, University of Colorado School of Medicine, \\nAurora, Colorado\\n5Anschutz Health and Wellness Center, University of Colorado Anschutz Medical Campus\\nAbstract\\nObjective:\\xa0 Weight loss of ≥10% improves glucose control and may remit type 2 diabetes \\n(T2D). High protein (HP) diets are commonly used for weight loss, but whether protein \\nsources, especially red meat, impact weight loss-induced T2D management is unknown. This \\ntrial compared a HP diet including red meat and normal protein (NP) without red meat for weight \\nloss, body composition changes, and glucose control in individuals with T2D.\\nMethods:\\xa0 106 adults (80 female) with T2D consumed a HP (40% protein) diet with ≥4 weekly \\nservings of lean beef or a NP (21% protein) diet excluding red meat during a 52-week weight \\nloss intervention. Body weight, body composition, and cardiometabolic parameters were measured \\nbefore and after intervention.\\nResults:\\xa0 Weight loss was not different between HP (−10.2±1.6 kg) and NP (−12.7±4.8 kg, \\np=0.336). Both groups reduced fat mass and increased fat free mass percent. Hemoglobin A1c, \\nglucose, insulin, insulin resistance, blood pressure, and triglycerides improved with no differences \\nbetween groups.\\nConclusions:\\xa0 The lack of observed effects of dietary protein and red meat consumption on \\nweight loss and improved cardiometabolic health suggest that achieved weight loss – rather than', 'Conclusions:\\xa0 The lack of observed effects of dietary protein and red meat consumption on \\nweight loss and improved cardiometabolic health suggest that achieved weight loss – rather than \\ndiet composition – should be the principal target of dietary interventions for T2D management.\\nContact Info:  R. Drew Sayer, Community Health Services Building (CH20) 307B, 930 20th St S, Birmingham, AL 35294, \\nsayerd@uab.edu.\\nAuthor Contribution:  JOH, HJW, and RDS conceived the research project; JGC and CWC conducted the research; ZP performed the \\nstatistical analyses; JGC drafted the manuscript and RDS, JOH, HJW, RDS, CWC, MTM, V AC, and ZP provided critical feedback and \\nedits to the manuscript. All authors take responsibility for the final content of the manuscript.\\nClinical Trial Registration:  National Clinical Trial NCT03832933\\nDisclosure:\\nAll other authors declare no conflicts of interest.\\nHHS Public Access\\nAuthor manuscript\\nObesity (Silver Spring) . Author manuscript; available in PMC 2024 August 01.\\nPublished in final edited form as:\\nObesity (Silver Spring) . 2023 August ; 31(8): 2021–2030. doi:10.1002/oby.23815.\\nAuthor Manuscript Author Manuscript Author Manuscript Author ManuscriptKeywords\\nobesity; weight loss; body composition; type 2 diabetes\\nIntroduction\\nType 2 diabetes (T2D) affects over 30 million adults in America and presents numerous \\npublic health challenges [ 1]. T2D is a major risk factor for cardiovascular disease [ 2], kidney \\ndisease [ 3, 4], amputation [ 5–7], certain cancers [ 8], and blindness [ 9, 10], which results in \\na major cost burden to the healthcare system [ 1]. The primary risk factor for T2D is obesity, \\nwith the majority of those with T2D having overweight or obesity [ 11, 12]. Obesity also \\nincreases the risk of several other co-morbid conditions including heart disease and stroke \\n[11, 13, 14]. It has been demonstrated that both T2D and obesity can be treated with lifestyle', 'increases the risk of several other co-morbid conditions including heart disease and stroke \\n[11, 13, 14]. It has been demonstrated that both T2D and obesity can be treated with lifestyle \\nmodification. For example, in DiRECT (Diabetes Remission Clinical Trial) weight loss of \\n10 to 15 kg resulted in the remission of T2D in a majority of individuals who had been \\nwho had been diagnosed with T2D within the past 6 years. Nearly 9 in 10 of individuals \\nachieving more than 15 kg of weight loss remitted their T2D [ 15]. While it is clear that \\nweight loss is associated with improvements in T2D, the role of diet composition in the \\nreversal of T2D presents a gap in knowledge.\\nHigher protein diets are an attractive target for lifestyle-based interventions for the treatment \\nof T2D. High protein diets, especially when combined with exercise, produce greater weight \\nloss and prevent losses of fat free mass (FFM) compared to lower protein diets [ 16–18]. In \\npremenopausal women with obesity without diabetes, a high protein diet improved insulin \\nsensitivity more than a high carbohydrate diet even though achieved weight loss was not \\ndifferent between diets (high protein: 9.8 ± 1.4%, high carbohydrate: 9.3 ± 1.6%, p = \\n0.9323) [ 19]. Conversely, a study in post-menopausal women found that consuming a high \\nprotein diet during weight loss eliminated the beneficial effects of 10% weight loss on \\ninsulin action and sensitivity [ 20]. These conflicting results suggest that additional studies \\non the amount and sources of dietary protein during weight loss are needed to determine its \\ninfluence on weight loss induced improvements in T2D.\\nRed meats –and beef in particular –are important contributors to dietary protein intakes \\nin the United States [ 21]. However, some observational studies have associated red \\nmeat consumption with higher risk of T2D, leading to recommendations to limit its \\nconsumption [ 22, 23]. Recommendations to limit red meat consumption are based mostly', 'meat consumption with higher risk of T2D, leading to recommendations to limit its \\nconsumption [ 22, 23]. Recommendations to limit red meat consumption are based mostly \\non observational data, while findings from randomized clinical trials usually find a neutral \\neffect of red meat consumption on health outcomes [ 24–28]. A recent meta-analysis found \\nno differences in most glycemic and insulinemic risk factors associated with T2D when \\ncomparing reduced or no red meat diets to diets that contained red meat [ 29]. However, \\nthe impact on red meat consumption during weight loss among people with T2D remains \\nambiguous. Thus, it would be important to know whether beef can be part of a HP dietary \\nplan to reverse T2D by contributing to weight and fat loss and improving weight loss \\nmaintenance.Clina et al. Page 2\\nObesity (Silver Spring) . Author manuscript; available in PMC 2024 August 01.\\nAuthor Manuscript Author Manuscript Author Manuscript Author ManuscriptThe purpose of this randomized clinical trial was to compare a high protein diet (HP) versus \\na normal protein diet (NP) for weight loss, body composition changes, and indicators of type \\n2 diabetes status during a 52-week behavioral weight loss intervention. Both intervention \\ndiets were energy-restricted, and the HP diet included recommendations to include lean \\nbeef in the diet whereas the NP was instructed to refrain from eating any red meats for the \\nduration of the stud. The hypotheses were the HP diet would lead to greater weight loss, \\npreferential loss of fat mass compared to fat free mass, and greater improvements glucose \\ncontrol and cardiometabolic health.\\nMethods\\nParticipants\\nOne hundred and six individuals (80 female) began the intervention and were recruited \\nfrom the Denver, CO (n=39) and Birmingham, AL (n=67) metropolitan areas using letters, \\ninternet advertisements, and news advertisements to participate in the trial. A diagram', 'from the Denver, CO (n=39) and Birmingham, AL (n=67) metropolitan areas using letters, \\ninternet advertisements, and news advertisements to participate in the trial. A diagram \\ndepicting participant flow is presented in Figure 1. The study was conducted in three \\ncohorts, with approximately 35 participants in each cohort. Cohort 1 was from the Denver, \\nCO area and began the intervention in January 2020. Cohorts 2 and 3 were from the \\nBirmingham, AL area and began in February 2020 and April 2021, respectively. Participants \\nwere required to be at least 18 years old, BMI ≥27 kg/m2, T2D diagnosis within the past 6 \\nyears (documented physician diagnosis, fasting glucose ≥126 mg/dl, or HbA1c ≥6.5%), be \\nweight stable (±3 kg in the past 3 months), and be stable on all medications for the past 3 \\nmonths. Regarding eligibility criteria for T2D diagnosis, participants were enrolled who had \\na recent diagnosis as described above without meeting the threshold for fasting glucose or \\nHbA1c if that participant was on medication to manage their T2D, which would lower these \\nvalues. Exclusion criteria were: HbA1c ≥ 12%, current eating disorder (anorexia or bulimia), \\ndependence on illicit drugs or alcohol, untreated hypothyroidism, currently using insulin or \\nother drugs known to cause weight loss or gain (including GLP-1 of SGLT-2 medications, \\nsteroids, tricyclic antidepressants, chemotherapy, antipsychotics, prescribed or OTC weight \\nloss agent), following a vegetarian or vegan diet, any illness or injury that would make it \\nunsafe to follow a diet and/or exercise up to 70 minutes at a moderate intensity regularly, \\nand women who were pregnant, lactating, trying to become pregnant, or who had been \\npregnant or lactating in the last six months. Criteria for diabetes diagnoses were confirmed \\nthrough medical records or doctor reports, blood biomarkers were confirmed via a blood \\ntest at the screening visit, and all other criteria were confirmed by self-report. The study', 'through medical records or doctor reports, blood biomarkers were confirmed via a blood \\ntest at the screening visit, and all other criteria were confirmed by self-report. The study \\nprotocol was reviewed and approved the Institutional Review Boards at the University of \\nAlabama at Birmingham and University of Colorado Anschutz Medical Campus. The study \\nwas registered on clinicaltrials.gov  as NCT03832933 .\\nExperimental Design\\nAll participants followed the State of Slim (SOS) weight management program for the first \\n16 weeks of the program, which consisted of weekly group classes led by a trained coach. \\nParticipants received copies of the SOS book, copies of the course materials, and access \\nto the online community. After the first 16 weeks, participants participated in the SOS \\nNext Steps program which consists of 18 bi-weekly group classes for the remainder of the Clina et al. Page 3\\nObesity (Silver Spring) . Author manuscript; available in PMC 2024 August 01.\\nAuthor Manuscript Author Manuscript Author Manuscript Author Manuscriptintervention. Participants were randomly assigned to one of two diet groups: the high protein \\ngroup (HP) with instructions to consume ≥4 weekly servings of lean beef as the only source \\nof red meat or a normal protein group (NP) with instructions to not eat red meat for the \\nduration of the study and followed a modified SOS diet that reduced protein intake.\\nDiet Intervention\\nThe SOS plan is broken up into three distinct phases, each of which having food lists for \\nparticipants to choose from as well as defined portion sizes for each food. Typically, the \\nSOS plan is a high-protein, low fat diet plan that emphasizes non starchy and whole-grain \\ncarbohydrates. The SOS plan also has five diet rules that are to be followed throughout \\neach phase: (1) Eat five to six times per day. (2) Eat breakfast within 1 hour of waking. \\n(3) Do not count calories; instead, measure portions. (4) Have the right protein mix at each', 'each phase: (1) Eat five to six times per day. (2) Eat breakfast within 1 hour of waking. \\n(3) Do not count calories; instead, measure portions. (4) Have the right protein mix at each \\nmeal (one carbohydrate and one protein at each meal). (5) Eat a healthy fat twice a day. \\nFood lists for the HP and NP groups were similar, with the exception of the HP group \\nbeing asked to consume lean beef ≥4 times per week and the portion sizes for the protein \\nbeing reduced for the NP group. Approximate carbohydrate and protein compositions were \\n32% and 40% of total energy for the HP diet, respectively and 53% and 21% for the NP \\ndiet, respectively. Recommended fat intakes were similar for HP (28% of total energy) \\nand NP (26%). Food lists for each phase given to participants with adjusted portion sizes \\nare presented in supplemental tables 1, 2, and 3. In addition, participants worked up to \\nexercising up to 70 minutes per day, 6 days per week as a part of the program.\\nSelf-reported energy intake and macronutrient distribution were not tracked during the study \\nbecause a principal component of the SOS program is to focus on portion sizes as opposed \\nto counting calories (Diet Rule #3). Participants did complete food logs throughout the \\nintervention, however these were used as a self-monitoring tool to enhance weight loss [ 30], \\nand not intended to measure energy intake or macronutrient distribution. Per the diet rules, \\na detailed food log designed to capture these data would be inconsistent with the program \\ngoals and structure. Further, self-reported measured of food intake are unreliable, and their \\nsuitability for clinical research has been questioned [ 31].\\nParticipants were instructed that clinical decision making as regards T2D management was \\nto be made with their primary care provider, but participants were asked to report any \\nmedication changes to research staff as soon as feasible. Study staff also queried participants', 'to be made with their primary care provider, but participants were asked to report any \\nmedication changes to research staff as soon as feasible. Study staff also queried participants \\non any medication changes on a monthly basis throughout the study period.\\nProtocol Modifications due to COVID-19\\nThe original plan for this intervention was for SOS classes to be held in-person. The onset \\nof lockdown orders in the spring of 2020 due to the COVID-19 pandemic required that \\nclasses be moved to an online platform (Zoom). The online intervention format was used \\nfor the remainder of the trial. The group classes were switched to the online format for \\ncohort 1 (Colorado) at week 7 of the intervention and at week 4 for cohort 2 (Alabama). The \\nintervention for cohort 3 (Alabama) was conducted entirely online. Weekly self-weighing \\nwas completed at home with pictures of scale weight sent to the health coaches in lieu \\nof weighing in-person before each class. Additionally, the Week 16 study visits became Clina et al. Page 4\\nObesity (Silver Spring) . Author manuscript; available in PMC 2024 August 01.\\nAuthor Manuscript Author Manuscript Author Manuscript Author Manuscriptat-home study visits for cohorts 1 and 2 with limited data collection due to university-wide \\nrestrictions on in-person clinical research at the University of Colorado Anschutz Medical \\nCampus and the University of Alabama at Birmingham. Participants were sent a link to \\na video call with research staff, who conducted the visit. For this manuscript, baseline \\nand week 52 data were used to assess study outcomes due to the limited data collection \\ntechniques used during the week 16 visits.\\nAnthropometric Measurements\\nBody weight was measured at baseline and week 52 using a digital platform scale \\n(Colorado: Tanita BWB-800 Digital scale, Tanita Cooperation of America, Inc., Arlington \\nHeights, Illinois; Alabama: DETECTO BRW1000, DETECTO, Webb City, MO) in a fasted', '(Colorado: Tanita BWB-800 Digital scale, Tanita Cooperation of America, Inc., Arlington \\nHeights, Illinois; Alabama: DETECTO BRW1000, DETECTO, Webb City, MO) in a fasted \\nstate in clinic with participants wearing light clothing after voiding. Height was measured \\nusing a stadiometer in clinic at the screening visit. Body Mass Index (BMI, kg/m2) was \\ncalculated using these measurements. Body composition (fat and lean mass) was measured \\nusing dual x ‐ray absorptiometry at baseline and week 52 (Colorado: Horizon W, APEX \\nsoftware version 5.6.05 Hologic, Inc., Marlborough, MA, USA; Alabama GE Lunar Prodigy \\nPrimo, enCORE software version 15.10.046, GE Healthcare, Chicago, IL, USA). Waist \\ncircumference (WC) was measured at the border of the iliac crest in duplicate in accordance \\nwith the National Institutes of Health recommendations [ 32], measured at baseline and week \\n52.\\nCardiometabolic Health\\nBlood samples were obtained at baseline and week 52 from an antecubital vein by a \\ntrained phlebotomist. Samples were processed and analyzed for glucose, total cholesterol, \\nlow‐density lipoprotein cholesterol (LDL; calculated), high ‐density lipoprotein cholesterol \\n(HDL), triglycerides, HbA1c, and blood urea nitrogen (BUN). Blood samples were \\nprocessed at the University of Alabama Outreach Lab for Alabama samples and at \\nUniversity of Colorado Hospital Clinical Lab for screening and at the Adult CTRC Core lab \\nfor baseline and week 52 visits for Colorado samples. Blood pressure was measured at each \\nin-person study visit using at the left upper arm using an automatic sphygmomanometer \\n(Colorado: Datascope Trio, (Serial# MC07547-A5) Digital Patient Monitor; Alabama, \\nOmron 3-Series Upper Arm Blood Pressure Monitor, OMRON Healthcare Inc., Kyoto, \\nJapan). Blood pressure was measured after the participant rested quietly in a seated position \\nfor ≥5 min with participants’ legs uncrossed and back and arms supported. The measurement', 'Japan). Blood pressure was measured after the participant rested quietly in a seated position \\nfor ≥5 min with participants’ legs uncrossed and back and arms supported. The measurement \\nwas taken two times and if the reading differed by more than 5 mmHg, a third measurement \\nwas obtained.\\nStatistical Analyses\\nAll study data were collected and managed using REDCap electronic data capture tools \\nhosted at the University of Alabama at Birmingham and University of Colorado Denver [ 33, \\n34]. REDCap is a secure, web-based software platform designed to support data capture \\nfor research studies, providing (1) an intuitive interface for validated data capture; (2) audit \\ntrails for tracking data manipulation and export procedures; (3) automated export procedures \\nfor seamless data downloads to common statistical packages; and (4) procedures for data Clina et al. Page 5\\nObesity (Silver Spring) . Author manuscript; available in PMC 2024 August 01.\\nAuthor Manuscript Author Manuscript Author Manuscript Author Manuscriptintegration and interoperability with external sources. All analyses were completed using \\nSAS (version 9.4, 2002–2012 by SAS Institute Inc.).\\nA sample size of 120 participants was targeted based on findings from the Beef WISE \\nStudy [ 25] to detect a 2.75 kg difference in weight loss between the HP and NP. Weight \\nloss achieved by the ‘Beef’ group in the Beef WISE Study was 8.9±6.0 kg, and this \\ngroup received the same dietary plan and counseling as the HP group in the current \\nstudy. Assuming a similar amount and variability in achieved weight loss, statistical power \\ncalculations indicated that sample size of 112 (56 per group) would provide >80% power ( α \\n= 0.05) to detect a 2.75 kg difference in weight loss.\\nBaseline characteristics were assessed by diet group (HP and NP) as well as the total of \\nthe whole sample. Randomization was performed by the statistician and was stratified by', 'Baseline characteristics were assessed by diet group (HP and NP) as well as the total of \\nthe whole sample. Randomization was performed by the statistician and was stratified by \\nage, sex, BMI, and years since diagnosis of T2D. Differences in baseline characteristic \\nwere assessed using paired t-tests or Chi-squared tests. Linear mixed models (LMM) with \\nunstructured covariance were used to test the effect of diet group, time, and their interaction \\nterm for changes in body weight and composition, and cardiometabolic health using and \\nintention to treat approach (ITT), meaning that all participants that were randomized and \\nhave one or more measures were included in LMM analyses regardless of completion of \\nprotocol or adherence. Differences in frequency of reducing or discontinuing medication for \\nT2D was assessed using Chi-squared tests. SAS 9.4 was used for all the analyses. P<0.05 is \\ndeemed statistically significant.\\nResults\\nBaseline Characteristics of Participants\\nBaseline characteristic of participants are presented in Table 1. No differences in any \\nbaseline characteristics were detected between HP and NP. Participant retention at 52 weeks \\ndid not differ between HP and NP (completed: HP n=37 (69.8%); NP n=34 (64.2%), p= \\n0.51).\\nAdverse Events\\nNo adverse events likely to be related to the study were reported by participants in either \\ngroup.\\nWeight Loss and Body Composition\\nChanges in body weight and composition are shown in Figure 2. Total mass was reduced by \\n10.2±1.6 kg (9.4%) in the HP group and 12.7±4.8 kg (11.8%) in the NP group (Figure 2), \\nwith no difference between groups ( p=0.336). Fat mass percent decreased (HP, 46.2±0.8% \\nvs. 41.9±1.1%, p<0.001; NP, 46.6±0.8% vs. 42.8±1.6%, p<0.001) and fat free mass percent \\nincreased (HP, 52.9±0.8% vs. 57.1±1.1%, p<0.001; NP, 51.8±1.6%, vs. 55.4±0.8% p<0.001) \\nin both groups during the intervention period with no significant difference between HP and', 'increased (HP, 52.9±0.8% vs. 57.1±1.1%, p<0.001; NP, 51.8±1.6%, vs. 55.4±0.8% p<0.001) \\nin both groups during the intervention period with no significant difference between HP and \\nNP (fat mass percent, p = 0.665; fat free mass percent, p = 0.689). Both the HP and NP \\ngroups reduced waist circumference (HP, 118±2.0 cm vs. 111±2.1 cm, p=<0.001; NP, 117±2 \\ncm vs. 109±2 cm, p=<0.001) and BMI (HP, 38.7±1.0 kg/m2 vs. 35.0±1.0 kg/m2, p=<0.001; Clina et al. Page 6\\nObesity (Silver Spring) . Author manuscript; available in PMC 2024 August 01.\\nAuthor Manuscript Author Manuscript Author Manuscript Author ManuscriptNP, 38.8±1.0 kg/m2 cm vs. 34.4±1.0 kg/m2, p=<0.001) from baseline to week 52, with no \\ndifferences between groups (waist circumference, p=0.934; BMI, p=0.421). Supplemental \\nfigure 1 includes additional plots related to body composition changes by group.\\nIndicators of Type 2 Diabetes\\nChanges in indicators of type 2 diabetes are presented in Table 2. In general, participants \\nreduced HbA1c, fasting glucose and HOMA-IR with no differences in changes between HP \\nand NP. Data describing participants with HbA1c ≥6.5% or fasting glucose ≥126 mg/dL \\n(clinically diagnostic of T2D) at baseline and week 52 by diet group are presented in Table \\n3. At baseline, 73.6% of participants in the HP group and 62.3% of participants in the NP \\ngroup had biomarkers in the range for T2D. Using the ITT approach, 24.5% and 22.6% \\nof participants in the HP and NP groups respectively reduced these values to no longer \\nmeet diagnostic criteria for T2D. Using the completer analyses, these numbers are 38.2% \\nand 38.5% for the HP and NP groups respectively. Four participants in the HP group and \\n1 participant in the NP group were classified as having a negative change, with values at \\nbaseline not meeting criteria for T2D diagnosis, but meeting these criteria at week 52. There \\nwere no differences between diet groups for any changes in T2D indicators. Also during', 'baseline not meeting criteria for T2D diagnosis, but meeting these criteria at week 52. There \\nwere no differences between diet groups for any changes in T2D indicators. Also during \\nthe trial, n=14 participants (HP, n=5; NP, n=9) discontinued all T2D medications and n=16 \\n(HP, n=7; NP, n=9) reduced at least one T2D medication. The frequency of discontinuing or \\nreducing T2D medications was not statistically different between HP and NP ( p=0.4358).\\nLaboratory Markers\\nChanges in blood pressure, lipids, and BUN are summarized in Table 4. Participants reduced \\nsystolic and diastolic blood pressures, and triglycerides with no differences between groups. \\nBUN was increased in both groups at week 52 compared to baseline with no difference \\nbetween HP and NP. There were no changes in total cholesterol, HDL cholesterol, or LDL \\ncholesterol in either group over the duration of the intervention.\\nDiscussion\\nBoth the HP and NP diet groups significantly reduced weight and improved in key indicators \\nof T2D with no difference between groups. These findings support data suggesting that \\nweight loss is the primary driver of improvements in glucose control. Results from the Look \\nAHEAD (Action for Health in Diabetes) study found that those with a 5–10% reduction \\nin weight had increased odds of achieving a 0.5% reduction in HbA1c (odds ratio 3.52) \\n[35]. Evidence from review papers also suggests that modest weight loss can successfully \\nresult in remission of T2D in many individuals [ 36]. Findings from the current study further \\nsupport the notion that weight loss can produce improvements in glucose control in many \\nwith T2D. Average weight loss in the current study was consistent with that found to cause \\nimprovements in T2D in the majority of participants in DiRECT [ 15]. Our results extend \\nthose of previous research by demonstrating that weight loss is an effective treatment for \\nT2D.\\nContrary to the hypothesis, the HP diet did not result in greater weight loss when compared', 'those of previous research by demonstrating that weight loss is an effective treatment for \\nT2D.\\nContrary to the hypothesis, the HP diet did not result in greater weight loss when compared \\nto the NP diet. Instead, the groups had similar weight loss and body composition changes Clina et al. Page 7\\nObesity (Silver Spring) . Author manuscript; available in PMC 2024 August 01.\\nAuthor Manuscript Author Manuscript Author Manuscript Author Manuscriptfollowing the intervention. It was also hypothesized that the HP group would result in \\npreferential loss of fat mass compared to fat free mass which was also not supported. A \\nrecent review suggested that a weight loss could increase risk of mortality for those recently \\ndiagnosed with T2D potentially as a result in a decline in appendicular lean mass [ 37]. \\nWhile appendicular body composition was not analyzed for the present study, whole-body \\nfat free mass was only slightly reduced with no significant differences between groups. The \\npreferential loss of fat mass in both diet groups in the present study lessens concerns related \\nto potential weight loss-related adverse events.\\nResults from this study also add to the literature regarding the impact of HP diets during \\nweight loss for individuals with T2D. The HP and NP groups had similar reduction in \\nindices of T2D, including HbA1c and fasting glucose. Some trials have demonstrated that \\na HP diet is more beneficial than a high carbohydrate diet in outcomes associated with \\nT2D [ 19, 38]. However, One trial in post-menopausal women demonstrated that a HP diet \\nduring weight loss could negatively insulin action [ 20], however this did not seem to be \\nthe case in the present study, as marked by similar improvements in HOMA-IR across \\ngroups. In the present study, at baseline, 73.6% of participants in the HP group and 62.3% \\nof participants in the NP group had biomarkers in the range for T2D. Notably, inclusion', 'groups. In the present study, at baseline, 73.6% of participants in the HP group and 62.3% \\nof participants in the NP group had biomarkers in the range for T2D. Notably, inclusion \\ninto the study was based on previously diagnosed T2D but did not require participants to \\npresent with a diagnostic value for A1c or fasting glucose at baseline. This resulted in some \\nparticipants having A1c or fasting glucose below the diabetic range at study entry. This is \\nlikely because many participants were taking T2D medications at baseline and they were \\nnot required to discontinue medications at study entry as has been done in other studies \\nsuch as DiRECT [ 15]. Participants exhibiting indices of T2D was reduced to 35.1% and \\n32.4% in the HP and NP groups, respectively. These findings strongly suggest that achieved \\nweight loss – regardless of dietary pattern – is the primary factor driving improvements \\nin glucose control. This finding has substantial public health implications as it provides a \\ndegree of individual-level flexibility in choosing a dietary pattern that is consistent with \\npatient preferences.\\nThese results demonstrate that the inclusion of lean, minimally processed beef does not \\nimpact the effectiveness of an energy restricted diet to induce weight loss and improvements \\nin cardiometabolic health. Previous work from our group found equivalent changes in body \\nweight and composition between a HP diet including beef and a HP diet excluding all red \\nmeat [ 25]. The present study builds on this work, through the investigation of two diets \\nwith differing recommended macronutrient compositions. From these data, it is evident that \\nminimally processed, lean beef can be safely included in diets when attempting to lose \\nweight and control glucose.\\nA limitation of this trial was that despite giving explicit diet rules and lists to participants, \\nboth groups saw an equivalent increase in BUN from baseline to week 52. This finding', 'A limitation of this trial was that despite giving explicit diet rules and lists to participants, \\nboth groups saw an equivalent increase in BUN from baseline to week 52. This finding \\ncould indicate that the protein composition of the diet groups likely did not reach the \\nintended macronutrient distributions, with the groups consuming similar amounts of protein. \\nThe study might not have been able to detect the true impact on improvements in T2D \\nmarkers because participants discontinued medication as recommended by their primary \\ncare providers. This could mean that the observed intervention could have had a greater Clina et al. Page 8\\nObesity (Silver Spring) . Author manuscript; available in PMC 2024 August 01.\\nAuthor Manuscript Author Manuscript Author Manuscript Author Manuscripteffect if those participants had stayed on their medications. Additionally, the COVID-19 \\npandemic began during the first cohort of the AL and CO groups and lasted throughout the \\nrest of the study. The onset of the pandemic resulted in several methodological changes of \\nthe study and impacted the lives of participants taking part in the intervention. Fortunately, \\nthe SOS program had been previously delivered in a virtual format, so changes to course \\ncontent were minor. Classes were still able to be held at the usual time, but in a virtual \\nsetting. However, research study visits were completely halted for a period during the study, \\nhence the completion of some of the week 16 visits virtually instead of in-person. This \\nchange limited the data that could be collected at this timepoint. In addition, some outcome \\nmeasures tests that were originally collected in person could no longer be collected at all, \\neven when restrictions were lifted, including resting energy expenditure and six-minute walk \\ntest. These two tests were removed because masks were still required in the research facility \\nand since baseline measurements were collected without masks, it was unclear if the use of', 'test. These two tests were removed because masks were still required in the research facility \\nand since baseline measurements were collected without masks, it was unclear if the use of \\nmasks at future visits would impact results. Some participants who withdrew from the study \\ncited COVID-19 as a primary reason for leaving, such as increased work demands. Total \\nattrition overall was high at 33%, which is likely due in part to the challenges faced during \\nthe COVID-19 pandemic. Despite challenges, the study team was able to adapt swiftly to the \\nnature of the pandemic and continue the intervention and data collection.\\nThese result show that behavioral weight loss programs can produce significant weight loss \\nin those with T2D and that this weight loss can improve glucose control and many other \\naspects of cardiometabolic health. Results also show that avoiding red meat does not provide \\nan advantage either in weight loss or in disease management.\\nSupplementary Material\\nRefer to Web version on PubMed Central for supplementary material.\\nAcknowledgements\\nThe authors acknowledge Jeanne Anne Breen and Aaron Chestnut for their effort in the recruitment, retention, \\nand completion of study visits. The authors would also like to acknowledge Marsha Miller for coaching the SOS \\nclasses at the CO site. Finally, the authors acknowledge the participants for their contribution to the study and time \\nand effort put forth as a part of this trial. Funding for the parent trial was provided by the Beef Checkoff. This \\nwork was also supported by NIH/NCATS Colorado CTSA Grant Number UL1 TR002535 and by Award Number \\nP30DK056336 from the National Institute Of Diabetes And Digestive And Kidney Diseases. The content is solely \\nthe responsibility of the authors and does not necessarily represent the official views of the National Institute Of \\nDiabetes And Digestive And Kidney Diseases or the National Institutes of Health. The corresponding author will', 'Diabetes And Digestive And Kidney Diseases or the National Institutes of Health. The corresponding author will \\ncooperate with any requests for data sharing. Any data described in the manuscript will be made available upon \\nrequest pending application and approval.\\nFunding:\\nFunding for this study was provided by The Beef Checkoff/National Cattlemen’s Beef Association and the \\nUniversity of Alabama at Birmingham, Nutrition Obesity Research Center. The financial supporters had no role in \\nthe design and conduct of the study or collection, analysis, and interpretation of the data.\\nJOH and HRW have received royalties from the book, State of Slim. They have ownership in Shakabuku LLC, \\nwhich offers weight loss to the public. HRW has received grant support for unrelated studies from Gelesis, Novo \\nNordisk, Epitome, and General Mills, Inc., and has done consulting for Gelesis and reports speaking fees from \\nNovo Nordisk, and the National Cattlemen’s Beef Association. JOH has received grant funding for unrelated \\nstudies from Gelesis and has done consulting for Gelesis, General Mills, Inc., and McCormick Science Institute. Clina et al. Page 9\\nObesity (Silver Spring) . Author manuscript; available in PMC 2024 August 01.\\nAuthor Manuscript Author Manuscript Author Manuscript Author ManuscriptRDS has received grant support for an unrelated study from General Mills, Inc., and reports speaking fees from the \\nTexas Beef Council.\\nReferences\\n1. Control, C.f.D. and Prevention, National diabetes statistics report: estimates of diabetes and its \\nburden in the United States, 2014. Atlanta, GA: US Department of Health and Human Services, \\n2014. 2014.\\n2. Einarson TR, et al. , Prevalence of cardiovascular disease in type 2 diabetes: a systematic literature \\nreview of scientific evidence from across the world in 2007–2017. Cardiovascular Diabetology, \\n2018. 17(1): p. 83. [PubMed: 29884191]', 'review of scientific evidence from across the world in 2007–2017. Cardiovascular Diabetology, \\n2018. 17(1): p. 83. [PubMed: 29884191] \\n3. Afkarian M, et al. , Kidney disease and increased mortality risk in type 2 diabetes. Journal of the \\nAmerican Society of Nephrology, 2013. 24(2): p. 302–308. [PubMed: 23362314] \\n4. Koye DN, et al. , The global epidemiology of diabetes and kidney disease. Advances in chronic \\nkidney disease, 2018. 25(2): p. 121–132. [PubMed: 29580576] \\n5. Muller IS, et al. , Foot ulceration and lower limb amputation in type 2 diabetic patients in Dutch \\nprimary health care. Diabetes care, 2002. 25(3): p. 570–574. [PubMed: 11874949] \\n6. Shatnawi NJ, et al. , Predictors of major lower limb amputation in type 2 diabetic patients referred \\nfor hospital care with diabetic foot syndrome. Diabetes, metabolic syndrome and obesity: targets \\nand therapy, 2018. 11: p. 313. [PubMed: 29950877] \\n7. Singh N, Armstrong DG, and Lipsky BA, Preventing foot ulcers in patients with diabetes. Jama, \\n2005. 293(2): p. 217–228. [PubMed: 15644549] \\n8. Berster JM and Göke B, Type 2 diabetes mellitus as risk factor for colorectal cancer. Archives of \\nphysiology and biochemistry, 2008. 114(1): p. 84–98. [PubMed: 18465362] \\n9. Cheung N. and Wong TY , Diabetic retinopathy and systemic vascular complications. Progress in \\nretinal and eye research, 2008. 27(2): p. 161–176. [PubMed: 18249026] \\n10. Sasongko MB, et al. , Prevalence of diabetic retinopathy and blindness in Indonesian adults with \\ntype 2 diabetes. American journal of ophthalmology, 2017. 181: p. 79–87. [PubMed: 28669781] \\n11. Albu J. and Pi-Sunyer FX, Obesity and diabetes, in Handbook of obesity. 2003, CRC Press. p. \\n915–934.\\n12. Maggio CA and Pi-Sunyer FX, Obesity and type 2 diabetes. Endocrinology and Metabolism \\nClinics, 2003. 32(4): p. 805–822. [PubMed: 14711063] \\n13. Apovian CM, Obesity: definition, comorbidities, causes, and burden. Am J Manag Care, 2016. \\n22(7 Suppl): p. s176–85. [PubMed: 27356115]', 'Clinics, 2003. 32(4): p. 805–822. [PubMed: 14711063] \\n13. Apovian CM, Obesity: definition, comorbidities, causes, and burden. Am J Manag Care, 2016. \\n22(7 Suppl): p. s176–85. [PubMed: 27356115] \\n14. Schelbert KB, Comorbidities of obesity. Primary Care: Clinics in Office Practice, 2009. 36(2): p. \\n271–285. [PubMed: 19501243] \\n15. Lean ME, et al. , Primary care-led weight management for remission of type 2 diabetes (DiRECT): \\nan open-label, cluster-randomised trial. The Lancet, 2018. 391(10120): p. 541–551.\\n16. Wycherley TP, et al. , Effects of energy-restricted high-protein, low-fat compared with standard-\\nprotein, low-fat diets: a meta-analysis of randomized controlled trials. The American journal of \\nclinical nutrition, 2012. 96(6): p. 1281–1298. [PubMed: 23097268] \\n17. Wycherley TP, et al. , A high-protein diet with resistance exercise training improves weight loss \\nand body composition in overweight and obese patients with type 2 diabetes. Diabetes care, 2010. \\n33(5): p. 969–976. [PubMed: 20150293] \\n18. Leidy HJ, et al. , The role of protein in weight loss and maintenance. The American journal of \\nclinical nutrition, 2015. 101(6): p. 1320S–1329S. [PubMed: 25926512] \\n19. Kitabchi AE, et al. , Effects of high-protein versus high-carbohydrate diets on markers of β-cell \\nfunction, oxidative stress, lipid peroxidation, proinflammatory cytokines, and adipokines in obese, \\npremenopausal women without diabetes: a randomized controlled trial. Diabetes care, 2013. 36(7): \\np. 1919–1925. [PubMed: 23404297] \\n20. Smith Gordon I., et al. , High-Protein Intake during Weight Loss Therapy Eliminates the Weight-\\nLoss-Induced Improvement in Insulin Action in Obese Postmenopausal Women. Cell Reports, \\n2016. 17(3): p. 849–861. [PubMed: 27732859] Clina et al. Page 10\\nObesity (Silver Spring) . Author manuscript; available in PMC 2024 August 01.', '2016. 17(3): p. 849–861. [PubMed: 27732859] Clina et al. Page 10\\nObesity (Silver Spring) . Author manuscript; available in PMC 2024 August 01.\\nAuthor Manuscript Author Manuscript Author Manuscript Author Manuscript21. Daniel CR, et al. , Trends in meat consumption in the USA. Public health nutrition, 2011. 14(4): p. \\n575–583. [PubMed: 21070685] \\n22. Barnard N, Levin S, and Trapp C, Correction: Barnard N, et al. Meat Consumption as a Risk Factor \\nfor Type 2 Diabetes. Nutrients 2014, 6, 897–910. Nutrients, 2014. 6(10): p. 4317–4319. [PubMed: \\n24566443] \\n23. Pan A, et al. , Changes in red meat consumption and subsequent risk of type 2 diabetes mellitus: \\nthree cohorts of US men and women. JAMA internal medicine, 2013. 173(14): p. 1328–1335. \\n[PubMed: 23779232] \\n24. Sayer RD, et al. , Dietary Approaches to Stop Hypertension diet retains effectiveness to reduce \\nblood pressure when lean pork is substituted for chicken and fish as the predominant source \\nof protein. The American journal of clinical nutrition, 2015. 102(2): p. 302–308. [PubMed: \\n26063693] \\n25. Sayer R, et al. , Equivalent reductions in body weight during the Beef WISE Study: beef’s role in \\nweight improvement, satisfaction and energy. Obesity science & practice, 2017. 3(3): p. 298–310. \\n[PubMed: 29071106] \\n26. Roussell MA, et al. , Beef in an Optimal Lean Diet study: effects on lipids, lipoproteins, and \\napolipoproteins. The American journal of clinical nutrition, 2012. 95(1): p. 9–16. [PubMed: \\n22170364] \\n27. Roussell M, et al. , Effects of a DASH-like diet containing lean beef on vascular health. Journal of \\nhuman hypertension, 2014. 28(10): p. 600–605. [PubMed: 24943285] \\n28. Magkos F, et al. , Unprocessed red meat in the dietary treatment of obesity: a randomized \\ncontrolled trial of beef supplementation during weight maintenance after successful weight loss. \\nThe American Journal of Clinical Nutrition, 2022.\\n29. Sanders LM, Wilcox ML, and Maki KC, Red meat consumption and risk factors for type 2', 'The American Journal of Clinical Nutrition, 2022.\\n29. Sanders LM, Wilcox ML, and Maki KC, Red meat consumption and risk factors for type 2 \\ndiabetes: a systematic review and meta-analysis of randomized controlled trials. European Journal \\nof Clinical Nutrition, 2022.\\n30. Butryn ML, et al. , Consistent self-monitoring of weight: a key component of successful weight \\nloss maintenance. Obesity (Silver Spring), 2007. 15(12): p. 3091–6. [PubMed: 18198319] \\n31. Dhurandhar NV , et al. , Energy balance measurement: when something is not better than nothing. \\nInternational journal of obesity, 2015. 39(7): p. 1109–1113. [PubMed: 25394308] \\n32. Obesity, N.A.A.f.t.S.o., et al., The practical guide: identification, evaluation, and treatment of \\noverweight and obesity in adults. 2000: National Institutes of Health, National Heart, Lung, and \\nBlood Institute ….\\n33. Harris PA, et al. , The REDCap consortium: Building an international community of software \\nplatform partners. Journal of biomedical informatics, 2019. 95: p. 103208.\\n34. Harris PA, et al. , Research electronic data capture (REDCap)—a metadata-driven methodology \\nand workflow process for providing translational research informatics support. Journal of \\nbiomedical informatics, 2009. 42(2): p. 377–381. [PubMed: 18929686] \\n35. Wing RR, et al. , Benefits of Modest Weight Loss in Improving Cardiovascular Risk Factors in \\nOverweight and Obese Individuals With Type 2 Diabetes. Diabetes Care, 2011. 34(7): p. 1481–\\n1486. [PubMed: 21593294] \\n36. Lau DCW and Teoh H, Benefits of Modest Weight Loss on the Management of Type 2 Diabetes \\nMellitus. Canadian Journal of Diabetes, 2013. 37(2): p. 128–134. [PubMed: 24070804] \\n37. Huang S, et al. , Association of magnitude of weight loss and weight variability with mortality and \\nmajor cardiovascular events among individuals with type 2 diabetes mellitus: a systematic review \\nand meta-analysis. Cardiovascular Diabetology, 2022. 21(1): p. 78. [PubMed: 35578337]', 'major cardiovascular events among individuals with type 2 diabetes mellitus: a systematic review \\nand meta-analysis. Cardiovascular Diabetology, 2022. 21(1): p. 78. [PubMed: 35578337] \\n38. McAuley K, et al. , Comparison of high-fat and high-protein diets with a high-carbohydrate diet in \\ninsulin-resistant obese women. Diabetologia, 2005. 48: p. 8–16. [PubMed: 15616799] Clina et al. Page 11\\nObesity (Silver Spring) . Author manuscript; available in PMC 2024 August 01.\\nAuthor Manuscript Author Manuscript Author Manuscript Author ManuscriptWhat is already known about this subject?\\n• Weight loss of ≥10% improves can improve glucose control and even remit \\ntype 2 diabetes for some\\n• High protein diets can produce greater weight loss and prevent loss of fat free \\nmass compared to diets lower in protein\\n• Some observational studies recommend limiting red meat consumption to \\nreduce risk for type 2 diabetes, but data from randomized clinical trials \\ngenerally find little to no independent effect of lean red meat consumption.\\nWhat are the new findings in your manuscript?\\n• Both a normal protein diet excluding red meat and a high protein diet \\ncontaining red meat are effective at producing weight loss and improvements \\nin glucose control\\nHow might your results change the direction of research or the focus of clinical \\npractice?\\n• Weight loss, not diet composition, is the primary driver of type 2 diabetes \\nmanagement\\n• Avoiding red meat does not provide additional benefit for weight loss or \\nimprovements in glucose control during a weight loss interventionClina et al. Page 12\\nObesity (Silver Spring) . Author manuscript; available in PMC 2024 August 01.\\nAuthor Manuscript Author Manuscript Author Manuscript Author ManuscriptFigure 1. CONSORT Diagram\\nDiagram of participant flow.Clina et al. Page 13\\nObesity (Silver Spring) . Author manuscript; available in PMC 2024 August 01.', 'Diagram of participant flow.Clina et al. Page 13\\nObesity (Silver Spring) . Author manuscript; available in PMC 2024 August 01.\\nAuthor Manuscript Author Manuscript Author Manuscript Author ManuscriptFigure 2. Change in Body Weight and Composition\\nDepicts changes in weight and composition (fat and fat free mass) in kilograms from \\nbaseline to week 52 by diet group. Mixed effects models used to test the effect of diet \\ngroup, time, and their interaction term on body weight and composition changes. Presented \\nas LSMEANS±SE. Both groups had a significantly reduced weight (HP −10.2±1.6 kg; NP \\n−12.5±1.6 kg), fat mass (HP −8.4±1.4 kg; NP −9.1±1.5 kg), and fat-free mass (HP −1.8±0.4 \\nkg; NP −2.9±0.4 kg), but the majority of weight loss was due to fat mass loss. There were \\nno differences in outcomes by diet group in changes in total mass ( p=0.333), fat mass \\n(p=0.735), or fat free mass p=0.056).Clina et al. Page 14\\nObesity (Silver Spring) . Author manuscript; available in PMC 2024 August 01.\\nAuthor Manuscript Author Manuscript Author Manuscript Author ManuscriptAuthor Manuscript Author Manuscript Author Manuscript Author ManuscriptClina et al. Page 15\\nTable 1.\\nBaseline Characteristics of Participants\\nPresent baseline characteristics of participants by diet group assignment. Percent of sample (i.e. % female, % \\nusing medications for T2D), waist circumference, and blood biomarkers rounded to the nearest whole number \\n(except HOMA-IR, HbA1c %, and insulin)\\nParameter HP NP\\nAge, y (M±SD) 54.1 ± 12.0 55.4 ± 9.6\\nDuration of T2D, y (M±SD) 3.2 ± 1.8 3.2 ± 1.6\\nFemale, n (%) 38 (72) 42 (79)\\nUsing Medications for T2D, n (%) 48 (91) 46 (87)\\nAnthropometrics  (M±SD)\\n Weight, kg 108.0 ± 22.8 107.8 ± 26.6\\n BMI, kg/m2 38.7 ± 6.8 38.8 ± 7.3\\n Waist Circumference, cm 118 ± 14 117 ± 15\\n Fat Mass, % 46.2 ± 6.2 46.6 ± 5.9\\n Fat-Free Mass, % 52.9 ± 6.1 52.4 ± 5.8\\nBiomarkers  (M±SD)\\n HOMA-IR 7.6 ± 7.0 5.9 ± 3.4\\n Glucose, mg/dL 134 ± 38 130 ± 40\\n HbA1c, % 7.2 ± 1.0 7.0 ± 1.3', 'Fat Mass, % 46.2 ± 6.2 46.6 ± 5.9\\n Fat-Free Mass, % 52.9 ± 6.1 52.4 ± 5.8\\nBiomarkers  (M±SD)\\n HOMA-IR 7.6 ± 7.0 5.9 ± 3.4\\n Glucose, mg/dL 134 ± 38 130 ± 40\\n HbA1c, % 7.2 ± 1.0 7.0 ± 1.3\\n Insulin, μIU/mL 22.3 ± 16.5 18.1 ± 11.1\\n BP Systolic, mmHg 135 ± 15 135 ± 15\\n BP Diastolic, mmHg 86 ± 9 86 ± 9\\n Triglycerides, mg/dL 138 ± 71 139 ± 58\\n HDL Cholesterol, mg/dL 47 ± 11 45 ± 9\\n LDL Cholesterol, mg/dL 94 ± 28 95 ± 36\\nRace , n (%)\\n White 37 (70) 30 (57)\\n Black 11 (21) 19 (39)\\n Asian 3 (6) 1 (2)\\n Native Hawaiian or Pacific Islander 1 (2) 0 (0)\\n Other 1 (2) 3 (6)\\nEthnicity , n (%)\\n Hispanic 6 (11) 9 (17)\\n Non-Hispanic 46 (87) 43 (81)\\n Did not report 1 (2) 1 (2)\\nAbbreviations: BMI, body mass index; BP, blood pressure; cm, centimeter; dL, deciliter; HDL, high ‐density lipoprotein cholesterol; HbA1c, \\nhemoglobin A1c; HOMA-IR, Homeostatic Model Assessment for Insulin Resistance; HP, high protein; kg, kilogram; LDL, low ‐density lipoprotein \\ncholesterol; M, mean; m, meter; mg, milligrams; ml, milliliter; mmHg, millimeters of mercury; NP, normal protein; SD, standard deviation; T2D, \\ntype 2 diabetes; y, years; μIU, micro international unit.\\nObesity (Silver Spring) . Author manuscript; available in PMC 2024 August 01.Author Manuscript Author Manuscript Author Manuscript Author ManuscriptClina et al. Page 16\\nTable 2.\\nChanges in Indicators of Type 2 Diabetes by Diet Group\\nParameter Group Baseline Week 52 Mean Change 95% CI for Change P-value\\nGlucose, mg/dL HP 134 (5) 115 (6) −19 (6) (−31.0, −6.8)\\nNP 130 (5) 111 (6) −19 (6) (−31.4, −6.4) 0.999\\nHbA1c, % HP 7.2 (0.2) 6.4 (0.2) −0.8 (0.2) (−1.1, −0.4)\\nNP 7.0 (0.2) 6.5 (0.2) −0.5 (0.2) (−0.9, −0.1) 0.329\\nInsulin, μIU/mL HP 22.3 (1.9) 14.5 (1.7) −7.8 (2.0) (−11.8, −3.7)\\nNP 18.8 (1.9) 11.0 (1.8) −7.8 (2.0) (−12.0, −3.7) 0.979\\nHOMA-IR HP 7.6 (0.8) 4.5 (0.7) −3.1 (0.8) (−4.7, −1.6)\\nNP 5.9 (0.8) 3.2 (0.7) −2.7 (.8) (−4.2, −1.1) 0.657', 'NP 18.8 (1.9) 11.0 (1.8) −7.8 (2.0) (−12.0, −3.7) 0.979\\nHOMA-IR HP 7.6 (0.8) 4.5 (0.7) −3.1 (0.8) (−4.7, −1.6)\\nNP 5.9 (0.8) 3.2 (0.7) −2.7 (.8) (−4.2, −1.1) 0.657\\nValues presented as LS MEANS (SE) with glucose values rounded to nearest whole number. Values are model based from the ITT analysis \\nperformed, including LS MEANS, change, and 95% CI.\\nP-value represents differences in change between diet groups (HP vs. NP)\\nMixed effects model used to test the effect of time, group, and their interaction term on changes in indicators of type 2 diabetes. Both diet groups \\nreduced, glucose, HbA1c, insulin, and HOMA-IR from baseline to week 52. There were no differences in change in any parameters by diet group \\n(HP vs NP)\\nAbbreviations: dL, deciliter; HbA1c, hemoglobin A1c; HOMA-IR, Homeostatic Model Assessment for Insulin Resistance; HP, high protein; mg, \\nmilligrams; mL, milliliter; NP, normal protein; μIU, micro international unit.\\nObesity (Silver Spring) . Author manuscript; available in PMC 2024 August 01.Author Manuscript Author Manuscript Author Manuscript Author ManuscriptClina et al. Page 17\\nTable 3.\\nChanges in Type 2 Diabetes Status\\nPresents changes in status of Type 2 Diabetes as indicated by HbA1c ≥6.5% or fasting glucose ≥126 mg/dL \\n(clinically diagnostic of T2D) from baseline to week 52 of the trial.\\nITT Approach HP n (%) NP n (%)\\nRemained in abnormal range 7 (13) 12 (23)\\nRemained in normal range 12 (19) 9 (17)\\nPositive change (abnormal to normal value) 13 (25) 12 (23)\\nNegative change (normal to abnormal) 4 (8) 1 (2)\\nUnknown (no paired value) 19 (36) 16 (30)\\nCompleters Analysis\\nRemained in abnormal range 7 (21) 12 (33)\\nRemained in normal range 10 (2) 9 (25)\\nPositive change (abnormal to normal value) 13 (38) 14 (39)\\nNegative change (normal to abnormal) 4 (12) 1 (3)\\nIntention to treat (ITT) and completers analyses are presented. Unknown in the ITT approach refers to participants without either a baseline or', 'Negative change (normal to abnormal) 4 (12) 1 (3)\\nIntention to treat (ITT) and completers analyses are presented. Unknown in the ITT approach refers to participants without either a baseline or \\nweek 52 value, therefore no conclusions could be made regarding change in status. Abnormal value refers to lab values consistent with T2D \\ndiagnosis where normal range refers to values below the criteria for T2D diagnosis. Percentages rounded to nearest whole number.\\nObesity (Silver Spring) . Author manuscript; available in PMC 2024 August 01.Author Manuscript Author Manuscript Author Manuscript Author ManuscriptClina et al. Page 18\\nTable 4.\\nLaboratory Markers Changes by Diet Group\\nValues presented as LS MEANS (SE) rounded to the nearest whole number. Values are model based from the \\nITT analysis performed, including LS MEANS, change, and 95% CI.\\nParameter Group Baseline Week 52 Mean Change 95% CI for Change P-value\\nBP Systolic, mmHg HP 135 (2) 126 (3) −9 (2) (−13.0, −5.1)\\nNP 135 (2) 127 (3) −8 (2) (−12.2, −3.9) 0.719\\nBP Diastolic, mmHg HP 86 (1) 78 (1) −7 (2) (−10.2, −4.2)\\nNP 86 (1) 81 (2) −6 (2) (−8.6, −2.3) 0.430\\nTriglycerides, mg/dL HP 138 (9) 114 (10) −25 (9) (−42.8, −6.1)\\nNP 139 (9) 110 (10) −29 (10) (−48.0, −10.0) 0.732\\nHDL Cholesterol, mg/dL HP 47 (1) 47 (2) 2 (1) (−2.1, 2.9)\\nNP 45 (1) 47 (2) 1 (2) (−0.8, 4.4) 0.448\\nLDL Cholesterol, mg/dL HP 94 (4) 91 (5) −3 (4) (−11.1, 4.6)\\nNP 95 (4) 94 (5) −1 (4) (−9.3, 6.9) 0.718\\nBUN HP 15 (1) 17 (1) 3 (1) (1.5, 4.2)\\nNP 15 (6) 18 (1) 3 (1) (1.2, 4.0) 0.770\\nP-value represents differences in change between diet groups (HP vs. NP)\\nMixed effects model used to test the effect of time, group, and their interaction term on changes in laboratory markers. Both diet groups reduced \\nsystolic and diastolic blood pressures and triglycerides from baseline to week 52. Neither group had changes in HDL or LDL cholesterol from', 'systolic and diastolic blood pressures and triglycerides from baseline to week 52. Neither group had changes in HDL or LDL cholesterol from \\nbaseline to week 52. Both groups increased BUN from baseline to week 52. There were no differences in change in any parameters by diet group \\n(HP vs NP)\\nAbbreviations: BUN, blood urea nitrogen; BP, blood pressure; dL, deciliter; HDL, high ‐density lipoprotein cholesterol; HP, high protein; LDL, \\nlow‐density lipoprotein cholesterol; mg, milligrams; mmHg, millimeters of mercury; NP, normal protein.\\nObesity (Silver Spring) . Author manuscript; available in PMC 2024 August 01.']\n",
      "28\n"
     ]
    }
   ],
   "source": [
    "# Initialize a text splitter with specified chunk size and overlap\n",
    "splitter = RecursiveCharacterTextSplitter(chunk_size=2000, chunk_overlap=200)\n",
    "# Split the extracted text into manageable chunks\n",
    "chunks = splitter.split_text(text)\n",
    "\n",
    "# Display the resulting chunks\n",
    "print(chunks)\n",
    "print(len(chunks))"
   ]
  },
  {
   "cell_type": "markdown",
   "metadata": {},
   "source": [
    "<p style=\"color:green; font-size: 16px;\">\n",
    "<b>Exercise: Experimenting with Text Chunking Parameters</b><br>\n",
    "<b>Goal:</b> Develop an understanding of how chunking parameters affect text segmentation and its impact on downstream tasks.<br><br>\n",
    "\n",
    "<b>Instructions:</b><br>\n",
    "<ul style=\"color:green;\">\n",
    "<li>After completing <b>Step 4: Splitting Text into Manageable Chunks (Cell 4)</b>, adjust the <code>chunk_size</code> and <code>chunk_overlap</code> parameters.</li>\n",
    "<li>Observe how these adjustments influence the number and size of the resulting chunks.</li>\n",
    "</ul>\n",
    "\n",
    "<b>Purpose:</b> This exercise helps you build intuition about text chunking processes, enabling you to see how parameter choices can affect tasks that depend on text segmentation.\n",
    "</p>"
   ]
  },
  {
   "cell_type": "code",
   "execution_count": 8,
   "metadata": {},
   "outputs": [
    {
     "name": "stdout",
     "output_type": "stream",
     "text": [
      "['High and normal protein diets improve body composition and \\nglucose control in adults with type 2 diabetes: A randomized \\ntrial\\nJulianne G. Clina1, R. Drew Sayer1,3, Zhaoxing Pan2, Caroline W. Cohen3, Michael T. \\nMcDermott4, Victoria A. Catenacci4, Holly R. Wyatt1,5, James O. Hill1\\n1Department of Nutrition Sciences, University of Alabama at Birmingham\\n2Department of Pediatrics, University of Colorado Anschutz Medical Campus\\n3Department of Family and Community Medicine, University of Alabama at Birmingham\\n4Division of Endocrinology, Metabolism and Diabetes, University of Colorado School of Medicine, \\nAurora, Colorado\\n5Anschutz Health and Wellness Center, University of Colorado Anschutz Medical Campus\\nAbstract\\nObjective:\\xa0 Weight loss of ≥10% improves glucose control and may remit type 2 diabetes \\n(T2D). High protein (HP) diets are commonly used for weight loss, but whether protein \\nsources, especially red meat, impact weight loss-induced T2D management is unknown. This \\ntrial compared a HP diet including red meat and normal protein (NP) without red meat for weight \\nloss, body composition changes, and glucose control in individuals with T2D.\\nMethods:\\xa0 106 adults (80 female) with T2D consumed a HP (40% protein) diet with ≥4 weekly \\nservings of lean beef or a NP (21% protein) diet excluding red meat during a 52-week weight \\nloss intervention. Body weight, body composition, and cardiometabolic parameters were measured \\nbefore and after intervention.\\nResults:\\xa0 Weight loss was not different between HP (−10.2±1.6 kg) and NP (−12.7±4.8 kg, \\np=0.336). Both groups reduced fat mass and increased fat free mass percent. Hemoglobin A1c, \\nglucose, insulin, insulin resistance, blood pressure, and triglycerides improved with no differences \\nbetween groups.\\nConclusions:\\xa0 The lack of observed effects of dietary protein and red meat consumption on \\nweight loss and improved cardiometabolic health suggest that achieved weight loss – rather than \\ndiet composition – should be the principal target of dietary interventions for T2D management.\\nContact Info:  R. Drew Sayer, Community Health Services Building (CH20) 307B, 930 20th St S, Birmingham, AL 35294, \\nsayerd@uab.edu.\\nAuthor Contribution:  JOH, HJW, and RDS conceived the research project; JGC and CWC conducted the research; ZP performed the \\nstatistical analyses; JGC drafted the manuscript and RDS, JOH, HJW, RDS, CWC, MTM, V AC, and ZP provided critical feedback and \\nedits to the manuscript. All authors take responsibility for the final content of the manuscript.\\nClinical Trial Registration:  National Clinical Trial NCT03832933\\nDisclosure:\\nAll other authors declare no conflicts of interest.\\nHHS Public Access\\nAuthor manuscript\\nObesity (Silver Spring) . Author manuscript; available in PMC 2024 August 01.\\nPublished in final edited form as:\\nObesity (Silver Spring) . 2023 August ; 31(8): 2021–2030. doi:10.1002/oby.23815.\\nAuthor Manuscript Author Manuscript Author Manuscript Author ManuscriptKeywords\\nobesity; weight loss; body composition; type 2 diabetes\\nIntroduction\\nType 2 diabetes (T2D) affects over 30 million adults in America and presents numerous \\npublic health challenges [ 1]. T2D is a major risk factor for cardiovascular disease [ 2], kidney \\ndisease [ 3, 4], amputation [ 5–7], certain cancers [ 8], and blindness [ 9, 10], which results in \\na major cost burden to the healthcare system [ 1]. The primary risk factor for T2D is obesity, \\nwith the majority of those with T2D having overweight or obesity [ 11, 12]. Obesity also \\nincreases the risk of several other co-morbid conditions including heart disease and stroke \\n[11, 13, 14]. It has been demonstrated that both T2D and obesity can be treated with lifestyle \\nmodification. For example, in DiRECT (Diabetes Remission Clinical Trial) weight loss of \\n10 to 15 kg resulted in the remission of T2D in a majority of individuals who had been \\nwho had been diagnosed with T2D within the past 6 years. Nearly 9 in 10 of individuals \\nachieving more than 15 kg of weight loss remitted their T2D [ 15]. While it is clear that \\nweight loss is associated with improvements in T2D, the role of diet composition in the \\nreversal of T2D presents a gap in knowledge.\\nHigher protein diets are an attractive target for lifestyle-based interventions for the treatment \\nof T2D. High protein diets, especially when combined with exercise, produce greater weight \\nloss and prevent losses of fat free mass (FFM) compared to lower protein diets [ 16–18]. In \\npremenopausal women with obesity without diabetes, a high protein diet improved insulin \\nsensitivity more than a high carbohydrate diet even though achieved weight loss was not \\ndifferent between diets (high protein: 9.8 ± 1.4%, high carbohydrate: 9.3 ± 1.6%, p = \\n0.9323) [ 19]. Conversely, a study in post-menopausal women found that consuming a high \\nprotein diet during weight loss eliminated the beneficial effects of 10% weight loss on \\ninsulin action and sensitivity [ 20]. These conflicting results suggest that additional studies \\non the amount and sources of dietary protein during weight loss are needed to determine its \\ninfluence on weight loss induced improvements in T2D.\\nRed meats –and beef in particular –are important contributors to dietary protein intakes \\nin the United States [ 21]. However, some observational studies have associated red \\nmeat consumption with higher risk of T2D, leading to recommendations to limit its \\nconsumption [ 22, 23]. Recommendations to limit red meat consumption are based mostly \\non observational data, while findings from randomized clinical trials usually find a neutral \\neffect of red meat consumption on health outcomes [ 24–28]. A recent meta-analysis found \\nno differences in most glycemic and insulinemic risk factors associated with T2D when \\ncomparing reduced or no red meat diets to diets that contained red meat [ 29]. However, \\nthe impact on red meat consumption during weight loss among people with T2D remains \\nambiguous. Thus, it would be important to know whether beef can be part of a HP dietary \\nplan to reverse T2D by contributing to weight and fat loss and improving weight loss \\nmaintenance.Clina et al. Page 2\\nObesity (Silver Spring) . Author manuscript; available in PMC 2024 August 01.\\nAuthor Manuscript Author Manuscript Author Manuscript Author ManuscriptThe purpose of this randomized clinical trial was to compare a high protein diet (HP) versus \\na normal protein diet (NP) for weight loss, body composition changes, and indicators of type \\n2 diabetes status during a 52-week behavioral weight loss intervention. Both intervention \\ndiets were energy-restricted, and the HP diet included recommendations to include lean \\nbeef in the diet whereas the NP was instructed to refrain from eating any red meats for the \\nduration of the stud. The hypotheses were the HP diet would lead to greater weight loss, \\npreferential loss of fat mass compared to fat free mass, and greater improvements glucose \\ncontrol and cardiometabolic health.\\nMethods\\nParticipants\\nOne hundred and six individuals (80 female) began the intervention and were recruited \\nfrom the Denver, CO (n=39) and Birmingham, AL (n=67) metropolitan areas using letters, \\ninternet advertisements, and news advertisements to participate in the trial. A diagram \\ndepicting participant flow is presented in Figure 1. The study was conducted in three \\ncohorts, with approximately 35 participants in each cohort. Cohort 1 was from the Denver, \\nCO area and began the intervention in January 2020. Cohorts 2 and 3 were from the \\nBirmingham, AL area and began in February 2020 and April 2021, respectively. Participants \\nwere required to be at least 18 years old, BMI ≥27 kg/m2, T2D diagnosis within the past 6 \\nyears (documented physician diagnosis, fasting glucose ≥126 mg/dl, or HbA1c ≥6.5%), be \\nweight stable (±3 kg in the past 3 months), and be stable on all medications for the past 3 \\nmonths. Regarding eligibility criteria for T2D diagnosis, participants were enrolled who had \\na recent diagnosis as described above without meeting the threshold for fasting glucose or \\nHbA1c if that participant was on medication to manage their T2D, which would lower these \\nvalues. Exclusion criteria were: HbA1c ≥ 12%, current eating disorder (anorexia or bulimia), \\ndependence on illicit drugs or alcohol, untreated hypothyroidism, currently using insulin or \\nother drugs known to cause weight loss or gain (including GLP-1 of SGLT-2 medications, \\nsteroids, tricyclic antidepressants, chemotherapy, antipsychotics, prescribed or OTC weight \\nloss agent), following a vegetarian or vegan diet, any illness or injury that would make it \\nunsafe to follow a diet and/or exercise up to 70 minutes at a moderate intensity regularly, \\nand women who were pregnant, lactating, trying to become pregnant, or who had been \\npregnant or lactating in the last six months. Criteria for diabetes diagnoses were confirmed \\nthrough medical records or doctor reports, blood biomarkers were confirmed via a blood \\ntest at the screening visit, and all other criteria were confirmed by self-report. The study \\nprotocol was reviewed and approved the Institutional Review Boards at the University of \\nAlabama at Birmingham and University of Colorado Anschutz Medical Campus. The study \\nwas registered on clinicaltrials.gov  as NCT03832933 .\\nExperimental Design\\nAll participants followed the State of Slim (SOS) weight management program for the first \\n16 weeks of the program, which consisted of weekly group classes led by a trained coach. \\nParticipants received copies of the SOS book, copies of the course materials, and access \\nto the online community. After the first 16 weeks, participants participated in the SOS \\nNext Steps program which consists of 18 bi-weekly group classes for the remainder of the Clina et al. Page 3\\nObesity (Silver Spring) . Author manuscript; available in PMC 2024 August 01.', 'through medical records or doctor reports, blood biomarkers were confirmed via a blood \\ntest at the screening visit, and all other criteria were confirmed by self-report. The study \\nprotocol was reviewed and approved the Institutional Review Boards at the University of \\nAlabama at Birmingham and University of Colorado Anschutz Medical Campus. The study \\nwas registered on clinicaltrials.gov  as NCT03832933 .\\nExperimental Design\\nAll participants followed the State of Slim (SOS) weight management program for the first \\n16 weeks of the program, which consisted of weekly group classes led by a trained coach. \\nParticipants received copies of the SOS book, copies of the course materials, and access \\nto the online community. After the first 16 weeks, participants participated in the SOS \\nNext Steps program which consists of 18 bi-weekly group classes for the remainder of the Clina et al. Page 3\\nObesity (Silver Spring) . Author manuscript; available in PMC 2024 August 01.\\nAuthor Manuscript Author Manuscript Author Manuscript Author Manuscriptintervention. Participants were randomly assigned to one of two diet groups: the high protein \\ngroup (HP) with instructions to consume ≥4 weekly servings of lean beef as the only source \\nof red meat or a normal protein group (NP) with instructions to not eat red meat for the \\nduration of the study and followed a modified SOS diet that reduced protein intake.\\nDiet Intervention\\nThe SOS plan is broken up into three distinct phases, each of which having food lists for \\nparticipants to choose from as well as defined portion sizes for each food. Typically, the \\nSOS plan is a high-protein, low fat diet plan that emphasizes non starchy and whole-grain \\ncarbohydrates. The SOS plan also has five diet rules that are to be followed throughout \\neach phase: (1) Eat five to six times per day. (2) Eat breakfast within 1 hour of waking. \\n(3) Do not count calories; instead, measure portions. (4) Have the right protein mix at each \\nmeal (one carbohydrate and one protein at each meal). (5) Eat a healthy fat twice a day. \\nFood lists for the HP and NP groups were similar, with the exception of the HP group \\nbeing asked to consume lean beef ≥4 times per week and the portion sizes for the protein \\nbeing reduced for the NP group. Approximate carbohydrate and protein compositions were \\n32% and 40% of total energy for the HP diet, respectively and 53% and 21% for the NP \\ndiet, respectively. Recommended fat intakes were similar for HP (28% of total energy) \\nand NP (26%). Food lists for each phase given to participants with adjusted portion sizes \\nare presented in supplemental tables 1, 2, and 3. In addition, participants worked up to \\nexercising up to 70 minutes per day, 6 days per week as a part of the program.\\nSelf-reported energy intake and macronutrient distribution were not tracked during the study \\nbecause a principal component of the SOS program is to focus on portion sizes as opposed \\nto counting calories (Diet Rule #3). Participants did complete food logs throughout the \\nintervention, however these were used as a self-monitoring tool to enhance weight loss [ 30], \\nand not intended to measure energy intake or macronutrient distribution. Per the diet rules, \\na detailed food log designed to capture these data would be inconsistent with the program \\ngoals and structure. Further, self-reported measured of food intake are unreliable, and their \\nsuitability for clinical research has been questioned [ 31].\\nParticipants were instructed that clinical decision making as regards T2D management was \\nto be made with their primary care provider, but participants were asked to report any \\nmedication changes to research staff as soon as feasible. Study staff also queried participants \\non any medication changes on a monthly basis throughout the study period.\\nProtocol Modifications due to COVID-19\\nThe original plan for this intervention was for SOS classes to be held in-person. The onset \\nof lockdown orders in the spring of 2020 due to the COVID-19 pandemic required that \\nclasses be moved to an online platform (Zoom). The online intervention format was used \\nfor the remainder of the trial. The group classes were switched to the online format for \\ncohort 1 (Colorado) at week 7 of the intervention and at week 4 for cohort 2 (Alabama). The \\nintervention for cohort 3 (Alabama) was conducted entirely online. Weekly self-weighing \\nwas completed at home with pictures of scale weight sent to the health coaches in lieu \\nof weighing in-person before each class. Additionally, the Week 16 study visits became Clina et al. Page 4\\nObesity (Silver Spring) . Author manuscript; available in PMC 2024 August 01.\\nAuthor Manuscript Author Manuscript Author Manuscript Author Manuscriptat-home study visits for cohorts 1 and 2 with limited data collection due to university-wide \\nrestrictions on in-person clinical research at the University of Colorado Anschutz Medical \\nCampus and the University of Alabama at Birmingham. Participants were sent a link to \\na video call with research staff, who conducted the visit. For this manuscript, baseline \\nand week 52 data were used to assess study outcomes due to the limited data collection \\ntechniques used during the week 16 visits.\\nAnthropometric Measurements\\nBody weight was measured at baseline and week 52 using a digital platform scale \\n(Colorado: Tanita BWB-800 Digital scale, Tanita Cooperation of America, Inc., Arlington \\nHeights, Illinois; Alabama: DETECTO BRW1000, DETECTO, Webb City, MO) in a fasted \\nstate in clinic with participants wearing light clothing after voiding. Height was measured \\nusing a stadiometer in clinic at the screening visit. Body Mass Index (BMI, kg/m2) was \\ncalculated using these measurements. Body composition (fat and lean mass) was measured \\nusing dual x ‐ray absorptiometry at baseline and week 52 (Colorado: Horizon W, APEX \\nsoftware version 5.6.05 Hologic, Inc., Marlborough, MA, USA; Alabama GE Lunar Prodigy \\nPrimo, enCORE software version 15.10.046, GE Healthcare, Chicago, IL, USA). Waist \\ncircumference (WC) was measured at the border of the iliac crest in duplicate in accordance \\nwith the National Institutes of Health recommendations [ 32], measured at baseline and week \\n52.\\nCardiometabolic Health\\nBlood samples were obtained at baseline and week 52 from an antecubital vein by a \\ntrained phlebotomist. Samples were processed and analyzed for glucose, total cholesterol, \\nlow‐density lipoprotein cholesterol (LDL; calculated), high ‐density lipoprotein cholesterol \\n(HDL), triglycerides, HbA1c, and blood urea nitrogen (BUN). Blood samples were \\nprocessed at the University of Alabama Outreach Lab for Alabama samples and at \\nUniversity of Colorado Hospital Clinical Lab for screening and at the Adult CTRC Core lab \\nfor baseline and week 52 visits for Colorado samples. Blood pressure was measured at each \\nin-person study visit using at the left upper arm using an automatic sphygmomanometer \\n(Colorado: Datascope Trio, (Serial# MC07547-A5) Digital Patient Monitor; Alabama, \\nOmron 3-Series Upper Arm Blood Pressure Monitor, OMRON Healthcare Inc., Kyoto, \\nJapan). Blood pressure was measured after the participant rested quietly in a seated position \\nfor ≥5 min with participants’ legs uncrossed and back and arms supported. The measurement \\nwas taken two times and if the reading differed by more than 5 mmHg, a third measurement \\nwas obtained.\\nStatistical Analyses\\nAll study data were collected and managed using REDCap electronic data capture tools \\nhosted at the University of Alabama at Birmingham and University of Colorado Denver [ 33, \\n34]. REDCap is a secure, web-based software platform designed to support data capture \\nfor research studies, providing (1) an intuitive interface for validated data capture; (2) audit \\ntrails for tracking data manipulation and export procedures; (3) automated export procedures \\nfor seamless data downloads to common statistical packages; and (4) procedures for data Clina et al. Page 5\\nObesity (Silver Spring) . Author manuscript; available in PMC 2024 August 01.\\nAuthor Manuscript Author Manuscript Author Manuscript Author Manuscriptintegration and interoperability with external sources. All analyses were completed using \\nSAS (version 9.4, 2002–2012 by SAS Institute Inc.).\\nA sample size of 120 participants was targeted based on findings from the Beef WISE \\nStudy [ 25] to detect a 2.75 kg difference in weight loss between the HP and NP. Weight \\nloss achieved by the ‘Beef’ group in the Beef WISE Study was 8.9±6.0 kg, and this \\ngroup received the same dietary plan and counseling as the HP group in the current \\nstudy. Assuming a similar amount and variability in achieved weight loss, statistical power \\ncalculations indicated that sample size of 112 (56 per group) would provide >80% power ( α \\n= 0.05) to detect a 2.75 kg difference in weight loss.\\nBaseline characteristics were assessed by diet group (HP and NP) as well as the total of \\nthe whole sample. Randomization was performed by the statistician and was stratified by \\nage, sex, BMI, and years since diagnosis of T2D. Differences in baseline characteristic \\nwere assessed using paired t-tests or Chi-squared tests. Linear mixed models (LMM) with \\nunstructured covariance were used to test the effect of diet group, time, and their interaction \\nterm for changes in body weight and composition, and cardiometabolic health using and \\nintention to treat approach (ITT), meaning that all participants that were randomized and \\nhave one or more measures were included in LMM analyses regardless of completion of \\nprotocol or adherence. Differences in frequency of reducing or discontinuing medication for \\nT2D was assessed using Chi-squared tests. SAS 9.4 was used for all the analyses. P<0.05 is \\ndeemed statistically significant.\\nResults\\nBaseline Characteristics of Participants\\nBaseline characteristic of participants are presented in Table 1. No differences in any', 'the whole sample. Randomization was performed by the statistician and was stratified by \\nage, sex, BMI, and years since diagnosis of T2D. Differences in baseline characteristic \\nwere assessed using paired t-tests or Chi-squared tests. Linear mixed models (LMM) with \\nunstructured covariance were used to test the effect of diet group, time, and their interaction \\nterm for changes in body weight and composition, and cardiometabolic health using and \\nintention to treat approach (ITT), meaning that all participants that were randomized and \\nhave one or more measures were included in LMM analyses regardless of completion of \\nprotocol or adherence. Differences in frequency of reducing or discontinuing medication for \\nT2D was assessed using Chi-squared tests. SAS 9.4 was used for all the analyses. P<0.05 is \\ndeemed statistically significant.\\nResults\\nBaseline Characteristics of Participants\\nBaseline characteristic of participants are presented in Table 1. No differences in any \\nbaseline characteristics were detected between HP and NP. Participant retention at 52 weeks \\ndid not differ between HP and NP (completed: HP n=37 (69.8%); NP n=34 (64.2%), p= \\n0.51).\\nAdverse Events\\nNo adverse events likely to be related to the study were reported by participants in either \\ngroup.\\nWeight Loss and Body Composition\\nChanges in body weight and composition are shown in Figure 2. Total mass was reduced by \\n10.2±1.6 kg (9.4%) in the HP group and 12.7±4.8 kg (11.8%) in the NP group (Figure 2), \\nwith no difference between groups ( p=0.336). Fat mass percent decreased (HP, 46.2±0.8% \\nvs. 41.9±1.1%, p<0.001; NP, 46.6±0.8% vs. 42.8±1.6%, p<0.001) and fat free mass percent \\nincreased (HP, 52.9±0.8% vs. 57.1±1.1%, p<0.001; NP, 51.8±1.6%, vs. 55.4±0.8% p<0.001) \\nin both groups during the intervention period with no significant difference between HP and \\nNP (fat mass percent, p = 0.665; fat free mass percent, p = 0.689). Both the HP and NP \\ngroups reduced waist circumference (HP, 118±2.0 cm vs. 111±2.1 cm, p=<0.001; NP, 117±2 \\ncm vs. 109±2 cm, p=<0.001) and BMI (HP, 38.7±1.0 kg/m2 vs. 35.0±1.0 kg/m2, p=<0.001; Clina et al. Page 6\\nObesity (Silver Spring) . Author manuscript; available in PMC 2024 August 01.\\nAuthor Manuscript Author Manuscript Author Manuscript Author ManuscriptNP, 38.8±1.0 kg/m2 cm vs. 34.4±1.0 kg/m2, p=<0.001) from baseline to week 52, with no \\ndifferences between groups (waist circumference, p=0.934; BMI, p=0.421). Supplemental \\nfigure 1 includes additional plots related to body composition changes by group.\\nIndicators of Type 2 Diabetes\\nChanges in indicators of type 2 diabetes are presented in Table 2. In general, participants \\nreduced HbA1c, fasting glucose and HOMA-IR with no differences in changes between HP \\nand NP. Data describing participants with HbA1c ≥6.5% or fasting glucose ≥126 mg/dL \\n(clinically diagnostic of T2D) at baseline and week 52 by diet group are presented in Table \\n3. At baseline, 73.6% of participants in the HP group and 62.3% of participants in the NP \\ngroup had biomarkers in the range for T2D. Using the ITT approach, 24.5% and 22.6% \\nof participants in the HP and NP groups respectively reduced these values to no longer \\nmeet diagnostic criteria for T2D. Using the completer analyses, these numbers are 38.2% \\nand 38.5% for the HP and NP groups respectively. Four participants in the HP group and \\n1 participant in the NP group were classified as having a negative change, with values at \\nbaseline not meeting criteria for T2D diagnosis, but meeting these criteria at week 52. There \\nwere no differences between diet groups for any changes in T2D indicators. Also during \\nthe trial, n=14 participants (HP, n=5; NP, n=9) discontinued all T2D medications and n=16 \\n(HP, n=7; NP, n=9) reduced at least one T2D medication. The frequency of discontinuing or \\nreducing T2D medications was not statistically different between HP and NP ( p=0.4358).\\nLaboratory Markers\\nChanges in blood pressure, lipids, and BUN are summarized in Table 4. Participants reduced \\nsystolic and diastolic blood pressures, and triglycerides with no differences between groups. \\nBUN was increased in both groups at week 52 compared to baseline with no difference \\nbetween HP and NP. There were no changes in total cholesterol, HDL cholesterol, or LDL \\ncholesterol in either group over the duration of the intervention.\\nDiscussion\\nBoth the HP and NP diet groups significantly reduced weight and improved in key indicators \\nof T2D with no difference between groups. These findings support data suggesting that \\nweight loss is the primary driver of improvements in glucose control. Results from the Look \\nAHEAD (Action for Health in Diabetes) study found that those with a 5–10% reduction \\nin weight had increased odds of achieving a 0.5% reduction in HbA1c (odds ratio 3.52) \\n[35]. Evidence from review papers also suggests that modest weight loss can successfully \\nresult in remission of T2D in many individuals [ 36]. Findings from the current study further \\nsupport the notion that weight loss can produce improvements in glucose control in many \\nwith T2D. Average weight loss in the current study was consistent with that found to cause \\nimprovements in T2D in the majority of participants in DiRECT [ 15]. Our results extend \\nthose of previous research by demonstrating that weight loss is an effective treatment for \\nT2D.\\nContrary to the hypothesis, the HP diet did not result in greater weight loss when compared \\nto the NP diet. Instead, the groups had similar weight loss and body composition changes Clina et al. Page 7\\nObesity (Silver Spring) . Author manuscript; available in PMC 2024 August 01.\\nAuthor Manuscript Author Manuscript Author Manuscript Author Manuscriptfollowing the intervention. It was also hypothesized that the HP group would result in \\npreferential loss of fat mass compared to fat free mass which was also not supported. A \\nrecent review suggested that a weight loss could increase risk of mortality for those recently \\ndiagnosed with T2D potentially as a result in a decline in appendicular lean mass [ 37]. \\nWhile appendicular body composition was not analyzed for the present study, whole-body \\nfat free mass was only slightly reduced with no significant differences between groups. The \\npreferential loss of fat mass in both diet groups in the present study lessens concerns related \\nto potential weight loss-related adverse events.\\nResults from this study also add to the literature regarding the impact of HP diets during \\nweight loss for individuals with T2D. The HP and NP groups had similar reduction in \\nindices of T2D, including HbA1c and fasting glucose. Some trials have demonstrated that \\na HP diet is more beneficial than a high carbohydrate diet in outcomes associated with \\nT2D [ 19, 38]. However, One trial in post-menopausal women demonstrated that a HP diet \\nduring weight loss could negatively insulin action [ 20], however this did not seem to be \\nthe case in the present study, as marked by similar improvements in HOMA-IR across \\ngroups. In the present study, at baseline, 73.6% of participants in the HP group and 62.3% \\nof participants in the NP group had biomarkers in the range for T2D. Notably, inclusion \\ninto the study was based on previously diagnosed T2D but did not require participants to \\npresent with a diagnostic value for A1c or fasting glucose at baseline. This resulted in some \\nparticipants having A1c or fasting glucose below the diabetic range at study entry. This is \\nlikely because many participants were taking T2D medications at baseline and they were \\nnot required to discontinue medications at study entry as has been done in other studies \\nsuch as DiRECT [ 15]. Participants exhibiting indices of T2D was reduced to 35.1% and \\n32.4% in the HP and NP groups, respectively. These findings strongly suggest that achieved \\nweight loss – regardless of dietary pattern – is the primary factor driving improvements \\nin glucose control. This finding has substantial public health implications as it provides a \\ndegree of individual-level flexibility in choosing a dietary pattern that is consistent with \\npatient preferences.\\nThese results demonstrate that the inclusion of lean, minimally processed beef does not \\nimpact the effectiveness of an energy restricted diet to induce weight loss and improvements \\nin cardiometabolic health. Previous work from our group found equivalent changes in body \\nweight and composition between a HP diet including beef and a HP diet excluding all red \\nmeat [ 25]. The present study builds on this work, through the investigation of two diets \\nwith differing recommended macronutrient compositions. From these data, it is evident that \\nminimally processed, lean beef can be safely included in diets when attempting to lose \\nweight and control glucose.\\nA limitation of this trial was that despite giving explicit diet rules and lists to participants, \\nboth groups saw an equivalent increase in BUN from baseline to week 52. This finding \\ncould indicate that the protein composition of the diet groups likely did not reach the \\nintended macronutrient distributions, with the groups consuming similar amounts of protein. \\nThe study might not have been able to detect the true impact on improvements in T2D \\nmarkers because participants discontinued medication as recommended by their primary \\ncare providers. This could mean that the observed intervention could have had a greater Clina et al. Page 8\\nObesity (Silver Spring) . Author manuscript; available in PMC 2024 August 01.\\nAuthor Manuscript Author Manuscript Author Manuscript Author Manuscripteffect if those participants had stayed on their medications. Additionally, the COVID-19 \\npandemic began during the first cohort of the AL and CO groups and lasted throughout the \\nrest of the study. The onset of the pandemic resulted in several methodological changes of \\nthe study and impacted the lives of participants taking part in the intervention. Fortunately,', 'could indicate that the protein composition of the diet groups likely did not reach the \\nintended macronutrient distributions, with the groups consuming similar amounts of protein. \\nThe study might not have been able to detect the true impact on improvements in T2D \\nmarkers because participants discontinued medication as recommended by their primary \\ncare providers. This could mean that the observed intervention could have had a greater Clina et al. Page 8\\nObesity (Silver Spring) . Author manuscript; available in PMC 2024 August 01.\\nAuthor Manuscript Author Manuscript Author Manuscript Author Manuscripteffect if those participants had stayed on their medications. Additionally, the COVID-19 \\npandemic began during the first cohort of the AL and CO groups and lasted throughout the \\nrest of the study. The onset of the pandemic resulted in several methodological changes of \\nthe study and impacted the lives of participants taking part in the intervention. Fortunately, \\nthe SOS program had been previously delivered in a virtual format, so changes to course \\ncontent were minor. Classes were still able to be held at the usual time, but in a virtual \\nsetting. However, research study visits were completely halted for a period during the study, \\nhence the completion of some of the week 16 visits virtually instead of in-person. This \\nchange limited the data that could be collected at this timepoint. In addition, some outcome \\nmeasures tests that were originally collected in person could no longer be collected at all, \\neven when restrictions were lifted, including resting energy expenditure and six-minute walk \\ntest. These two tests were removed because masks were still required in the research facility \\nand since baseline measurements were collected without masks, it was unclear if the use of \\nmasks at future visits would impact results. Some participants who withdrew from the study \\ncited COVID-19 as a primary reason for leaving, such as increased work demands. Total \\nattrition overall was high at 33%, which is likely due in part to the challenges faced during \\nthe COVID-19 pandemic. Despite challenges, the study team was able to adapt swiftly to the \\nnature of the pandemic and continue the intervention and data collection.\\nThese result show that behavioral weight loss programs can produce significant weight loss \\nin those with T2D and that this weight loss can improve glucose control and many other \\naspects of cardiometabolic health. Results also show that avoiding red meat does not provide \\nan advantage either in weight loss or in disease management.\\nSupplementary Material\\nRefer to Web version on PubMed Central for supplementary material.\\nAcknowledgements\\nThe authors acknowledge Jeanne Anne Breen and Aaron Chestnut for their effort in the recruitment, retention, \\nand completion of study visits. The authors would also like to acknowledge Marsha Miller for coaching the SOS \\nclasses at the CO site. Finally, the authors acknowledge the participants for their contribution to the study and time \\nand effort put forth as a part of this trial. Funding for the parent trial was provided by the Beef Checkoff. This \\nwork was also supported by NIH/NCATS Colorado CTSA Grant Number UL1 TR002535 and by Award Number \\nP30DK056336 from the National Institute Of Diabetes And Digestive And Kidney Diseases. The content is solely \\nthe responsibility of the authors and does not necessarily represent the official views of the National Institute Of \\nDiabetes And Digestive And Kidney Diseases or the National Institutes of Health. The corresponding author will \\ncooperate with any requests for data sharing. Any data described in the manuscript will be made available upon \\nrequest pending application and approval.\\nFunding:\\nFunding for this study was provided by The Beef Checkoff/National Cattlemen’s Beef Association and the \\nUniversity of Alabama at Birmingham, Nutrition Obesity Research Center. The financial supporters had no role in \\nthe design and conduct of the study or collection, analysis, and interpretation of the data.\\nJOH and HRW have received royalties from the book, State of Slim. They have ownership in Shakabuku LLC, \\nwhich offers weight loss to the public. HRW has received grant support for unrelated studies from Gelesis, Novo \\nNordisk, Epitome, and General Mills, Inc., and has done consulting for Gelesis and reports speaking fees from \\nNovo Nordisk, and the National Cattlemen’s Beef Association. JOH has received grant funding for unrelated \\nstudies from Gelesis and has done consulting for Gelesis, General Mills, Inc., and McCormick Science Institute. Clina et al. Page 9\\nObesity (Silver Spring) . Author manuscript; available in PMC 2024 August 01.\\nAuthor Manuscript Author Manuscript Author Manuscript Author ManuscriptRDS has received grant support for an unrelated study from General Mills, Inc., and reports speaking fees from the \\nTexas Beef Council.\\nReferences\\n1. Control, C.f.D. and Prevention, National diabetes statistics report: estimates of diabetes and its \\nburden in the United States, 2014. Atlanta, GA: US Department of Health and Human Services, \\n2014. 2014.\\n2. Einarson TR, et al. , Prevalence of cardiovascular disease in type 2 diabetes: a systematic literature \\nreview of scientific evidence from across the world in 2007–2017. Cardiovascular Diabetology, \\n2018. 17(1): p. 83. [PubMed: 29884191] \\n3. Afkarian M, et al. , Kidney disease and increased mortality risk in type 2 diabetes. Journal of the \\nAmerican Society of Nephrology, 2013. 24(2): p. 302–308. [PubMed: 23362314] \\n4. Koye DN, et al. , The global epidemiology of diabetes and kidney disease. Advances in chronic \\nkidney disease, 2018. 25(2): p. 121–132. [PubMed: 29580576] \\n5. Muller IS, et al. , Foot ulceration and lower limb amputation in type 2 diabetic patients in Dutch \\nprimary health care. Diabetes care, 2002. 25(3): p. 570–574. [PubMed: 11874949] \\n6. Shatnawi NJ, et al. , Predictors of major lower limb amputation in type 2 diabetic patients referred \\nfor hospital care with diabetic foot syndrome. Diabetes, metabolic syndrome and obesity: targets \\nand therapy, 2018. 11: p. 313. [PubMed: 29950877] \\n7. Singh N, Armstrong DG, and Lipsky BA, Preventing foot ulcers in patients with diabetes. Jama, \\n2005. 293(2): p. 217–228. [PubMed: 15644549] \\n8. Berster JM and Göke B, Type 2 diabetes mellitus as risk factor for colorectal cancer. Archives of \\nphysiology and biochemistry, 2008. 114(1): p. 84–98. [PubMed: 18465362] \\n9. Cheung N. and Wong TY , Diabetic retinopathy and systemic vascular complications. Progress in \\nretinal and eye research, 2008. 27(2): p. 161–176. [PubMed: 18249026] \\n10. Sasongko MB, et al. , Prevalence of diabetic retinopathy and blindness in Indonesian adults with \\ntype 2 diabetes. American journal of ophthalmology, 2017. 181: p. 79–87. [PubMed: 28669781] \\n11. Albu J. and Pi-Sunyer FX, Obesity and diabetes, in Handbook of obesity. 2003, CRC Press. p. \\n915–934.\\n12. Maggio CA and Pi-Sunyer FX, Obesity and type 2 diabetes. Endocrinology and Metabolism \\nClinics, 2003. 32(4): p. 805–822. [PubMed: 14711063] \\n13. Apovian CM, Obesity: definition, comorbidities, causes, and burden. Am J Manag Care, 2016. \\n22(7 Suppl): p. s176–85. [PubMed: 27356115] \\n14. Schelbert KB, Comorbidities of obesity. Primary Care: Clinics in Office Practice, 2009. 36(2): p. \\n271–285. [PubMed: 19501243] \\n15. Lean ME, et al. , Primary care-led weight management for remission of type 2 diabetes (DiRECT): \\nan open-label, cluster-randomised trial. The Lancet, 2018. 391(10120): p. 541–551.\\n16. Wycherley TP, et al. , Effects of energy-restricted high-protein, low-fat compared with standard-\\nprotein, low-fat diets: a meta-analysis of randomized controlled trials. The American journal of \\nclinical nutrition, 2012. 96(6): p. 1281–1298. [PubMed: 23097268] \\n17. Wycherley TP, et al. , A high-protein diet with resistance exercise training improves weight loss \\nand body composition in overweight and obese patients with type 2 diabetes. Diabetes care, 2010. \\n33(5): p. 969–976. [PubMed: 20150293] \\n18. Leidy HJ, et al. , The role of protein in weight loss and maintenance. The American journal of \\nclinical nutrition, 2015. 101(6): p. 1320S–1329S. [PubMed: 25926512] \\n19. Kitabchi AE, et al. , Effects of high-protein versus high-carbohydrate diets on markers of β-cell \\nfunction, oxidative stress, lipid peroxidation, proinflammatory cytokines, and adipokines in obese, \\npremenopausal women without diabetes: a randomized controlled trial. Diabetes care, 2013. 36(7): \\np. 1919–1925. [PubMed: 23404297] \\n20. Smith Gordon I., et al. , High-Protein Intake during Weight Loss Therapy Eliminates the Weight-\\nLoss-Induced Improvement in Insulin Action in Obese Postmenopausal Women. Cell Reports, \\n2016. 17(3): p. 849–861. [PubMed: 27732859] Clina et al. Page 10\\nObesity (Silver Spring) . Author manuscript; available in PMC 2024 August 01.\\nAuthor Manuscript Author Manuscript Author Manuscript Author Manuscript21. Daniel CR, et al. , Trends in meat consumption in the USA. Public health nutrition, 2011. 14(4): p. \\n575–583. [PubMed: 21070685] \\n22. Barnard N, Levin S, and Trapp C, Correction: Barnard N, et al. Meat Consumption as a Risk Factor \\nfor Type 2 Diabetes. Nutrients 2014, 6, 897–910. Nutrients, 2014. 6(10): p. 4317–4319. [PubMed: \\n24566443] \\n23. Pan A, et al. , Changes in red meat consumption and subsequent risk of type 2 diabetes mellitus: \\nthree cohorts of US men and women. JAMA internal medicine, 2013. 173(14): p. 1328–1335. \\n[PubMed: 23779232] \\n24. Sayer RD, et al. , Dietary Approaches to Stop Hypertension diet retains effectiveness to reduce \\nblood pressure when lean pork is substituted for chicken and fish as the predominant source \\nof protein. The American journal of clinical nutrition, 2015. 102(2): p. 302–308. [PubMed: \\n26063693] \\n25. Sayer R, et al. , Equivalent reductions in body weight during the Beef WISE Study: beef’s role in', '575–583. [PubMed: 21070685] \\n22. Barnard N, Levin S, and Trapp C, Correction: Barnard N, et al. Meat Consumption as a Risk Factor \\nfor Type 2 Diabetes. Nutrients 2014, 6, 897–910. Nutrients, 2014. 6(10): p. 4317–4319. [PubMed: \\n24566443] \\n23. Pan A, et al. , Changes in red meat consumption and subsequent risk of type 2 diabetes mellitus: \\nthree cohorts of US men and women. JAMA internal medicine, 2013. 173(14): p. 1328–1335. \\n[PubMed: 23779232] \\n24. Sayer RD, et al. , Dietary Approaches to Stop Hypertension diet retains effectiveness to reduce \\nblood pressure when lean pork is substituted for chicken and fish as the predominant source \\nof protein. The American journal of clinical nutrition, 2015. 102(2): p. 302–308. [PubMed: \\n26063693] \\n25. Sayer R, et al. , Equivalent reductions in body weight during the Beef WISE Study: beef’s role in \\nweight improvement, satisfaction and energy. Obesity science & practice, 2017. 3(3): p. 298–310. \\n[PubMed: 29071106] \\n26. Roussell MA, et al. , Beef in an Optimal Lean Diet study: effects on lipids, lipoproteins, and \\napolipoproteins. The American journal of clinical nutrition, 2012. 95(1): p. 9–16. [PubMed: \\n22170364] \\n27. Roussell M, et al. , Effects of a DASH-like diet containing lean beef on vascular health. Journal of \\nhuman hypertension, 2014. 28(10): p. 600–605. [PubMed: 24943285] \\n28. Magkos F, et al. , Unprocessed red meat in the dietary treatment of obesity: a randomized \\ncontrolled trial of beef supplementation during weight maintenance after successful weight loss. \\nThe American Journal of Clinical Nutrition, 2022.\\n29. Sanders LM, Wilcox ML, and Maki KC, Red meat consumption and risk factors for type 2 \\ndiabetes: a systematic review and meta-analysis of randomized controlled trials. European Journal \\nof Clinical Nutrition, 2022.\\n30. Butryn ML, et al. , Consistent self-monitoring of weight: a key component of successful weight \\nloss maintenance. Obesity (Silver Spring), 2007. 15(12): p. 3091–6. [PubMed: 18198319] \\n31. Dhurandhar NV , et al. , Energy balance measurement: when something is not better than nothing. \\nInternational journal of obesity, 2015. 39(7): p. 1109–1113. [PubMed: 25394308] \\n32. Obesity, N.A.A.f.t.S.o., et al., The practical guide: identification, evaluation, and treatment of \\noverweight and obesity in adults. 2000: National Institutes of Health, National Heart, Lung, and \\nBlood Institute ….\\n33. Harris PA, et al. , The REDCap consortium: Building an international community of software \\nplatform partners. Journal of biomedical informatics, 2019. 95: p. 103208.\\n34. Harris PA, et al. , Research electronic data capture (REDCap)—a metadata-driven methodology \\nand workflow process for providing translational research informatics support. Journal of \\nbiomedical informatics, 2009. 42(2): p. 377–381. [PubMed: 18929686] \\n35. Wing RR, et al. , Benefits of Modest Weight Loss in Improving Cardiovascular Risk Factors in \\nOverweight and Obese Individuals With Type 2 Diabetes. Diabetes Care, 2011. 34(7): p. 1481–\\n1486. [PubMed: 21593294] \\n36. Lau DCW and Teoh H, Benefits of Modest Weight Loss on the Management of Type 2 Diabetes \\nMellitus. Canadian Journal of Diabetes, 2013. 37(2): p. 128–134. [PubMed: 24070804] \\n37. Huang S, et al. , Association of magnitude of weight loss and weight variability with mortality and \\nmajor cardiovascular events among individuals with type 2 diabetes mellitus: a systematic review \\nand meta-analysis. Cardiovascular Diabetology, 2022. 21(1): p. 78. [PubMed: 35578337] \\n38. McAuley K, et al. , Comparison of high-fat and high-protein diets with a high-carbohydrate diet in \\ninsulin-resistant obese women. Diabetologia, 2005. 48: p. 8–16. [PubMed: 15616799] Clina et al. Page 11\\nObesity (Silver Spring) . Author manuscript; available in PMC 2024 August 01.\\nAuthor Manuscript Author Manuscript Author Manuscript Author ManuscriptWhat is already known about this subject?\\n• Weight loss of ≥10% improves can improve glucose control and even remit \\ntype 2 diabetes for some\\n• High protein diets can produce greater weight loss and prevent loss of fat free \\nmass compared to diets lower in protein\\n• Some observational studies recommend limiting red meat consumption to \\nreduce risk for type 2 diabetes, but data from randomized clinical trials \\ngenerally find little to no independent effect of lean red meat consumption.\\nWhat are the new findings in your manuscript?\\n• Both a normal protein diet excluding red meat and a high protein diet \\ncontaining red meat are effective at producing weight loss and improvements \\nin glucose control\\nHow might your results change the direction of research or the focus of clinical \\npractice?\\n• Weight loss, not diet composition, is the primary driver of type 2 diabetes \\nmanagement\\n• Avoiding red meat does not provide additional benefit for weight loss or \\nimprovements in glucose control during a weight loss interventionClina et al. Page 12\\nObesity (Silver Spring) . Author manuscript; available in PMC 2024 August 01.\\nAuthor Manuscript Author Manuscript Author Manuscript Author ManuscriptFigure 1. CONSORT Diagram\\nDiagram of participant flow.Clina et al. Page 13\\nObesity (Silver Spring) . Author manuscript; available in PMC 2024 August 01.\\nAuthor Manuscript Author Manuscript Author Manuscript Author ManuscriptFigure 2. Change in Body Weight and Composition\\nDepicts changes in weight and composition (fat and fat free mass) in kilograms from \\nbaseline to week 52 by diet group. Mixed effects models used to test the effect of diet \\ngroup, time, and their interaction term on body weight and composition changes. Presented \\nas LSMEANS±SE. Both groups had a significantly reduced weight (HP −10.2±1.6 kg; NP \\n−12.5±1.6 kg), fat mass (HP −8.4±1.4 kg; NP −9.1±1.5 kg), and fat-free mass (HP −1.8±0.4 \\nkg; NP −2.9±0.4 kg), but the majority of weight loss was due to fat mass loss. There were \\nno differences in outcomes by diet group in changes in total mass ( p=0.333), fat mass \\n(p=0.735), or fat free mass p=0.056).Clina et al. Page 14\\nObesity (Silver Spring) . Author manuscript; available in PMC 2024 August 01.\\nAuthor Manuscript Author Manuscript Author Manuscript Author ManuscriptAuthor Manuscript Author Manuscript Author Manuscript Author ManuscriptClina et al. Page 15\\nTable 1.\\nBaseline Characteristics of Participants\\nPresent baseline characteristics of participants by diet group assignment. Percent of sample (i.e. % female, % \\nusing medications for T2D), waist circumference, and blood biomarkers rounded to the nearest whole number \\n(except HOMA-IR, HbA1c %, and insulin)\\nParameter HP NP\\nAge, y (M±SD) 54.1 ± 12.0 55.4 ± 9.6\\nDuration of T2D, y (M±SD) 3.2 ± 1.8 3.2 ± 1.6\\nFemale, n (%) 38 (72) 42 (79)\\nUsing Medications for T2D, n (%) 48 (91) 46 (87)\\nAnthropometrics  (M±SD)\\n Weight, kg 108.0 ± 22.8 107.8 ± 26.6\\n BMI, kg/m2 38.7 ± 6.8 38.8 ± 7.3\\n Waist Circumference, cm 118 ± 14 117 ± 15\\n Fat Mass, % 46.2 ± 6.2 46.6 ± 5.9\\n Fat-Free Mass, % 52.9 ± 6.1 52.4 ± 5.8\\nBiomarkers  (M±SD)\\n HOMA-IR 7.6 ± 7.0 5.9 ± 3.4\\n Glucose, mg/dL 134 ± 38 130 ± 40\\n HbA1c, % 7.2 ± 1.0 7.0 ± 1.3\\n Insulin, μIU/mL 22.3 ± 16.5 18.1 ± 11.1\\n BP Systolic, mmHg 135 ± 15 135 ± 15\\n BP Diastolic, mmHg 86 ± 9 86 ± 9\\n Triglycerides, mg/dL 138 ± 71 139 ± 58\\n HDL Cholesterol, mg/dL 47 ± 11 45 ± 9\\n LDL Cholesterol, mg/dL 94 ± 28 95 ± 36\\nRace , n (%)\\n White 37 (70) 30 (57)\\n Black 11 (21) 19 (39)\\n Asian 3 (6) 1 (2)\\n Native Hawaiian or Pacific Islander 1 (2) 0 (0)\\n Other 1 (2) 3 (6)\\nEthnicity , n (%)\\n Hispanic 6 (11) 9 (17)\\n Non-Hispanic 46 (87) 43 (81)\\n Did not report 1 (2) 1 (2)\\nAbbreviations: BMI, body mass index; BP, blood pressure; cm, centimeter; dL, deciliter; HDL, high ‐density lipoprotein cholesterol; HbA1c, \\nhemoglobin A1c; HOMA-IR, Homeostatic Model Assessment for Insulin Resistance; HP, high protein; kg, kilogram; LDL, low ‐density lipoprotein \\ncholesterol; M, mean; m, meter; mg, milligrams; ml, milliliter; mmHg, millimeters of mercury; NP, normal protein; SD, standard deviation; T2D, \\ntype 2 diabetes; y, years; μIU, micro international unit.\\nObesity (Silver Spring) . Author manuscript; available in PMC 2024 August 01.Author Manuscript Author Manuscript Author Manuscript Author ManuscriptClina et al. Page 16\\nTable 2.\\nChanges in Indicators of Type 2 Diabetes by Diet Group\\nParameter Group Baseline Week 52 Mean Change 95% CI for Change P-value\\nGlucose, mg/dL HP 134 (5) 115 (6) −19 (6) (−31.0, −6.8)\\nNP 130 (5) 111 (6) −19 (6) (−31.4, −6.4) 0.999\\nHbA1c, % HP 7.2 (0.2) 6.4 (0.2) −0.8 (0.2) (−1.1, −0.4)\\nNP 7.0 (0.2) 6.5 (0.2) −0.5 (0.2) (−0.9, −0.1) 0.329\\nInsulin, μIU/mL HP 22.3 (1.9) 14.5 (1.7) −7.8 (2.0) (−11.8, −3.7)\\nNP 18.8 (1.9) 11.0 (1.8) −7.8 (2.0) (−12.0, −3.7) 0.979\\nHOMA-IR HP 7.6 (0.8) 4.5 (0.7) −3.1 (0.8) (−4.7, −1.6)\\nNP 5.9 (0.8) 3.2 (0.7) −2.7 (.8) (−4.2, −1.1) 0.657\\nValues presented as LS MEANS (SE) with glucose values rounded to nearest whole number. Values are model based from the ITT analysis \\nperformed, including LS MEANS, change, and 95% CI.\\nP-value represents differences in change between diet groups (HP vs. NP)\\nMixed effects model used to test the effect of time, group, and their interaction term on changes in indicators of type 2 diabetes. Both diet groups \\nreduced, glucose, HbA1c, insulin, and HOMA-IR from baseline to week 52. There were no differences in change in any parameters by diet group \\n(HP vs NP)\\nAbbreviations: dL, deciliter; HbA1c, hemoglobin A1c; HOMA-IR, Homeostatic Model Assessment for Insulin Resistance; HP, high protein; mg, \\nmilligrams; mL, milliliter; NP, normal protein; μIU, micro international unit.\\nObesity (Silver Spring) . Author manuscript; available in PMC 2024 August 01.Author Manuscript Author Manuscript Author Manuscript Author ManuscriptClina et al. Page 17\\nTable 3.\\nChanges in Type 2 Diabetes Status\\nPresents changes in status of Type 2 Diabetes as indicated by HbA1c ≥6.5% or fasting glucose ≥126 mg/dL \\n(clinically diagnostic of T2D) from baseline to week 52 of the trial.\\nITT Approach HP n (%) NP n (%)', 'Mixed effects model used to test the effect of time, group, and their interaction term on changes in indicators of type 2 diabetes. Both diet groups \\nreduced, glucose, HbA1c, insulin, and HOMA-IR from baseline to week 52. There were no differences in change in any parameters by diet group \\n(HP vs NP)\\nAbbreviations: dL, deciliter; HbA1c, hemoglobin A1c; HOMA-IR, Homeostatic Model Assessment for Insulin Resistance; HP, high protein; mg, \\nmilligrams; mL, milliliter; NP, normal protein; μIU, micro international unit.\\nObesity (Silver Spring) . Author manuscript; available in PMC 2024 August 01.Author Manuscript Author Manuscript Author Manuscript Author ManuscriptClina et al. Page 17\\nTable 3.\\nChanges in Type 2 Diabetes Status\\nPresents changes in status of Type 2 Diabetes as indicated by HbA1c ≥6.5% or fasting glucose ≥126 mg/dL \\n(clinically diagnostic of T2D) from baseline to week 52 of the trial.\\nITT Approach HP n (%) NP n (%)\\nRemained in abnormal range 7 (13) 12 (23)\\nRemained in normal range 12 (19) 9 (17)\\nPositive change (abnormal to normal value) 13 (25) 12 (23)\\nNegative change (normal to abnormal) 4 (8) 1 (2)\\nUnknown (no paired value) 19 (36) 16 (30)\\nCompleters Analysis\\nRemained in abnormal range 7 (21) 12 (33)\\nRemained in normal range 10 (2) 9 (25)\\nPositive change (abnormal to normal value) 13 (38) 14 (39)\\nNegative change (normal to abnormal) 4 (12) 1 (3)\\nIntention to treat (ITT) and completers analyses are presented. Unknown in the ITT approach refers to participants without either a baseline or \\nweek 52 value, therefore no conclusions could be made regarding change in status. Abnormal value refers to lab values consistent with T2D \\ndiagnosis where normal range refers to values below the criteria for T2D diagnosis. Percentages rounded to nearest whole number.\\nObesity (Silver Spring) . Author manuscript; available in PMC 2024 August 01.Author Manuscript Author Manuscript Author Manuscript Author ManuscriptClina et al. Page 18\\nTable 4.\\nLaboratory Markers Changes by Diet Group\\nValues presented as LS MEANS (SE) rounded to the nearest whole number. Values are model based from the \\nITT analysis performed, including LS MEANS, change, and 95% CI.\\nParameter Group Baseline Week 52 Mean Change 95% CI for Change P-value\\nBP Systolic, mmHg HP 135 (2) 126 (3) −9 (2) (−13.0, −5.1)\\nNP 135 (2) 127 (3) −8 (2) (−12.2, −3.9) 0.719\\nBP Diastolic, mmHg HP 86 (1) 78 (1) −7 (2) (−10.2, −4.2)\\nNP 86 (1) 81 (2) −6 (2) (−8.6, −2.3) 0.430\\nTriglycerides, mg/dL HP 138 (9) 114 (10) −25 (9) (−42.8, −6.1)\\nNP 139 (9) 110 (10) −29 (10) (−48.0, −10.0) 0.732\\nHDL Cholesterol, mg/dL HP 47 (1) 47 (2) 2 (1) (−2.1, 2.9)\\nNP 45 (1) 47 (2) 1 (2) (−0.8, 4.4) 0.448\\nLDL Cholesterol, mg/dL HP 94 (4) 91 (5) −3 (4) (−11.1, 4.6)\\nNP 95 (4) 94 (5) −1 (4) (−9.3, 6.9) 0.718\\nBUN HP 15 (1) 17 (1) 3 (1) (1.5, 4.2)\\nNP 15 (6) 18 (1) 3 (1) (1.2, 4.0) 0.770\\nP-value represents differences in change between diet groups (HP vs. NP)\\nMixed effects model used to test the effect of time, group, and their interaction term on changes in laboratory markers. Both diet groups reduced \\nsystolic and diastolic blood pressures and triglycerides from baseline to week 52. Neither group had changes in HDL or LDL cholesterol from \\nbaseline to week 52. Both groups increased BUN from baseline to week 52. There were no differences in change in any parameters by diet group \\n(HP vs NP)\\nAbbreviations: BUN, blood urea nitrogen; BP, blood pressure; dL, deciliter; HDL, high ‐density lipoprotein cholesterol; HP, high protein; LDL, \\nlow‐density lipoprotein cholesterol; mg, milligrams; mmHg, millimeters of mercury; NP, normal protein.\\nObesity (Silver Spring) . Author manuscript; available in PMC 2024 August 01.']\n",
      "6\n"
     ]
    }
   ],
   "source": [
    "# Initialize a text splitter with specified chunk size and overlap\n",
    "splitter2 = RecursiveCharacterTextSplitter(chunk_size=10000, chunk_overlap=1000)\n",
    "# Split the extracted text into manageable chunks\n",
    "chunks2 = splitter2.split_text(text)\n",
    "\n",
    "# Display the resulting chunks\n",
    "print(chunks2)\n",
    "print(len(chunks2))"
   ]
  },
  {
   "cell_type": "markdown",
   "metadata": {},
   "source": [
    "### Step 5: Creating and Saving a Vector Store\n",
    "\n",
    "In this step, we generate embeddings for the text chunks and store them in a vector database for efficient retrieval.\n",
    "\n",
    "1. **Generate Embeddings**:\n",
    "   - We use `GoogleGenerativeAIEmbeddings` to create embeddings for each text chunk.\n",
    "   - The parameter `model=\"models/embedding-001\"` specifies the embedding model to use. Ensure this model is available and properly configured in your environment.\n",
    "\n",
    "2. **Create the FAISS Vector Store**:\n",
    "   - FAISS (Facebook AI Similarity Search) is a library for efficient similarity search and clustering of dense vectors.\n",
    "\n",
    "3. **Save the Vector Store**:\n",
    "   - The `save_local(\"faiss_index\")` method saves the FAISS index to a local file.\n",
    "   - This allows us to reuse the index in later sessions without re-processing the text or regenerating embeddings.\n",
    "\n",
    "#### Notes:\n",
    "- **Why Use FAISS?**\n",
    "  - It is highly optimized for large-scale vector searches and enables quick retrieval of relevant chunks for a given query.\n",
    "- **Next Steps**:\n",
    "  - The stored vector database will be used to retrieve the most relevant chunks of text when querying the system."
   ]
  },
  {
   "cell_type": "code",
   "execution_count": 9,
   "metadata": {},
   "outputs": [],
   "source": [
    "embeddings = GoogleGenerativeAIEmbeddings(model=\"models/embedding-001\")\n",
    "vector_store = FAISS.from_texts(chunks, embedding=embeddings)\n",
    "vector_store.save_local(\"faiss_index\")\n"
   ]
  },
  {
   "cell_type": "markdown",
   "metadata": {},
   "source": [
    "### Step 6: Initializing Weave for Project Tracking\n",
    "\n",
    "In this step, we initialize **Weave**, a library designed for tracking and visualizing machine learning workflows and data flows.\n",
    "\n",
    "1. **What is Weave?**\n",
    "   - Weave is a tool for logging, monitoring, and debugging machine learning experiments and pipelines.\n",
    "   - It allows you to visualize your project’s structure, metrics, and progress, which is especially useful in iterative development.\n",
    "\n",
    "2. **Initialization**:\n",
    "   - The `weave.init()` function initializes a new Weave project. The argument `\"medical-data-chatbot\"` specifies the project name.\n",
    "   - This name will help organize and track this specific project in the Weave dashboard."
   ]
  },
  {
   "cell_type": "code",
   "execution_count": 10,
   "metadata": {},
   "outputs": [
    {
     "name": "stdout",
     "output_type": "stream",
     "text": [
      "Please login to Weights & Biases (https://wandb.ai/) to continue:\n"
     ]
    },
    {
     "name": "stderr",
     "output_type": "stream",
     "text": [
      "\u001b[34m\u001b[1mwandb\u001b[0m: Using wandb-core as the SDK backend.  Please refer to https://wandb.me/wandb-core for more information.\n",
      "\u001b[34m\u001b[1mwandb\u001b[0m: Logging into wandb.ai. (Learn how to deploy a W&B server locally: https://wandb.me/wandb-server)\n",
      "\u001b[34m\u001b[1mwandb\u001b[0m: You can find your API key in your browser here: https://wandb.ai/authorize\n",
      "\u001b[34m\u001b[1mwandb\u001b[0m: Paste an API key from your profile and hit enter, or press ctrl+c to quit:\u001b[34m\u001b[1mwandb\u001b[0m: Appending key for api.wandb.ai to your netrc file: /home/codespace/.netrc\n"
     ]
    },
    {
     "name": "stdout",
     "output_type": "stream",
     "text": [
      "weave version 0.51.44 is available!  To upgrade, please run:\n",
      " $ pip install weave --upgrade\n",
      "Logged in as Weights & Biases user: j-r-heierli.\n",
      "View Weave data at https://wandb.ai/j-r-heierli-zhaw/medical-data-chatbot/weave\n"
     ]
    },
    {
     "data": {
      "text/plain": [
       "<weave.trace.weave_client.WeaveClient at 0x722b3f51a060>"
      ]
     },
     "execution_count": 10,
     "metadata": {},
     "output_type": "execute_result"
    }
   ],
   "source": [
    "weave.init(\"medical-data-chatbot\")"
   ]
  },
  {
   "cell_type": "markdown",
   "metadata": {},
   "source": [
    "### Step 7: Setting Up the Retriever\n",
    "\n",
    "In this step, we configure a **retriever**.\n",
    "\n",
    "**Create a Retriever**:\n",
    "   - The `vector_store.as_retriever()` method converts the FAISS vector store into a retriever object.\n",
    "   - The parameter `k=4` specifies the maximum number of chunks to retrieve for each query. This ensures that only the top 4 most relevant chunks are returned.\n",
    "\n",
    "#### Notes:\n",
    "- **Why Limit the Results?**\n",
    "  - Limiting the number of results ensures that the model processes only the most relevant information, which can improve efficiency and response quality.\n",
    "  - The value of `k` can be adjusted based on the complexity of the query and the size of the text chunks.\n",
    "\n",
    "- **Next Steps**:\n",
    "  - The retriever will be used in conjunction with a generative model to form a **retrieval-augmented generation (RAG)** pipeline."
   ]
  },
  {
   "cell_type": "code",
   "execution_count": 19,
   "metadata": {},
   "outputs": [],
   "source": [
    "retriever = vector_store.as_retriever(search_kwargs={\"k\": 3})"
   ]
  },
  {
   "cell_type": "markdown",
   "metadata": {},
   "source": [
    "<p style=\"color:green; font-size: 16px;\">\n",
    "<b>Exercise: Exploring Retriever Functionality</b><br>\n",
    "<b>Goal:</b> Gain an understanding of how a retriever operates and how it determines document relevance.<br><br>\n",
    "\n",
    "<b>Instructions:</b><br>\n",
    "<ul style=\"color:green;\">\n",
    "<li>After completing <b>Step 7: Setting Up the Retriever (Cell 7)</b>, test the retriever with three distinct queries:</li>\n",
    "<ul style=\"color:green;\">\n",
    "    <li>A query closely related to the dataset content (relevant).</li>\n",
    "    <li>A query with ambiguous wording (vague).</li>\n",
    "    <li>A query entirely unrelated to the dataset (unrelated).</li>\n",
    "</ul>\n",
    "<li>For each query, analyze the documents retrieved and discuss the following:</li>\n",
    "<ul style=\"color:green;\">\n",
    "    <li>Why were these specific documents selected?</li>\n",
    "    <li>How well do the retrieved documents align with the query intent?</li>\n",
    "    <li>What patterns or limitations do you observe in the retriever's behavior?</li>\n",
    "</ul>\n",
    "</ul>\n",
    "\n",
    "<b>Purpose:</b> This exercise helps you understand the principles and limitations of similarity-based retrieval, fostering insight into its performance across different types of queries.\n",
    "</p>"
   ]
  },
  {
   "cell_type": "code",
   "execution_count": 20,
   "metadata": {},
   "outputs": [
    {
     "data": {
      "text/plain": [
       "[Document(metadata={}, page_content='Clinics, 2003. 32(4): p. 805–822. [PubMed: 14711063] \\n13. Apovian CM, Obesity: definition, comorbidities, causes, and burden. Am J Manag Care, 2016. \\n22(7 Suppl): p. s176–85. [PubMed: 27356115] \\n14. Schelbert KB, Comorbidities of obesity. Primary Care: Clinics in Office Practice, 2009. 36(2): p. \\n271–285. [PubMed: 19501243] \\n15. Lean ME, et al. , Primary care-led weight management for remission of type 2 diabetes (DiRECT): \\nan open-label, cluster-randomised trial. The Lancet, 2018. 391(10120): p. 541–551.\\n16. Wycherley TP, et al. , Effects of energy-restricted high-protein, low-fat compared with standard-\\nprotein, low-fat diets: a meta-analysis of randomized controlled trials. The American journal of \\nclinical nutrition, 2012. 96(6): p. 1281–1298. [PubMed: 23097268] \\n17. Wycherley TP, et al. , A high-protein diet with resistance exercise training improves weight loss \\nand body composition in overweight and obese patients with type 2 diabetes. Diabetes care, 2010. \\n33(5): p. 969–976. [PubMed: 20150293] \\n18. Leidy HJ, et al. , The role of protein in weight loss and maintenance. The American journal of \\nclinical nutrition, 2015. 101(6): p. 1320S–1329S. [PubMed: 25926512] \\n19. Kitabchi AE, et al. , Effects of high-protein versus high-carbohydrate diets on markers of β-cell \\nfunction, oxidative stress, lipid peroxidation, proinflammatory cytokines, and adipokines in obese, \\npremenopausal women without diabetes: a randomized controlled trial. Diabetes care, 2013. 36(7): \\np. 1919–1925. [PubMed: 23404297] \\n20. Smith Gordon I., et al. , High-Protein Intake during Weight Loss Therapy Eliminates the Weight-\\nLoss-Induced Improvement in Insulin Action in Obese Postmenopausal Women. Cell Reports, \\n2016. 17(3): p. 849–861. [PubMed: 27732859] Clina et al. Page 10\\nObesity (Silver Spring) . Author manuscript; available in PMC 2024 August 01.'),\n",
       " Document(metadata={}, page_content='increases the risk of several other co-morbid conditions including heart disease and stroke \\n[11, 13, 14]. It has been demonstrated that both T2D and obesity can be treated with lifestyle \\nmodification. For example, in DiRECT (Diabetes Remission Clinical Trial) weight loss of \\n10 to 15 kg resulted in the remission of T2D in a majority of individuals who had been \\nwho had been diagnosed with T2D within the past 6 years. Nearly 9 in 10 of individuals \\nachieving more than 15 kg of weight loss remitted their T2D [ 15]. While it is clear that \\nweight loss is associated with improvements in T2D, the role of diet composition in the \\nreversal of T2D presents a gap in knowledge.\\nHigher protein diets are an attractive target for lifestyle-based interventions for the treatment \\nof T2D. High protein diets, especially when combined with exercise, produce greater weight \\nloss and prevent losses of fat free mass (FFM) compared to lower protein diets [ 16–18]. In \\npremenopausal women with obesity without diabetes, a high protein diet improved insulin \\nsensitivity more than a high carbohydrate diet even though achieved weight loss was not \\ndifferent between diets (high protein: 9.8 ± 1.4%, high carbohydrate: 9.3 ± 1.6%, p = \\n0.9323) [ 19]. Conversely, a study in post-menopausal women found that consuming a high \\nprotein diet during weight loss eliminated the beneficial effects of 10% weight loss on \\ninsulin action and sensitivity [ 20]. These conflicting results suggest that additional studies \\non the amount and sources of dietary protein during weight loss are needed to determine its \\ninfluence on weight loss induced improvements in T2D.\\nRed meats –and beef in particular –are important contributors to dietary protein intakes \\nin the United States [ 21]. However, some observational studies have associated red \\nmeat consumption with higher risk of T2D, leading to recommendations to limit its \\nconsumption [ 22, 23]. Recommendations to limit red meat consumption are based mostly'),\n",
       " Document(metadata={}, page_content='meat consumption with higher risk of T2D, leading to recommendations to limit its \\nconsumption [ 22, 23]. Recommendations to limit red meat consumption are based mostly \\non observational data, while findings from randomized clinical trials usually find a neutral \\neffect of red meat consumption on health outcomes [ 24–28]. A recent meta-analysis found \\nno differences in most glycemic and insulinemic risk factors associated with T2D when \\ncomparing reduced or no red meat diets to diets that contained red meat [ 29]. However, \\nthe impact on red meat consumption during weight loss among people with T2D remains \\nambiguous. Thus, it would be important to know whether beef can be part of a HP dietary \\nplan to reverse T2D by contributing to weight and fat loss and improving weight loss \\nmaintenance.Clina et al. Page 2\\nObesity (Silver Spring) . Author manuscript; available in PMC 2024 August 01.\\nAuthor Manuscript Author Manuscript Author Manuscript Author ManuscriptThe purpose of this randomized clinical trial was to compare a high protein diet (HP) versus \\na normal protein diet (NP) for weight loss, body composition changes, and indicators of type \\n2 diabetes status during a 52-week behavioral weight loss intervention. Both intervention \\ndiets were energy-restricted, and the HP diet included recommendations to include lean \\nbeef in the diet whereas the NP was instructed to refrain from eating any red meats for the \\nduration of the stud. The hypotheses were the HP diet would lead to greater weight loss, \\npreferential loss of fat mass compared to fat free mass, and greater improvements glucose \\ncontrol and cardiometabolic health.\\nMethods\\nParticipants\\nOne hundred and six individuals (80 female) began the intervention and were recruited \\nfrom the Denver, CO (n=39) and Birmingham, AL (n=67) metropolitan areas using letters, \\ninternet advertisements, and news advertisements to participate in the trial. A diagram')]"
      ]
     },
     "execution_count": 20,
     "metadata": {},
     "output_type": "execute_result"
    }
   ],
   "source": [
    "docs = retriever.invoke(\"How can patients benefit from a high protein diet?\")\n",
    "docs"
   ]
  },
  {
   "cell_type": "markdown",
   "metadata": {},
   "source": [
    "### Step 8: Demonstrating the Retriever in Action\n",
    "\n",
    "In this step, we test the retriever by providing a sample query and observing the returned results.\n",
    "\n",
    "1. **Purpose of this Demonstration**:\n",
    "   - This step shows that the retriever functions independently and (correctly) fetches the most relevant chunks of text based on the query.\n",
    "\n",
    "2. **Query the Retriever**:\n",
    "   - The `retriever.invoke()` method takes a query (in this case, `\"What is the difference between high and medium protein-based diets?\"`) and searches the vector store for the most relevant chunks.\n",
    "   - The retriever returns the top `k=4` results, as configured earlier.\n",
    "\n",
    "3. **Output**:\n",
    "   - The `docs` variable contains the retrieved chunks as a list of text strings."
   ]
  },
  {
   "cell_type": "code",
   "execution_count": 18,
   "metadata": {},
   "outputs": [
    {
     "data": {
      "text/plain": [
       "[Document(metadata={}, page_content='systolic and diastolic blood pressures and triglycerides from baseline to week 52. Neither group had changes in HDL or LDL cholesterol from \\nbaseline to week 52. Both groups increased BUN from baseline to week 52. There were no differences in change in any parameters by diet group \\n(HP vs NP)\\nAbbreviations: BUN, blood urea nitrogen; BP, blood pressure; dL, deciliter; HDL, high ‐density lipoprotein cholesterol; HP, high protein; LDL, \\nlow‐density lipoprotein cholesterol; mg, milligrams; mmHg, millimeters of mercury; NP, normal protein.\\nObesity (Silver Spring) . Author manuscript; available in PMC 2024 August 01.')]"
      ]
     },
     "execution_count": 18,
     "metadata": {},
     "output_type": "execute_result"
    }
   ],
   "source": [
    "docs = retriever.invoke(\"What is the difference between high and medium protein-based diets?\")\n",
    "docs"
   ]
  },
  {
   "cell_type": "markdown",
   "metadata": {},
   "source": [
    "### Step 9: Creating the Question-Answering System\n",
    "\n",
    "In this step, we set up the components needed to answer user questions based on the retrieved documents.\n",
    "\n",
    "1. **Define the System Template**:\n",
    "   - The `system_template` string specifies how the generative model should process the retrieved context.\n",
    "   - It instructs the model to answer the user's question using the information provided in the `<context>` placeholder.\n",
    "\n",
    "2. **Create a Prompt Template**:\n",
    "   - The `PromptTemplate` wraps the `system_template` into a reusable object.\n",
    "   - The `input_variables=[\"context\"]` defines which variables need to be filled in when the prompt is used.\n",
    "\n",
    "3. **Initialize the Generative Model**:\n",
    "   - The `ChatGoogleGenerativeAI` class is used to instantiate a chat-based model.\n",
    "   - Parameters:\n",
    "     - `model=\"gemini-1.5-pro-latest\"` specifies the version of the model to use.\n",
    "     - `temperature=0.5` controls the randomness of the responses. A value of `0.5` balances creativity and determinism.\n",
    "\n",
    "4. **Create the Document Chain**:\n",
    "   - The `create_stuff_documents_chain()` function integrates the model and the prompt into a chain.\n",
    "\n",
    "#### Notes:\n",
    "- **Model Selection**:\n",
    "   - The `\"gemini-1.5-pro-latest\"` model is used here, but it can be replaced with other compatible models if needed.\n",
    "- **Customizable Prompt**:\n",
    "   - The `system_template` can be adjusted to meet the requirements of different use cases\n",
    "- **Next Steps**:\n",
    "   - Use this document chain to generate answers for specific queries in combination with the retriever."
   ]
  },
  {
   "cell_type": "code",
   "execution_count": 21,
   "metadata": {},
   "outputs": [],
   "source": [
    "# Define the template for answering user questions based on a provided context\n",
    "system_template = \"\"\"\n",
    "Answer the users question based on the below context:\n",
    "<context> {context} </context>\n",
    "Say that you don't know the answer if you the context is not relevant to the question.\n",
    "\"\"\"\n",
    "# Create a prompt template for the question-answering system\n",
    "question_answering_prompt = PromptTemplate(template=system_template, input_variables=[\"context\"])\n",
    "\n",
    "# Initialize the generative model for question answering\n",
    "model = ChatGoogleGenerativeAI(model=\"gemini-1.5-pro-latest\", temperature=0.5)\n",
    "\n",
    "# Create a document chain to handle the retrieval and response generation process\n",
    "document_chain = create_stuff_documents_chain(llm=model, prompt=question_answering_prompt)\n"
   ]
  },
  {
   "cell_type": "markdown",
   "metadata": {},
   "source": [
    "### Step 10: Testing the Document Chain for Question-Answering\n",
    "\n",
    "In this step, we test the full retrieval-augmented generation (RAG) chain by invoking the `document_chain` with a user query and the retrieved context.\n",
    "\n",
    "1. **Purpose**:\n",
    "   - This step demonstrates how the `document_chain` integrates the retrieved context (`docs`) and the user query to generate a response using the generative model.\n",
    "\n",
    "2. **Components of the Input**:\n",
    "   - **Context**:\n",
    "     - The `context` key is assigned the value of `docs`, which contains the top chunks retrieved by the retriever in **Step 7**.\n",
    "     - This ensures the model has access to relevant information when answering the query.\n",
    "   - **Messages**:\n",
    "     - A list of messages simulates a conversational interaction.\n",
    "     - The `HumanMessage` object represents the user query: `\"What is the difference between high and medium protein-based diets?\"`.\n",
    "\n",
    "4. **Expected Output**:\n",
    "   - The output is a response from the model, which synthesizes the retrieved context and the query to provide an accurate and relevant answer."
   ]
  },
  {
   "cell_type": "code",
   "execution_count": 22,
   "metadata": {},
   "outputs": [
    {
     "data": {
      "text/plain": [
       "\"The DiRECT study showed that weight loss of 10 to 15 kg resulted in T2D remission in most participants diagnosed with T2D within the past six years, with nearly 90% of those losing over 15 kg achieving remission.  High-protein diets, especially combined with exercise, lead to greater weight loss and prevent fat-free mass loss compared to lower protein diets.  However, studies on high-protein diets' effects on insulin sensitivity have yielded conflicting results, suggesting more research is needed.\\n\""
      ]
     },
     "execution_count": 22,
     "metadata": {},
     "output_type": "execute_result"
    }
   ],
   "source": [
    "document_chain.invoke(\n",
    "    {\n",
    "        \"context\": docs,\n",
    "        \"messages\": [\n",
    "            HumanMessage(content=\"What is the difference between high and medium protein-based diets?\")\n",
    "        ],\n",
    "    }\n",
    ")"
   ]
  },
  {
   "cell_type": "markdown",
   "metadata": {},
   "source": [
    "### Step 11: Building a Combined Retrieval Chain\n",
    "\n",
    "In this step, we create a combined retrieval-augmented generation (RAG) chain that integrates retrieval and document generation into a seamless pipeline.\n",
    "\n",
    "1. **Helper Function**:\n",
    "   - The `parse_retriever_input` function extracts the latest user query from the `params` dictionary.\n",
    "   - Specifically, it accesses the `\"messages\"` key and retrieves the content of the last message, which represents the most recent user query.\n",
    "\n",
    "2. **RunnablePassthrough**:\n",
    "   - A `RunnablePassthrough` is a utility that passes data through the specified processing steps without additional transformation.\n",
    "   - We use its `.assign()` method to define the sequence of operations in the chain.\n",
    "\n",
    "3. **Assigning Operations**:\n",
    "   - The chain is composed of two key steps:\n",
    "     - **Step 1: Retrieve Context**:\n",
    "       - The `parse_retriever_input` function extracts the user query.\n",
    "       - This query is passed through the `retriever` to fetch the relevant text chunks.\n",
    "       - The result is assigned to the `context` key.\n",
    "     - **Step 2: Generate Answer**:\n",
    "       - The `document_chain` takes the retrieved context and generates an answer based on the query.\n",
    "       - The result is assigned to the `answer` key.\n",
    "\n",
    "4. **Output**:\n",
    "   - The `retrieval_chain` object is now a runnable pipeline that combines retrieval and response generation in a single operation."
   ]
  },
  {
   "cell_type": "code",
   "execution_count": 23,
   "metadata": {},
   "outputs": [],
   "source": [
    "# Define a helper function to extract the latest user query from the input parameters\n",
    "def parse_retriever_input(params: Dict):\n",
    "    return params[\"messages\"][-1].content\n",
    "\n",
    "# Create a retrieval chain with a passthrough mechanism\n",
    "retrieval_chain = RunnablePassthrough.assign(\n",
    "    # First step: Extract the user query and use it to retrieve relevant context\n",
    "    context=parse_retriever_input | retriever,\n",
    ").assign(\n",
    "    # Second step: Use the retrieved context to generate an answer\n",
    "    answer=document_chain,\n",
    ")"
   ]
  },
  {
   "cell_type": "markdown",
   "metadata": {},
   "source": [
    "### Step 12: Testing the Combined Retrieval Chain\n",
    "\n",
    "In this step, we test the more complex `retrieval_chain` pipeline to ensure that it seamlessly integrates the retrieval and generation steps.\n",
    "\n",
    "1. **Purpose**:\n",
    "   - This test validates that the chain can process user queries end-to-end:\n",
    "     - Extracting the query.\n",
    "     - Retrieving the relevant context using the `retriever`.\n",
    "     - Generating a coherent response using the `document_chain`.\n",
    "\n",
    "2. **Input Structure**:\n",
    "   - The input is a dictionary with the key `\"messages\"`, which contains a list of messages.\n",
    "   - Each message is represented as a `HumanMessage` object.\n",
    "\n",
    "3. **Pipeline Execution**:\n",
    "   - **Query Extraction**: The `parse_retriever_input` function extracts the query from the last message in the list.\n",
    "   - **Context Retrieval**: The query is passed to the `retriever` to fetch the most relevant text chunks.\n",
    "   - **Answer Generation**: The retrieved context is fed into the `document_chain`, which uses the prompt and generative model to produce the final answer.\n",
    "\n",
    "4. **Expected Output**:\n",
    "   - A dictionary containing:\n",
    "     - `\"context\"`: The retrieved text chunks.\n",
    "     - `\"answer\"`: The generated response to the user query."
   ]
  },
  {
   "cell_type": "code",
   "execution_count": 24,
   "metadata": {},
   "outputs": [
    {
     "data": {
      "text/plain": [
       "{'messages': [HumanMessage(content='What is the difference between high and medium protein-based diets?', additional_kwargs={}, response_metadata={})],\n",
       " 'context': [Document(metadata={}, page_content='systolic and diastolic blood pressures and triglycerides from baseline to week 52. Neither group had changes in HDL or LDL cholesterol from \\nbaseline to week 52. Both groups increased BUN from baseline to week 52. There were no differences in change in any parameters by diet group \\n(HP vs NP)\\nAbbreviations: BUN, blood urea nitrogen; BP, blood pressure; dL, deciliter; HDL, high ‐density lipoprotein cholesterol; HP, high protein; LDL, \\nlow‐density lipoprotein cholesterol; mg, milligrams; mmHg, millimeters of mercury; NP, normal protein.\\nObesity (Silver Spring) . Author manuscript; available in PMC 2024 August 01.'),\n",
       "  Document(metadata={}, page_content='Clinics, 2003. 32(4): p. 805–822. [PubMed: 14711063] \\n13. Apovian CM, Obesity: definition, comorbidities, causes, and burden. Am J Manag Care, 2016. \\n22(7 Suppl): p. s176–85. [PubMed: 27356115] \\n14. Schelbert KB, Comorbidities of obesity. Primary Care: Clinics in Office Practice, 2009. 36(2): p. \\n271–285. [PubMed: 19501243] \\n15. Lean ME, et al. , Primary care-led weight management for remission of type 2 diabetes (DiRECT): \\nan open-label, cluster-randomised trial. The Lancet, 2018. 391(10120): p. 541–551.\\n16. Wycherley TP, et al. , Effects of energy-restricted high-protein, low-fat compared with standard-\\nprotein, low-fat diets: a meta-analysis of randomized controlled trials. The American journal of \\nclinical nutrition, 2012. 96(6): p. 1281–1298. [PubMed: 23097268] \\n17. Wycherley TP, et al. , A high-protein diet with resistance exercise training improves weight loss \\nand body composition in overweight and obese patients with type 2 diabetes. Diabetes care, 2010. \\n33(5): p. 969–976. [PubMed: 20150293] \\n18. Leidy HJ, et al. , The role of protein in weight loss and maintenance. The American journal of \\nclinical nutrition, 2015. 101(6): p. 1320S–1329S. [PubMed: 25926512] \\n19. Kitabchi AE, et al. , Effects of high-protein versus high-carbohydrate diets on markers of β-cell \\nfunction, oxidative stress, lipid peroxidation, proinflammatory cytokines, and adipokines in obese, \\npremenopausal women without diabetes: a randomized controlled trial. Diabetes care, 2013. 36(7): \\np. 1919–1925. [PubMed: 23404297] \\n20. Smith Gordon I., et al. , High-Protein Intake during Weight Loss Therapy Eliminates the Weight-\\nLoss-Induced Improvement in Insulin Action in Obese Postmenopausal Women. Cell Reports, \\n2016. 17(3): p. 849–861. [PubMed: 27732859] Clina et al. Page 10\\nObesity (Silver Spring) . Author manuscript; available in PMC 2024 August 01.'),\n",
       "  Document(metadata={}, page_content='High and normal protein diets improve body composition and \\nglucose control in adults with type 2 diabetes: A randomized \\ntrial\\nJulianne G. Clina1, R. Drew Sayer1,3, Zhaoxing Pan2, Caroline W. Cohen3, Michael T. \\nMcDermott4, Victoria A. Catenacci4, Holly R. Wyatt1,5, James O. Hill1\\n1Department of Nutrition Sciences, University of Alabama at Birmingham\\n2Department of Pediatrics, University of Colorado Anschutz Medical Campus\\n3Department of Family and Community Medicine, University of Alabama at Birmingham\\n4Division of Endocrinology, Metabolism and Diabetes, University of Colorado School of Medicine, \\nAurora, Colorado\\n5Anschutz Health and Wellness Center, University of Colorado Anschutz Medical Campus\\nAbstract\\nObjective:\\xa0 Weight loss of ≥10% improves glucose control and may remit type 2 diabetes \\n(T2D). High protein (HP) diets are commonly used for weight loss, but whether protein \\nsources, especially red meat, impact weight loss-induced T2D management is unknown. This \\ntrial compared a HP diet including red meat and normal protein (NP) without red meat for weight \\nloss, body composition changes, and glucose control in individuals with T2D.\\nMethods:\\xa0 106 adults (80 female) with T2D consumed a HP (40% protein) diet with ≥4 weekly \\nservings of lean beef or a NP (21% protein) diet excluding red meat during a 52-week weight \\nloss intervention. Body weight, body composition, and cardiometabolic parameters were measured \\nbefore and after intervention.\\nResults:\\xa0 Weight loss was not different between HP (−10.2±1.6 kg) and NP (−12.7±4.8 kg, \\np=0.336). Both groups reduced fat mass and increased fat free mass percent. Hemoglobin A1c, \\nglucose, insulin, insulin resistance, blood pressure, and triglycerides improved with no differences \\nbetween groups.\\nConclusions:\\xa0 The lack of observed effects of dietary protein and red meat consumption on \\nweight loss and improved cardiometabolic health suggest that achieved weight loss – rather than')],\n",
       " 'answer': 'The provided text states that there were *no* changes in HDL or LDL cholesterol levels from baseline to week 52 in either the high protein or normal protein diet groups.  It also says there *were* increases in BUN (blood urea nitrogen) in both groups.\\n'}"
      ]
     },
     "execution_count": 24,
     "metadata": {},
     "output_type": "execute_result"
    }
   ],
   "source": [
    "retrieval_chain.invoke(\n",
    "    {\n",
    "        \"messages\": [\n",
    "            HumanMessage(content=\"What is the difference between high and medium protein-based diets?\")\n",
    "        ],\n",
    "    }\n",
    ")"
   ]
  },
  {
   "cell_type": "markdown",
   "metadata": {},
   "source": [
    "### Step 13: Testing the Retrieval Chain with a Follow-Up Query\n",
    "\n",
    "This step demonstrates a limitation of the current retrieval pipeline when handling vague or follow-up queries without explicit reference to the context of the previous conversation.\n",
    "\n",
    "1. **Purpose**:\n",
    "   - To test how the retriever responds to a vague query such as `\"Tell me more\"`.\n",
    "   - Highlight the challenge of maintaining conversational context in the current implementation.\n",
    "\n",
    "2. **Current Behavior**:\n",
    "   - The `retrieval_chain` processes the input query `\"Tell me more\"` independently, without considering previous queries or their context.\n",
    "   - The retriever fetches documents that match the new query, but since `\"Tell me more\"` is nonspecific, the results may be irrelevant or nonsensical.\n",
    "\n",
    "3. **Expected Behavior**:\n",
    "   - Ideally, the system should infer that `\"Tell me more\"` is a continuation of the prior query (`\"What is the difference between high and medium protein-based diets?\"`).\n",
    "   - The retrieved documents should provide additional information about the initial topic.\n",
    "\n",
    "4. **Limitation**:\n",
    "   - The current design does not track conversational context or incorporate previous messages into the retrieval process."
   ]
  },
  {
   "cell_type": "code",
   "execution_count": 25,
   "metadata": {},
   "outputs": [
    {
     "data": {
      "text/plain": [
       "{'messages': [HumanMessage(content='Tell me more', additional_kwargs={}, response_metadata={})],\n",
       " 'context': [Document(metadata={}, page_content='through medical records or doctor reports, blood biomarkers were confirmed via a blood \\ntest at the screening visit, and all other criteria were confirmed by self-report. The study \\nprotocol was reviewed and approved the Institutional Review Boards at the University of \\nAlabama at Birmingham and University of Colorado Anschutz Medical Campus. The study \\nwas registered on clinicaltrials.gov  as NCT03832933 .\\nExperimental Design\\nAll participants followed the State of Slim (SOS) weight management program for the first \\n16 weeks of the program, which consisted of weekly group classes led by a trained coach. \\nParticipants received copies of the SOS book, copies of the course materials, and access \\nto the online community. After the first 16 weeks, participants participated in the SOS \\nNext Steps program which consists of 18 bi-weekly group classes for the remainder of the Clina et al. Page 3\\nObesity (Silver Spring) . Author manuscript; available in PMC 2024 August 01.\\nAuthor Manuscript Author Manuscript Author Manuscript Author Manuscriptintervention. Participants were randomly assigned to one of two diet groups: the high protein \\ngroup (HP) with instructions to consume ≥4 weekly servings of lean beef as the only source \\nof red meat or a normal protein group (NP) with instructions to not eat red meat for the \\nduration of the study and followed a modified SOS diet that reduced protein intake.\\nDiet Intervention\\nThe SOS plan is broken up into three distinct phases, each of which having food lists for \\nparticipants to choose from as well as defined portion sizes for each food. Typically, the \\nSOS plan is a high-protein, low fat diet plan that emphasizes non starchy and whole-grain \\ncarbohydrates. The SOS plan also has five diet rules that are to be followed throughout \\neach phase: (1) Eat five to six times per day. (2) Eat breakfast within 1 hour of waking. \\n(3) Do not count calories; instead, measure portions. (4) Have the right protein mix at each'),\n",
       "  Document(metadata={}, page_content='to be made with their primary care provider, but participants were asked to report any \\nmedication changes to research staff as soon as feasible. Study staff also queried participants \\non any medication changes on a monthly basis throughout the study period.\\nProtocol Modifications due to COVID-19\\nThe original plan for this intervention was for SOS classes to be held in-person. The onset \\nof lockdown orders in the spring of 2020 due to the COVID-19 pandemic required that \\nclasses be moved to an online platform (Zoom). The online intervention format was used \\nfor the remainder of the trial. The group classes were switched to the online format for \\ncohort 1 (Colorado) at week 7 of the intervention and at week 4 for cohort 2 (Alabama). The \\nintervention for cohort 3 (Alabama) was conducted entirely online. Weekly self-weighing \\nwas completed at home with pictures of scale weight sent to the health coaches in lieu \\nof weighing in-person before each class. Additionally, the Week 16 study visits became Clina et al. Page 4\\nObesity (Silver Spring) . Author manuscript; available in PMC 2024 August 01.\\nAuthor Manuscript Author Manuscript Author Manuscript Author Manuscriptat-home study visits for cohorts 1 and 2 with limited data collection due to university-wide \\nrestrictions on in-person clinical research at the University of Colorado Anschutz Medical \\nCampus and the University of Alabama at Birmingham. Participants were sent a link to \\na video call with research staff, who conducted the visit. For this manuscript, baseline \\nand week 52 data were used to assess study outcomes due to the limited data collection \\ntechniques used during the week 16 visits.\\nAnthropometric Measurements\\nBody weight was measured at baseline and week 52 using a digital platform scale \\n(Colorado: Tanita BWB-800 Digital scale, Tanita Cooperation of America, Inc., Arlington \\nHeights, Illinois; Alabama: DETECTO BRW1000, DETECTO, Webb City, MO) in a fasted'),\n",
       "  Document(metadata={}, page_content='each phase: (1) Eat five to six times per day. (2) Eat breakfast within 1 hour of waking. \\n(3) Do not count calories; instead, measure portions. (4) Have the right protein mix at each \\nmeal (one carbohydrate and one protein at each meal). (5) Eat a healthy fat twice a day. \\nFood lists for the HP and NP groups were similar, with the exception of the HP group \\nbeing asked to consume lean beef ≥4 times per week and the portion sizes for the protein \\nbeing reduced for the NP group. Approximate carbohydrate and protein compositions were \\n32% and 40% of total energy for the HP diet, respectively and 53% and 21% for the NP \\ndiet, respectively. Recommended fat intakes were similar for HP (28% of total energy) \\nand NP (26%). Food lists for each phase given to participants with adjusted portion sizes \\nare presented in supplemental tables 1, 2, and 3. In addition, participants worked up to \\nexercising up to 70 minutes per day, 6 days per week as a part of the program.\\nSelf-reported energy intake and macronutrient distribution were not tracked during the study \\nbecause a principal component of the SOS program is to focus on portion sizes as opposed \\nto counting calories (Diet Rule #3). Participants did complete food logs throughout the \\nintervention, however these were used as a self-monitoring tool to enhance weight loss [ 30], \\nand not intended to measure energy intake or macronutrient distribution. Per the diet rules, \\na detailed food log designed to capture these data would be inconsistent with the program \\ngoals and structure. Further, self-reported measured of food intake are unreliable, and their \\nsuitability for clinical research has been questioned [ 31].\\nParticipants were instructed that clinical decision making as regards T2D management was \\nto be made with their primary care provider, but participants were asked to report any \\nmedication changes to research staff as soon as feasible. Study staff also queried participants')],\n",
       " 'answer': 'How many calories were the participants in each diet group instructed to eat?\\n\\nThe provided text explains that participants were *not* instructed to count calories.  Instead, they were told to measure portions according to the SOS diet plan.  The study specifically avoided tracking calories, as that goes against the principles of the SOS program. While the approximate macronutrient percentages for each diet are given (HP: 32% carbs, 40% protein, 28% fat; NP: 53% carbs, 21% protein, 26% fat), the total caloric intake was not prescribed or tracked.\\n'}"
      ]
     },
     "execution_count": 25,
     "metadata": {},
     "output_type": "execute_result"
    }
   ],
   "source": [
    "retrieval_chain.invoke(\n",
    "    {\n",
    "        \"messages\": [\n",
    "            HumanMessage(content=\"Tell me more\")\n",
    "        ],\n",
    "    }\n",
    ")"
   ]
  },
  {
   "cell_type": "markdown",
   "metadata": {},
   "source": [
    "### Step 14: Testing the Retriever Directly with a Vague Query\n",
    "\n",
    "1. **Purpose**:\n",
    "   - To show that the retriever retrieves documents directly related to the query without any consideration of conversational history or prior context.\n",
    "   - This highlights the challenge of vague queries in isolation.\n",
    "\n",
    "2. **Current Behavior**:\n",
    "   - The retriever processes the query `\"Tell me more!\"` independently and returns documents that match this phrase based on the embedding similarity.\n",
    "   - Since `\"Tell me more!\"` lacks specific content, the results are likely to be generic or nonsensical unless a context happens to align by chance.\n"
   ]
  },
  {
   "cell_type": "code",
   "execution_count": 26,
   "metadata": {},
   "outputs": [
    {
     "data": {
      "text/plain": [
       "[Document(metadata={}, page_content='through medical records or doctor reports, blood biomarkers were confirmed via a blood \\ntest at the screening visit, and all other criteria were confirmed by self-report. The study \\nprotocol was reviewed and approved the Institutional Review Boards at the University of \\nAlabama at Birmingham and University of Colorado Anschutz Medical Campus. The study \\nwas registered on clinicaltrials.gov  as NCT03832933 .\\nExperimental Design\\nAll participants followed the State of Slim (SOS) weight management program for the first \\n16 weeks of the program, which consisted of weekly group classes led by a trained coach. \\nParticipants received copies of the SOS book, copies of the course materials, and access \\nto the online community. After the first 16 weeks, participants participated in the SOS \\nNext Steps program which consists of 18 bi-weekly group classes for the remainder of the Clina et al. Page 3\\nObesity (Silver Spring) . Author manuscript; available in PMC 2024 August 01.\\nAuthor Manuscript Author Manuscript Author Manuscript Author Manuscriptintervention. Participants were randomly assigned to one of two diet groups: the high protein \\ngroup (HP) with instructions to consume ≥4 weekly servings of lean beef as the only source \\nof red meat or a normal protein group (NP) with instructions to not eat red meat for the \\nduration of the study and followed a modified SOS diet that reduced protein intake.\\nDiet Intervention\\nThe SOS plan is broken up into three distinct phases, each of which having food lists for \\nparticipants to choose from as well as defined portion sizes for each food. Typically, the \\nSOS plan is a high-protein, low fat diet plan that emphasizes non starchy and whole-grain \\ncarbohydrates. The SOS plan also has five diet rules that are to be followed throughout \\neach phase: (1) Eat five to six times per day. (2) Eat breakfast within 1 hour of waking. \\n(3) Do not count calories; instead, measure portions. (4) Have the right protein mix at each'),\n",
       " Document(metadata={}, page_content='to be made with their primary care provider, but participants were asked to report any \\nmedication changes to research staff as soon as feasible. Study staff also queried participants \\non any medication changes on a monthly basis throughout the study period.\\nProtocol Modifications due to COVID-19\\nThe original plan for this intervention was for SOS classes to be held in-person. The onset \\nof lockdown orders in the spring of 2020 due to the COVID-19 pandemic required that \\nclasses be moved to an online platform (Zoom). The online intervention format was used \\nfor the remainder of the trial. The group classes were switched to the online format for \\ncohort 1 (Colorado) at week 7 of the intervention and at week 4 for cohort 2 (Alabama). The \\nintervention for cohort 3 (Alabama) was conducted entirely online. Weekly self-weighing \\nwas completed at home with pictures of scale weight sent to the health coaches in lieu \\nof weighing in-person before each class. Additionally, the Week 16 study visits became Clina et al. Page 4\\nObesity (Silver Spring) . Author manuscript; available in PMC 2024 August 01.\\nAuthor Manuscript Author Manuscript Author Manuscript Author Manuscriptat-home study visits for cohorts 1 and 2 with limited data collection due to university-wide \\nrestrictions on in-person clinical research at the University of Colorado Anschutz Medical \\nCampus and the University of Alabama at Birmingham. Participants were sent a link to \\na video call with research staff, who conducted the visit. For this manuscript, baseline \\nand week 52 data were used to assess study outcomes due to the limited data collection \\ntechniques used during the week 16 visits.\\nAnthropometric Measurements\\nBody weight was measured at baseline and week 52 using a digital platform scale \\n(Colorado: Tanita BWB-800 Digital scale, Tanita Cooperation of America, Inc., Arlington \\nHeights, Illinois; Alabama: DETECTO BRW1000, DETECTO, Webb City, MO) in a fasted'),\n",
       " Document(metadata={}, page_content='each phase: (1) Eat five to six times per day. (2) Eat breakfast within 1 hour of waking. \\n(3) Do not count calories; instead, measure portions. (4) Have the right protein mix at each \\nmeal (one carbohydrate and one protein at each meal). (5) Eat a healthy fat twice a day. \\nFood lists for the HP and NP groups were similar, with the exception of the HP group \\nbeing asked to consume lean beef ≥4 times per week and the portion sizes for the protein \\nbeing reduced for the NP group. Approximate carbohydrate and protein compositions were \\n32% and 40% of total energy for the HP diet, respectively and 53% and 21% for the NP \\ndiet, respectively. Recommended fat intakes were similar for HP (28% of total energy) \\nand NP (26%). Food lists for each phase given to participants with adjusted portion sizes \\nare presented in supplemental tables 1, 2, and 3. In addition, participants worked up to \\nexercising up to 70 minutes per day, 6 days per week as a part of the program.\\nSelf-reported energy intake and macronutrient distribution were not tracked during the study \\nbecause a principal component of the SOS program is to focus on portion sizes as opposed \\nto counting calories (Diet Rule #3). Participants did complete food logs throughout the \\nintervention, however these were used as a self-monitoring tool to enhance weight loss [ 30], \\nand not intended to measure energy intake or macronutrient distribution. Per the diet rules, \\na detailed food log designed to capture these data would be inconsistent with the program \\ngoals and structure. Further, self-reported measured of food intake are unreliable, and their \\nsuitability for clinical research has been questioned [ 31].\\nParticipants were instructed that clinical decision making as regards T2D management was \\nto be made with their primary care provider, but participants were asked to report any \\nmedication changes to research staff as soon as feasible. Study staff also queried participants')]"
      ]
     },
     "execution_count": 26,
     "metadata": {},
     "output_type": "execute_result"
    }
   ],
   "source": [
    "retriever.invoke(\"Tell me more!\")"
   ]
  },
  {
   "cell_type": "markdown",
   "metadata": {},
   "source": [
    "### Step 15: Adding Query Transformation to Improve Contextual Relevance\n",
    "\n",
    "This step introduces a **query transformation prompt** to address the limitations of vague queries like `\"Tell me more!\"`. The goal is to reframe such queries in the context of the conversation, producing a more meaningful query for the retriever.\n",
    "\n",
    "1. **Purpose**:\n",
    "   - To improve the retrieval system by generating a context-aware search query that reflects the ongoing conversation.\n",
    "   - This ensures that follow-up queries are relevant and meaningful, even if they are vague.\n",
    "\n",
    "2. **Query Transformation Prompt**:\n",
    "   - The `ChatPromptTemplate.from_messages()` method creates a prompt that uses all prior messages (`messages`) as context.\n",
    "   - The prompt asks the model to:\n",
    "     - Analyze the prior conversation.\n",
    "     - Generate a search query tailored to the user's intent and the ongoing context.\n",
    "     - Output **only** the transformed query for use with the retriever.\n",
    "\n",
    "#### Notes:\n",
    "- **Benefits**:\n",
    "   - This approach bridges the gap between conversational input and the retriever's expectations for specific queries.\n",
    "\n",
    "- **Limitations**:\n",
    "   - The effectiveness depends on the quality of the generative model used for query transformation.\n",
    "   - Ambiguous conversations might still produce suboptimal queries."
   ]
  },
  {
   "cell_type": "code",
   "execution_count": 27,
   "metadata": {},
   "outputs": [],
   "source": [
    "\n",
    "query_transform_prompt = ChatPromptTemplate.from_messages(\n",
    "    [\n",
    "        MessagesPlaceholder(variable_name=\"messages\"),\n",
    "        (\n",
    "            \"user\",\n",
    "            \"Given the above conversation, generate a search query to look up in order to get information relevant to the conversation. Only respond with the query, nothing else.\",\n",
    "        ),\n",
    "    ]\n",
    ")"
   ]
  },
  {
   "cell_type": "markdown",
   "metadata": {},
   "source": [
    "<p style=\"color:green; font-size: 16px;\">\n",
    "<b>Exercise: Experimenting with Query Transformation</b><br>\n",
    "<b>Goal:</b> Understand the role of query transformation in improving contextual relevance and retrieval accuracy.<br><br>\n",
    "\n",
    "<b>Instructions:</b><br>\n",
    "<ul style=\"color:green;\">\n",
    "<li>After completing <b>Step 15: Adding Query Transformation to Improve Contextual Relevance (Cell 15)</b>, modify the <code>query_transform_prompt</code> to tailor the generated search queries for a specific domain, such as:</li>\n",
    "<ul style=\"color:green;\">\n",
    "    <li>Scientific research</li>\n",
    "    <li>Customer support</li>\n",
    "</ul>\n",
    "<li>Test the modified prompt by providing multiple follow-up queries, such as:</li>\n",
    "<ul style=\"color:green;\">\n",
    "    <li>\"Tell me more\"</li>\n",
    "    <li>\"Explain further\"</li>\n",
    "    <li>\"Can you provide examples?\"</li>\n",
    "</ul>\n",
    "<li>Observe and analyze the transformed queries for each example. Reflect on the following:</li>\n",
    "<ul style=\"color:green;\">\n",
    "    <li>How well do the transformed queries align with the domain-specific context?</li>\n",
    "    <li>Do the transformed queries improve retrieval accuracy for the intended domain?</li>\n",
    "    <li>What potential improvements could be made to the transformation prompt?</li>\n",
    "</ul>\n",
    "</ul>\n",
    "\n",
    "<b>Purpose:</b> This exercise demonstrates how query transformation can enhance retrieval performance by aligning queries more closely with domain-specific needs, helping to fine-tune the system for specialized use cases.\n",
    "</p>\n"
   ]
  },
  {
   "cell_type": "code",
   "execution_count": 28,
   "metadata": {},
   "outputs": [],
   "source": [
    "query_transform_prompt = ChatPromptTemplate.from_messages(\n",
    "    [\n",
    "        MessagesPlaceholder(variable_name=\"messages\"),\n",
    "        (\n",
    "            \"user\",\n",
    "            \"Given the above conversation, generate a search query for medical professionals looking for domain knowledge. Come up with a query that matches the conversation. Only respond with the query, nothing else.\",\n",
    "        ),\n",
    "    ]\n",
    ")"
   ]
  },
  {
   "cell_type": "markdown",
   "metadata": {},
   "source": [
    "### Step 16: Adding a Model to the Query Transformation Chain\n",
    "\n",
    "In this step, we enhance the query transformation process by integrating a generative model into the chain. This enables the system to dynamically generate refined, context-aware search queries.\n",
    "\n",
    "1. **Purpose**:\n",
    "   - To implement a **query transformation chain** that processes conversational context and user input to produce an optimized query for the retriever.\n",
    "   - By combining the transformation prompt with the generative model, we create an end-to-end pipeline for query reformulation.\n",
    "\n",
    "5. **Improved Retrieval**:\n",
    "   - The transformed query should be more specific and meaningful now, improving the retriever's ability to fetch relevant results."
   ]
  },
  {
   "cell_type": "code",
   "execution_count": 29,
   "metadata": {},
   "outputs": [],
   "source": [
    "query_transformation_chain = query_transform_prompt | model"
   ]
  },
  {
   "cell_type": "markdown",
   "metadata": {},
   "source": [
    "### Step 17: Testing the Query Transformation Chain\n",
    "\n",
    "In this step, we test the **query transformation chain** to verify its ability to refine vague queries like `\"Tell me more!\"` into meaningful search queries using the context of the preceding conversation.\n",
    "\n",
    "1. **Purpose**:\n",
    "   - To validate that the `query_transformation_chain` can analyze the conversational context and generate a search query relevant to the user’s intent.\n",
    "   - This test demonstrates how the chain integrates the conversational history when reformulating vague follow-up queries.\n",
    "\n",
    "2. **Input Structure**:\n",
    "   - **Messages**:\n",
    "     - A list of messages simulating a conversation:\n",
    "       - **First Message (Human)**: `\"What is the difference between high and medium protein-based diets?\"`\n",
    "       - **Second Message (AI)**: A detailed response summarizing research findings on protein-based diets.\n",
    "       - **Third Message (Human)**: `\"Tell me more!\"`, a vague follow-up query.\n",
    "   - The chain uses this conversation history to generate a refined query."
   ]
  },
  {
   "cell_type": "code",
   "execution_count": 30,
   "metadata": {},
   "outputs": [
    {
     "data": {
      "text/plain": [
       "AIMessage(content='\"Effects of high protein vs. moderate protein diets on body composition, glucose control, and cardiometabolic health in type 2 diabetes, independent of weight loss\"\\n', additional_kwargs={}, response_metadata={'prompt_feedback': {'block_reason': 0, 'safety_ratings': []}, 'finish_reason': 'STOP', 'safety_ratings': []}, id='run-5bf85238-714d-45ba-902d-8ba657308851-0', usage_metadata={'input_tokens': 123, 'output_tokens': 34, 'total_tokens': 157, 'input_token_details': {'cache_read': 0}})"
      ]
     },
     "execution_count": 30,
     "metadata": {},
     "output_type": "execute_result"
    }
   ],
   "source": [
    "query_transformation_chain.invoke(\n",
    "    {\n",
    "        \"messages\": [\n",
    "            HumanMessage(content=\"What is the difference between high and medium protein-based diets?\"),\n",
    "            AIMessage(\n",
    "                content=\"he study found that both high and normal protein diets improved body composition and glucose control in adults with type 2 diabetes. The lack of observed effects of dietary protein and red meat consumption on weight loss and improved cardiometabolic health suggest that achieved weight loss – rather than diet composition – should be the principal target of dietary interventions for T2D management.\"\n",
    "            ),\n",
    "            HumanMessage(content=\"Tell me more!\"),\n",
    "        ],\n",
    "    }\n",
    ")"
   ]
  },
  {
   "cell_type": "markdown",
   "metadata": {},
   "source": [
    "### Step 18: Building the Query-Transforming Retriever Chain\n",
    "\n",
    "In this step, we create a **query-transforming retriever chain** that dynamically adapts its behavior based on the structure of the input.\n",
    "\n",
    "1. **Purpose**:\n",
    "   - To handle two scenarios seamlessly:\n",
    "     - **Single Message**: When there is only one message, pass the content directly to the retriever.\n",
    "     - **Multiple Messages**: When there is a conversational history, use the query transformation chain to refine the query before passing it to the retriever.\n",
    "   - This flexible chain improves the system's ability to handle both straightforward and context-dependent queries.\n",
    "\n",
    "2. **Components**:\n",
    "   - **RunnableBranch**:\n",
    "     - Dynamically selects a branch to execute based on the input condition.\n",
    "   - **Condition**:\n",
    "     - The lambda function `lambda x: len(x.get(\"messages\", [])) == 1` checks if the input contains only one message.\n",
    "     - If `True`, the first branch is executed. Otherwise, the second branch is used.\n",
    "   - **First Branch**:\n",
    "     - If there is only one message:\n",
    "       - Extract the content of the last message with `lambda x: x[\"messages\"][-1].content`.\n",
    "       - Pass this content directly to the `retriever` to fetch relevant documents.\n",
    "   - **Second Branch**:\n",
    "     - If there are multiple messages:\n",
    "       - The input is passed through the query transformation pipeline:\n",
    "         1. `query_transform_prompt`: Captures and reformulates the query in context.\n",
    "         2. `model`: Generates the refined query.\n",
    "         3. `StrOutputParser()`: Parses the output string for compatibility with the retriever.\n",
    "       - The transformed query is passed to the `retriever`.\n",
    "\n",
    "3. **Configuration**:\n",
    "   - The `with_config(run_name=\"chat_retriever_chain\")` method assigns a unique name to this chain, making it easier to track during execution and debugging."
   ]
  },
  {
   "cell_type": "code",
   "execution_count": 31,
   "metadata": {},
   "outputs": [],
   "source": [
    "query_transforming_retriever_chain = RunnableBranch(\n",
    "    (\n",
    "        lambda x: len(x.get(\"messages\", [])) == 1,\n",
    "        # If only one message, then we just pass that message's content to retriever\n",
    "        (lambda x: x[\"messages\"][-1].content) | retriever,\n",
    "    ),\n",
    "    # If messages, then we pass inputs to LLM chain to transform the query, then pass to retriever\n",
    "    query_transform_prompt | model | StrOutputParser() | retriever,\n",
    ").with_config(run_name=\"chat_retriever_chain\")"
   ]
  },
  {
   "cell_type": "markdown",
   "metadata": {},
   "source": [
    "### Step 19: Finalizing the Conversational Retrieval-Augmented Generation (RAG) Pipeline\n",
    "\n",
    "This step integrates all the components to build the final conversational RAG pipeline, which can handle multi-turn conversations, transform queries, retrieve relevant documents, and generate accurate answers.\n",
    "\n",
    "1. **System Template**:\n",
    "   - The `SYSTEM_TEMPLATE` defines the behavior of the answer generation system:\n",
    "     - Instructs the model to base its answers solely on the provided context.\n",
    "     - Explicitly directs the model to say `\"I don't know\"` if the context lacks relevant information, reducing the risk of hallucinations.\n",
    "\n",
    "2. **Question-Answering Prompt**:\n",
    "   - The `ChatPromptTemplate.from_messages()` creates a structured prompt for the system.\n",
    "   - Components:\n",
    "     - **System Message**: Sets the rules and behavior for answer generation.\n",
    "     - **Messages Placeholder**: Captures the conversational context and query for generating the final response.\n",
    "\n",
    "3. **Document Chain**:\n",
    "   - The `create_stuff_documents_chain()` function combines the generative model (`model`) with the question-answering prompt.\n",
    "   - This chain processes the retrieved context and conversational history to generate a coherent and relevant answer.\n",
    "\n",
    "4. **Conversational Retrieval Chain**:\n",
    "   - The `RunnablePassthrough.assign()` method is used to sequentially integrate:\n",
    "     - **Context Retrieval**:\n",
    "       - The `query_transforming_retriever_chain` retrieves relevant documents based on transformed queries or direct input.\n",
    "     - **Answer Generation**:\n",
    "       - The `document_chain` generates a final response based on the retrieved context and user input."
   ]
  },
  {
   "cell_type": "code",
   "execution_count": 32,
   "metadata": {},
   "outputs": [],
   "source": [
    "# Define the system template for generating answers\n",
    "SYSTEM_TEMPLATE = \"\"\"\n",
    "Answer the user's questions based on the below context. \n",
    "If the context doesn't contain any relevant information to the question, don't make something up and just say \"I don't know\":\n",
    "\n",
    "<context>\n",
    "{context}\n",
    "</context>\n",
    "\"\"\"\n",
    "\n",
    "# Create a prompt template for question answering (refer to Step 9 for prompt creation)\n",
    "question_answering_prompt = ChatPromptTemplate.from_messages(\n",
    "    [\n",
    "        (\n",
    "            \"system\",\n",
    "            SYSTEM_TEMPLATE,\n",
    "        ),\n",
    "        MessagesPlaceholder(variable_name=\"messages\"),  # Adds conversational context (Step 9)\n",
    "    ]\n",
    ")\n",
    "\n",
    "# Create a document chain for answering user questions (refer to Step 9)\n",
    "document_chain = create_stuff_documents_chain(model, question_answering_prompt)\n",
    "\n",
    "# Build the final conversational retrieval chain\n",
    "# Combine the transformed query retrieval (Step 18) with the document chain (Step 9)\n",
    "conversational_retrieval_chain = RunnablePassthrough.assign(\n",
    "    # Assign the transformed query context to the retrieval chain (refer to Step 18)\n",
    "    context=query_transforming_retriever_chain,\n",
    ").assign(\n",
    "    # Assign the answer generation process to the document chain (refer to Step 9)\n",
    "    answer=document_chain,\n",
    ")"
   ]
  },
  {
   "cell_type": "markdown",
   "metadata": {},
   "source": [
    "### Step 20: Testing the Conversational Retrieval Chain with an Unrelated Query\n",
    "\n",
    "This step tests the robustness of the final conversational retrieval-augmented generation (RAG) pipeline by providing a query unrelated to the available context in the documents.\n",
    "\n",
    "#### Notes:\n",
    "- **Relevance of the Test**:\n",
    "   - Real-world systems often encounter queries beyond their knowledge scope, making this a critical behavior to validate."
   ]
  },
  {
   "cell_type": "code",
   "execution_count": 33,
   "metadata": {},
   "outputs": [
    {
     "data": {
      "text/plain": [
       "{'messages': [HumanMessage(content='Can LangSmith help test my LLM applications?', additional_kwargs={}, response_metadata={})],\n",
       " 'context': [Document(metadata={}, page_content='from the Denver, CO (n=39) and Birmingham, AL (n=67) metropolitan areas using letters, \\ninternet advertisements, and news advertisements to participate in the trial. A diagram \\ndepicting participant flow is presented in Figure 1. The study was conducted in three \\ncohorts, with approximately 35 participants in each cohort. Cohort 1 was from the Denver, \\nCO area and began the intervention in January 2020. Cohorts 2 and 3 were from the \\nBirmingham, AL area and began in February 2020 and April 2021, respectively. Participants \\nwere required to be at least 18 years old, BMI ≥27 kg/m2, T2D diagnosis within the past 6 \\nyears (documented physician diagnosis, fasting glucose ≥126 mg/dl, or HbA1c ≥6.5%), be \\nweight stable (±3 kg in the past 3 months), and be stable on all medications for the past 3 \\nmonths. Regarding eligibility criteria for T2D diagnosis, participants were enrolled who had \\na recent diagnosis as described above without meeting the threshold for fasting glucose or \\nHbA1c if that participant was on medication to manage their T2D, which would lower these \\nvalues. Exclusion criteria were: HbA1c ≥ 12%, current eating disorder (anorexia or bulimia), \\ndependence on illicit drugs or alcohol, untreated hypothyroidism, currently using insulin or \\nother drugs known to cause weight loss or gain (including GLP-1 of SGLT-2 medications, \\nsteroids, tricyclic antidepressants, chemotherapy, antipsychotics, prescribed or OTC weight \\nloss agent), following a vegetarian or vegan diet, any illness or injury that would make it \\nunsafe to follow a diet and/or exercise up to 70 minutes at a moderate intensity regularly, \\nand women who were pregnant, lactating, trying to become pregnant, or who had been \\npregnant or lactating in the last six months. Criteria for diabetes diagnoses were confirmed \\nthrough medical records or doctor reports, blood biomarkers were confirmed via a blood \\ntest at the screening visit, and all other criteria were confirmed by self-report. The study'),\n",
       "  Document(metadata={}, page_content='A limitation of this trial was that despite giving explicit diet rules and lists to participants, \\nboth groups saw an equivalent increase in BUN from baseline to week 52. This finding \\ncould indicate that the protein composition of the diet groups likely did not reach the \\nintended macronutrient distributions, with the groups consuming similar amounts of protein. \\nThe study might not have been able to detect the true impact on improvements in T2D \\nmarkers because participants discontinued medication as recommended by their primary \\ncare providers. This could mean that the observed intervention could have had a greater Clina et al. Page 8\\nObesity (Silver Spring) . Author manuscript; available in PMC 2024 August 01.\\nAuthor Manuscript Author Manuscript Author Manuscript Author Manuscripteffect if those participants had stayed on their medications. Additionally, the COVID-19 \\npandemic began during the first cohort of the AL and CO groups and lasted throughout the \\nrest of the study. The onset of the pandemic resulted in several methodological changes of \\nthe study and impacted the lives of participants taking part in the intervention. Fortunately, \\nthe SOS program had been previously delivered in a virtual format, so changes to course \\ncontent were minor. Classes were still able to be held at the usual time, but in a virtual \\nsetting. However, research study visits were completely halted for a period during the study, \\nhence the completion of some of the week 16 visits virtually instead of in-person. This \\nchange limited the data that could be collected at this timepoint. In addition, some outcome \\nmeasures tests that were originally collected in person could no longer be collected at all, \\neven when restrictions were lifted, including resting energy expenditure and six-minute walk \\ntest. These two tests were removed because masks were still required in the research facility \\nand since baseline measurements were collected without masks, it was unclear if the use of'),\n",
       "  Document(metadata={}, page_content='(Colorado: Tanita BWB-800 Digital scale, Tanita Cooperation of America, Inc., Arlington \\nHeights, Illinois; Alabama: DETECTO BRW1000, DETECTO, Webb City, MO) in a fasted \\nstate in clinic with participants wearing light clothing after voiding. Height was measured \\nusing a stadiometer in clinic at the screening visit. Body Mass Index (BMI, kg/m2) was \\ncalculated using these measurements. Body composition (fat and lean mass) was measured \\nusing dual x ‐ray absorptiometry at baseline and week 52 (Colorado: Horizon W, APEX \\nsoftware version 5.6.05 Hologic, Inc., Marlborough, MA, USA; Alabama GE Lunar Prodigy \\nPrimo, enCORE software version 15.10.046, GE Healthcare, Chicago, IL, USA). Waist \\ncircumference (WC) was measured at the border of the iliac crest in duplicate in accordance \\nwith the National Institutes of Health recommendations [ 32], measured at baseline and week \\n52.\\nCardiometabolic Health\\nBlood samples were obtained at baseline and week 52 from an antecubital vein by a \\ntrained phlebotomist. Samples were processed and analyzed for glucose, total cholesterol, \\nlow‐density lipoprotein cholesterol (LDL; calculated), high ‐density lipoprotein cholesterol \\n(HDL), triglycerides, HbA1c, and blood urea nitrogen (BUN). Blood samples were \\nprocessed at the University of Alabama Outreach Lab for Alabama samples and at \\nUniversity of Colorado Hospital Clinical Lab for screening and at the Adult CTRC Core lab \\nfor baseline and week 52 visits for Colorado samples. Blood pressure was measured at each \\nin-person study visit using at the left upper arm using an automatic sphygmomanometer \\n(Colorado: Datascope Trio, (Serial# MC07547-A5) Digital Patient Monitor; Alabama, \\nOmron 3-Series Upper Arm Blood Pressure Monitor, OMRON Healthcare Inc., Kyoto, \\nJapan). Blood pressure was measured after the participant rested quietly in a seated position \\nfor ≥5 min with participants’ legs uncrossed and back and arms supported. The measurement')],\n",
       " 'answer': \"I don't know. This document describes a medical trial and does not contain information about LangSmith.\\n\"}"
      ]
     },
     "execution_count": 33,
     "metadata": {},
     "output_type": "execute_result"
    }
   ],
   "source": [
    "conversational_retrieval_chain.invoke(\n",
    "    {\n",
    "        \"messages\": [\n",
    "            HumanMessage(content=\"Can LangSmith help test my LLM applications?\"),\n",
    "        ]\n",
    "    }\n",
    ")"
   ]
  },
  {
   "cell_type": "markdown",
   "metadata": {},
   "source": [
    "### Step 21: Verifying the Conversational Retrieval Chain in the Target Use Case\n",
    "\n",
    "1. **Test Input**:\n",
    "   - **Initial Query**:\n",
    "     - `\"What is the difference between high and medium protein-based diets?\"`\n",
    "   - **AI Response** (provided in the test input to simulate a prior response):\n",
    "     - Summarizes a study about the effects of high and normal protein diets on body composition and glucose control.\n",
    "   - **Follow-Up Query**:\n",
    "     - `\"Tell me more!\"`—a vague request that relies on the system to infer and retrieve additional context."
   ]
  },
  {
   "cell_type": "code",
   "execution_count": 34,
   "metadata": {},
   "outputs": [
    {
     "data": {
      "text/plain": [
       "{'messages': [HumanMessage(content='What is the difference between high and medium protein-based diets?', additional_kwargs={}, response_metadata={}),\n",
       "  AIMessage(content='he study found that both high and normal protein diets improved body composition and glucose control in adults with type 2 diabetes. The lack of observed effects of dietary protein and red meat consumption on weight loss and improved cardiometabolic health suggest that achieved weight loss – rather than diet composition – should be the principal target of dietary interventions for T2D management.', additional_kwargs={}, response_metadata={}),\n",
       "  HumanMessage(content='Tell me more!', additional_kwargs={}, response_metadata={})],\n",
       " 'context': [Document(metadata={}, page_content='High and normal protein diets improve body composition and \\nglucose control in adults with type 2 diabetes: A randomized \\ntrial\\nJulianne G. Clina1, R. Drew Sayer1,3, Zhaoxing Pan2, Caroline W. Cohen3, Michael T. \\nMcDermott4, Victoria A. Catenacci4, Holly R. Wyatt1,5, James O. Hill1\\n1Department of Nutrition Sciences, University of Alabama at Birmingham\\n2Department of Pediatrics, University of Colorado Anschutz Medical Campus\\n3Department of Family and Community Medicine, University of Alabama at Birmingham\\n4Division of Endocrinology, Metabolism and Diabetes, University of Colorado School of Medicine, \\nAurora, Colorado\\n5Anschutz Health and Wellness Center, University of Colorado Anschutz Medical Campus\\nAbstract\\nObjective:\\xa0 Weight loss of ≥10% improves glucose control and may remit type 2 diabetes \\n(T2D). High protein (HP) diets are commonly used for weight loss, but whether protein \\nsources, especially red meat, impact weight loss-induced T2D management is unknown. This \\ntrial compared a HP diet including red meat and normal protein (NP) without red meat for weight \\nloss, body composition changes, and glucose control in individuals with T2D.\\nMethods:\\xa0 106 adults (80 female) with T2D consumed a HP (40% protein) diet with ≥4 weekly \\nservings of lean beef or a NP (21% protein) diet excluding red meat during a 52-week weight \\nloss intervention. Body weight, body composition, and cardiometabolic parameters were measured \\nbefore and after intervention.\\nResults:\\xa0 Weight loss was not different between HP (−10.2±1.6 kg) and NP (−12.7±4.8 kg, \\np=0.336). Both groups reduced fat mass and increased fat free mass percent. Hemoglobin A1c, \\nglucose, insulin, insulin resistance, blood pressure, and triglycerides improved with no differences \\nbetween groups.\\nConclusions:\\xa0 The lack of observed effects of dietary protein and red meat consumption on \\nweight loss and improved cardiometabolic health suggest that achieved weight loss – rather than'),\n",
       "  Document(metadata={}, page_content='major cardiovascular events among individuals with type 2 diabetes mellitus: a systematic review \\nand meta-analysis. Cardiovascular Diabetology, 2022. 21(1): p. 78. [PubMed: 35578337] \\n38. McAuley K, et al. , Comparison of high-fat and high-protein diets with a high-carbohydrate diet in \\ninsulin-resistant obese women. Diabetologia, 2005. 48: p. 8–16. [PubMed: 15616799] Clina et al. Page 11\\nObesity (Silver Spring) . Author manuscript; available in PMC 2024 August 01.\\nAuthor Manuscript Author Manuscript Author Manuscript Author ManuscriptWhat is already known about this subject?\\n• Weight loss of ≥10% improves can improve glucose control and even remit \\ntype 2 diabetes for some\\n• High protein diets can produce greater weight loss and prevent loss of fat free \\nmass compared to diets lower in protein\\n• Some observational studies recommend limiting red meat consumption to \\nreduce risk for type 2 diabetes, but data from randomized clinical trials \\ngenerally find little to no independent effect of lean red meat consumption.\\nWhat are the new findings in your manuscript?\\n• Both a normal protein diet excluding red meat and a high protein diet \\ncontaining red meat are effective at producing weight loss and improvements \\nin glucose control\\nHow might your results change the direction of research or the focus of clinical \\npractice?\\n• Weight loss, not diet composition, is the primary driver of type 2 diabetes \\nmanagement\\n• Avoiding red meat does not provide additional benefit for weight loss or \\nimprovements in glucose control during a weight loss interventionClina et al. Page 12\\nObesity (Silver Spring) . Author manuscript; available in PMC 2024 August 01.\\nAuthor Manuscript Author Manuscript Author Manuscript Author ManuscriptFigure 1. CONSORT Diagram\\nDiagram of participant flow.Clina et al. Page 13\\nObesity (Silver Spring) . Author manuscript; available in PMC 2024 August 01.'),\n",
       "  Document(metadata={}, page_content='Clinics, 2003. 32(4): p. 805–822. [PubMed: 14711063] \\n13. Apovian CM, Obesity: definition, comorbidities, causes, and burden. Am J Manag Care, 2016. \\n22(7 Suppl): p. s176–85. [PubMed: 27356115] \\n14. Schelbert KB, Comorbidities of obesity. Primary Care: Clinics in Office Practice, 2009. 36(2): p. \\n271–285. [PubMed: 19501243] \\n15. Lean ME, et al. , Primary care-led weight management for remission of type 2 diabetes (DiRECT): \\nan open-label, cluster-randomised trial. The Lancet, 2018. 391(10120): p. 541–551.\\n16. Wycherley TP, et al. , Effects of energy-restricted high-protein, low-fat compared with standard-\\nprotein, low-fat diets: a meta-analysis of randomized controlled trials. The American journal of \\nclinical nutrition, 2012. 96(6): p. 1281–1298. [PubMed: 23097268] \\n17. Wycherley TP, et al. , A high-protein diet with resistance exercise training improves weight loss \\nand body composition in overweight and obese patients with type 2 diabetes. Diabetes care, 2010. \\n33(5): p. 969–976. [PubMed: 20150293] \\n18. Leidy HJ, et al. , The role of protein in weight loss and maintenance. The American journal of \\nclinical nutrition, 2015. 101(6): p. 1320S–1329S. [PubMed: 25926512] \\n19. Kitabchi AE, et al. , Effects of high-protein versus high-carbohydrate diets on markers of β-cell \\nfunction, oxidative stress, lipid peroxidation, proinflammatory cytokines, and adipokines in obese, \\npremenopausal women without diabetes: a randomized controlled trial. Diabetes care, 2013. 36(7): \\np. 1919–1925. [PubMed: 23404297] \\n20. Smith Gordon I., et al. , High-Protein Intake during Weight Loss Therapy Eliminates the Weight-\\nLoss-Induced Improvement in Insulin Action in Obese Postmenopausal Women. Cell Reports, \\n2016. 17(3): p. 849–861. [PubMed: 27732859] Clina et al. Page 10\\nObesity (Silver Spring) . Author manuscript; available in PMC 2024 August 01.')],\n",
       " 'answer': 'This randomized trial compared a high protein (40% of total calories) diet that included lean beef with a normal protein (21% of total calories) diet that excluded red meat.  Both diets were part of a 52-week weight loss intervention for adults with type 2 diabetes.\\n\\nThe results showed no significant difference in weight loss between the two groups.  Furthermore, both groups experienced similar improvements in body composition (reduced fat mass, increased fat-free mass percentage), hemoglobin A1c, glucose levels, insulin levels, insulin resistance, blood pressure, and triglycerides.\\n\\nThe study concluded that the amount of weight loss, rather than the specific protein level or inclusion/exclusion of red meat, was the primary factor driving the observed improvements in type 2 diabetes management.\\n'}"
      ]
     },
     "execution_count": 34,
     "metadata": {},
     "output_type": "execute_result"
    }
   ],
   "source": [
    "conversational_retrieval_chain.invoke(\n",
    "    {\n",
    "        \"messages\": [\n",
    "            HumanMessage(content=\"What is the difference between high and medium protein-based diets?\"),\n",
    "            AIMessage(\n",
    "                content=\"he study found that both high and normal protein diets improved body composition and glucose control in adults with type 2 diabetes. The lack of observed effects of dietary protein and red meat consumption on weight loss and improved cardiometabolic health suggest that achieved weight loss – rather than diet composition – should be the principal target of dietary interventions for T2D management.\"\n",
    "            ),\n",
    "            HumanMessage(content=\"Tell me more!\"),\n",
    "        ],\n",
    "    }\n",
    "    )"
   ]
  },
  {
   "cell_type": "markdown",
   "metadata": {},
   "source": [
    "### Step 22: Wrapping the Conversational Retrieval Pipeline in a Function\n",
    "\n",
    "This step wraps the entire conversational retrieval-augmented generation (RAG) pipeline into a single reusable function. The function manages the conversation history, tracks the query, and generates answers, ensuring a seamless user experience.\n",
    "\n",
    "It is decorated with `@weave.op()` to log and track the process in **Weights & Biases** (Weave).\n",
    "\n",
    "The `@weave.op()` decorator ensures that each query and response are logged in **Weights & Biases**, enabling tracking, monitoring, and debugging of the conversational process.\n",
    "\n",
    "5. **Example Usage**:\n",
    "   ```python\n",
    "   conversation = {\"messages\": []}\n",
    "   print(await get_answer(\"What is the difference between high and medium protein-based diets?\", conversation))\n",
    "   print(await get_answer(\"Tell me more!\", conversation)"
   ]
  },
  {
   "cell_type": "code",
   "execution_count": 35,
   "metadata": {},
   "outputs": [],
   "source": [
    "@weave.op()\n",
    "async def get_answer(question: str, messages: dict):\n",
    "    \"\"\"\n",
    "    Handles user queries by appending them to the conversation history, \n",
    "    processing the query through the conversational retrieval chain, \n",
    "    and appending the AI's response back to the messages.\n",
    "\n",
    "    Parameters:\n",
    "    - question (str): The user's input question.\n",
    "    - messages (dict): A dictionary containing the conversation history \n",
    "                       with a \"messages\" key holding a list of message objects.\n",
    "\n",
    "    Returns:\n",
    "    - str: The generated answer from the system.\n",
    "    \"\"\"\n",
    "    # Add the user's question to the conversation history\n",
    "    messages[\"messages\"].append(HumanMessage(content=question))\n",
    "    \n",
    "    # Process the query through the conversational retrieval chain\n",
    "    answer = conversational_retrieval_chain.invoke(messages)\n",
    "    \n",
    "    # Add the system's response to the conversation history\n",
    "    messages[\"messages\"].append(AIMessage(content=answer[\"answer\"]))\n",
    "    \n",
    "    # Return the generated answer\n",
    "    return answer[\"answer\"]"
   ]
  },
  {
   "cell_type": "code",
   "execution_count": 36,
   "metadata": {},
   "outputs": [
    {
     "name": "stdout",
     "output_type": "stream",
     "text": [
      "🍩 https://wandb.ai/j-r-heierli-zhaw/medical-data-chatbot/r/call/01969bf7-9e2c-7ab1-bc0d-887658a66e33\n",
      "This study compared high protein (40%) and normal protein (21%) diets.  It found no significant difference in weight loss between the two. Both groups experienced similar improvements in body composition, A1c, glucose, insulin, insulin resistance, blood pressure, and triglycerides.\n",
      "\n"
     ]
    }
   ],
   "source": [
    "\n",
    "messages = {\"messages\": []} \n",
    "answer = asyncio.get_event_loop().run_until_complete(get_answer(\"What is the difference between high and medium protein-based diets?\", messages))\n",
    "print(answer) "
   ]
  },
  {
   "cell_type": "markdown",
   "metadata": {},
   "source": [
    "<p style=\"color:green; font-size: 16px;\">\n",
    "<b>Exercise: Testing the Full Retrieval-Augmented Generation (RAG) Pipeline</b><br>\n",
    "<b>Goal:</b> Evaluate the performance of the complete RAG pipeline by testing it with diverse queries and identifying its strengths and weaknesses.<br><br>\n",
    "\n",
    "<b>Instructions:</b><br>\n",
    "<ul style=\"color:green;\">\n",
    "<li><b>Prepare a Set of Queries:</b></li>\n",
    "<ul style=\"color:green;\">\n",
    "    <li>Create at least five queries that vary in nature, including:</li>\n",
    "    <ul style=\"color:green;\">\n",
    "        <li>A highly specific query.</li>\n",
    "        <li>A vague or open-ended query.</li>\n",
    "        <li>A multi-part or follow-up query.</li>\n",
    "    </ul>\n",
    "</ul>\n",
    "<li><b>Run the Pipeline:</b></li>\n",
    "<ul style=\"color:green;\">\n",
    "    <li>Input each query into the full RAG pipeline.</li>\n",
    "    <li>Observe and document the generated responses, including:</li>\n",
    "    <ul style=\"color:green;\">\n",
    "        <li>The documents retrieved.</li>\n",
    "        <li>The final generated output.</li>\n",
    "    </ul>\n",
    "</ul>\n",
    "<li><b>Analyze Performance:</b></li>\n",
    "<ul style=\"color:green;\">\n",
    "    <li>For each query, analyze:</li>\n",
    "    <ul style=\"color:green;\">\n",
    "        <li><b>Strengths:</b> What aspects of the query were handled well (e.g., relevance, coherence, accuracy)?</li>\n",
    "        <li><b>Weaknesses:</b> What challenges did the pipeline face (e.g., irrelevant documents, poor contextual understanding, incomplete answers)?</li>\n",
    "        <li><b>Patterns:</b> Are there consistent issues or successes across the queries?</li>\n",
    "    </ul>\n",
    "</ul>\n",
    "<li><b>Document Findings:</b></li>\n",
    "<ul style=\"color:green;\">\n",
    "    <li>Checke the following in weave:</li>\n",
    "    <ul style=\"color:green;\">\n",
    "        <li><b>Query type.</b></li>\n",
    "        <li><b>Retrieved documents</b> (relevance and quality).</li>\n",
    "        <li><b>Generated output</b> (clarity and accuracy).</li>\n",
    "        <li><b>Overall evaluation</b> (what worked, what didn’t).</li>\n",
    "    </ul>\n",
    "</ul>\n",
    "</ul>\n",
    "\n",
    "<b>Purpose:</b> This exercise helps you critically evaluate the end-to-end functionality of the RAG pipeline, highlighting areas of success and identifying limitations that could guide future improvements.\n",
    "</p>"
   ]
  },
  {
   "cell_type": "code",
   "execution_count": 37,
   "metadata": {},
   "outputs": [
    {
     "name": "stdout",
     "output_type": "stream",
     "text": [
      "🍩 https://wandb.ai/j-r-heierli-zhaw/medical-data-chatbot/r/call/01969bfd-698e-7ef2-87d5-fa30f6bd5d2d\n",
      "This study measured changes in fat-free mass (which includes lean muscle mass). Both high protein and normal protein groups increased their fat-free mass percent.  The study also measured blood urea nitrogen (BUN), a marker of renal function. Both groups increased BUN from baseline to week 52. There were no differences in these changes between the high protein and normal protein groups.\n",
      "\n"
     ]
    }
   ],
   "source": [
    "messages = {\"messages\": []} \n",
    "answer = asyncio.get_event_loop().run_until_complete(get_answer(\"how does high‑protein diet versus a low‑protein diet affect lean muscle mass retention and markers of renal function?\", messages))\n",
    "print(answer) "
   ]
  },
  {
   "cell_type": "code",
   "execution_count": 38,
   "metadata": {},
   "outputs": [
    {
     "name": "stdout",
     "output_type": "stream",
     "text": [
      "🍩 https://wandb.ai/j-r-heierli-zhaw/medical-data-chatbot/r/call/01969bfd-b31d-7102-84a6-abd53d5134dc\n",
      "This article focuses on the effects of high-protein versus normal-protein diets, not low-protein diets.  It finds no significant difference in weight loss between high-protein and normal-protein diets for people with type 2 diabetes. Both groups experienced similar improvements in body composition, glucose control, blood pressure, and triglycerides.  The article does not discuss the pros and cons of low-protein diets.\n",
      "\n"
     ]
    }
   ],
   "source": [
    "messages = {\"messages\": []} \n",
    "answer = asyncio.get_event_loop().run_until_complete(get_answer(\"What are the pros and cons of low‑protein versus high‑protein diets?\", messages))\n",
    "print(answer) "
   ]
  },
  {
   "cell_type": "code",
   "execution_count": 39,
   "metadata": {},
   "outputs": [
    {
     "name": "stdout",
     "output_type": "stream",
     "text": [
      "🍩 https://wandb.ai/j-r-heierli-zhaw/medical-data-chatbot/r/call/01969bfe-e0e1-7632-a3f3-da4463cd0309\n",
      "Both diet groups (HP and NP) reduced systolic and diastolic blood pressures from baseline to week 52.  The HP group's systolic blood pressure decreased by 9 mmHg (95% CI: -13.0, -5.1), and their diastolic blood pressure decreased by 7 mmHg (95% CI: -10.2, -4.2).  The NP group's systolic blood pressure decreased by 8 mmHg (95% CI: -12.2, -3.9), and their diastolic blood pressure decreased by 6 mmHg (95% CI: -8.6, -2.3).\n",
      "\n"
     ]
    }
   ],
   "source": [
    "messages = {\"messages\": []} \n",
    "answer = asyncio.get_event_loop().run_until_complete(get_answer(\"Can you tell me then how blood pressure improved?\", messages))\n",
    "print(answer) "
   ]
  },
  {
   "cell_type": "code",
   "execution_count": null,
   "metadata": {},
   "outputs": [],
   "source": []
  }
 ],
 "metadata": {
  "kernelspec": {
   "display_name": "Python 3",
   "language": "python",
   "name": "python3"
  },
  "language_info": {
   "codemirror_mode": {
    "name": "ipython",
    "version": 3
   },
   "file_extension": ".py",
   "mimetype": "text/x-python",
   "name": "python",
   "nbconvert_exporter": "python",
   "pygments_lexer": "ipython3",
   "version": "3.12.1"
  }
 },
 "nbformat": 4,
 "nbformat_minor": 2
}
